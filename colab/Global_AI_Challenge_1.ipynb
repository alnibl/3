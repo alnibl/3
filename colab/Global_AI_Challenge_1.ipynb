{
  "cells": [
    {
      "cell_type": "markdown",
      "metadata": {
        "id": "view-in-github",
        "colab_type": "text"
      },
      "source": [
        "<a href=\"https://colab.research.google.com/github/alnibl/3/blob/master/colab/Global_AI_Challenge_1.ipynb\" target=\"_parent\"><img src=\"https://colab.research.google.com/assets/colab-badge.svg\" alt=\"Open In Colab\"/></a>"
      ]
    },
    {
      "cell_type": "code",
      "execution_count": 1,
      "metadata": {
        "id": "pO2kiLvWjMcU"
      },
      "outputs": [],
      "source": [
        "from tensorflow.keras.models import Model, Sequential \n",
        "from tensorflow.keras.layers import Dense, Flatten, Reshape, Input, Conv2DTranspose, concatenate, Activation, MaxPooling2D, Conv2D, BatchNormalization, Dropout\n",
        "from tensorflow.keras import backend as K \n",
        "from tensorflow.keras.optimizers import Adam \n",
        "from tensorflow.keras import utils \n",
        "import matplotlib.pyplot as plt \n",
        "from tensorflow.keras.preprocessing import image \n",
        "import numpy as np \n",
        "import pandas as pd \n",
        "from PIL import Image \n",
        "from sklearn.model_selection import train_test_split \n",
        "from sklearn.preprocessing import StandardScaler # модуль для стандартизации данных\n",
        "\n",
        "from tensorflow.keras.preprocessing.text import Tokenizer # Методы для работы с текстами и преобразования их в последовательности\n",
        "from tensorflow.keras.preprocessing.sequence import pad_sequences # Метод для работы с последовательностями\n",
        "from sklearn.preprocessing import LabelEncoder # Метод кодирования тестовых лейблов\n",
        "\n",
        "import os \n",
        "import time"
      ]
    },
    {
      "cell_type": "code",
      "execution_count": null,
      "metadata": {
        "id": "IvxgSdTpJKgk"
      },
      "outputs": [],
      "source": [
        "from google.colab import drive\n",
        "drive.mount('/content/drive')"
      ]
    },
    {
      "cell_type": "code",
      "execution_count": null,
      "metadata": {
        "id": "-wUQT-70lHVB"
      },
      "outputs": [],
      "source": [
        "df_test = pd.read_csv('/content/test.csv')\n",
        "df_train = pd.read_csv('/content/train.csv')"
      ]
    },
    {
      "cell_type": "code",
      "execution_count": null,
      "metadata": {
        "colab": {
          "base_uri": "https://localhost:8080/",
          "height": 424
        },
        "id": "s2-44JSAmSzX",
        "outputId": "bc8da671-a0a9-408e-8ec2-d2377b5a9bb5"
      },
      "outputs": [
        {
          "output_type": "execute_result",
          "data": {
            "text/html": [
              "\n",
              "  <div id=\"df-e3c7ec7b-c090-4945-b4a6-8365aedf1e95\">\n",
              "    <div class=\"colab-df-container\">\n",
              "      <div>\n",
              "<style scoped>\n",
              "    .dataframe tbody tr th:only-of-type {\n",
              "        vertical-align: middle;\n",
              "    }\n",
              "\n",
              "    .dataframe tbody tr th {\n",
              "        vertical-align: top;\n",
              "    }\n",
              "\n",
              "    .dataframe thead th {\n",
              "        text-align: right;\n",
              "    }\n",
              "</style>\n",
              "<table border=\"1\" class=\"dataframe\">\n",
              "  <thead>\n",
              "    <tr style=\"text-align: right;\">\n",
              "      <th></th>\n",
              "      <th>Unnamed: 0</th>\n",
              "      <th>Smiles</th>\n",
              "    </tr>\n",
              "  </thead>\n",
              "  <tbody>\n",
              "    <tr>\n",
              "      <th>0</th>\n",
              "      <td>0</td>\n",
              "      <td>COC(=O)Nc1ccc(-c2nc(N3CCOCC3)c3cnn(C4CCN(Cc5cc...</td>\n",
              "    </tr>\n",
              "    <tr>\n",
              "      <th>1</th>\n",
              "      <td>1</td>\n",
              "      <td>O=Cc1cn(Cc2ccc(Cl)cc2)c2ccccc12</td>\n",
              "    </tr>\n",
              "    <tr>\n",
              "      <th>2</th>\n",
              "      <td>2</td>\n",
              "      <td>NC(CO)C(=O)NNCc1ccc(O)c(O)c1O</td>\n",
              "    </tr>\n",
              "    <tr>\n",
              "      <th>3</th>\n",
              "      <td>3</td>\n",
              "      <td>Nc1nc(=O)n([C@H]2C[C@H](O)[C@@H](CO)O2)cc1Cl</td>\n",
              "    </tr>\n",
              "    <tr>\n",
              "      <th>4</th>\n",
              "      <td>4</td>\n",
              "      <td>Nc1ccc(C(=O)Nc2cccc(-c3nc(N4CCOCC4)c4oc5ncccc5...</td>\n",
              "    </tr>\n",
              "    <tr>\n",
              "      <th>...</th>\n",
              "      <td>...</td>\n",
              "      <td>...</td>\n",
              "    </tr>\n",
              "    <tr>\n",
              "      <th>1609</th>\n",
              "      <td>1609</td>\n",
              "      <td>NS(=O)(=O)c1cc2c(cc1Cl)NC(C1CC3C=CC1C3)NS2(=O)=O</td>\n",
              "    </tr>\n",
              "    <tr>\n",
              "      <th>1610</th>\n",
              "      <td>1610</td>\n",
              "      <td>Cc1cccc(Nc2ccncc2S(=O)(=O)NC(=O)NC(C)C)c1</td>\n",
              "    </tr>\n",
              "    <tr>\n",
              "      <th>1611</th>\n",
              "      <td>1611</td>\n",
              "      <td>CCCC(=O)O[C@]1(C(=O)CO)CC[C@H]2[C@@H]3CCC4=CC(...</td>\n",
              "    </tr>\n",
              "    <tr>\n",
              "      <th>1612</th>\n",
              "      <td>1612</td>\n",
              "      <td>CN(C)c1cccc(Oc2cnc(Nc3cccc(O)c3)nc2)c1</td>\n",
              "    </tr>\n",
              "    <tr>\n",
              "      <th>1613</th>\n",
              "      <td>1613</td>\n",
              "      <td>O=C(O)c1ccccc1-c1c2ccc(=O)cc-2oc2cc(O)ccc12</td>\n",
              "    </tr>\n",
              "  </tbody>\n",
              "</table>\n",
              "<p>1614 rows × 2 columns</p>\n",
              "</div>\n",
              "      <button class=\"colab-df-convert\" onclick=\"convertToInteractive('df-e3c7ec7b-c090-4945-b4a6-8365aedf1e95')\"\n",
              "              title=\"Convert this dataframe to an interactive table.\"\n",
              "              style=\"display:none;\">\n",
              "        \n",
              "  <svg xmlns=\"http://www.w3.org/2000/svg\" height=\"24px\"viewBox=\"0 0 24 24\"\n",
              "       width=\"24px\">\n",
              "    <path d=\"M0 0h24v24H0V0z\" fill=\"none\"/>\n",
              "    <path d=\"M18.56 5.44l.94 2.06.94-2.06 2.06-.94-2.06-.94-.94-2.06-.94 2.06-2.06.94zm-11 1L8.5 8.5l.94-2.06 2.06-.94-2.06-.94L8.5 2.5l-.94 2.06-2.06.94zm10 10l.94 2.06.94-2.06 2.06-.94-2.06-.94-.94-2.06-.94 2.06-2.06.94z\"/><path d=\"M17.41 7.96l-1.37-1.37c-.4-.4-.92-.59-1.43-.59-.52 0-1.04.2-1.43.59L10.3 9.45l-7.72 7.72c-.78.78-.78 2.05 0 2.83L4 21.41c.39.39.9.59 1.41.59.51 0 1.02-.2 1.41-.59l7.78-7.78 2.81-2.81c.8-.78.8-2.07 0-2.86zM5.41 20L4 18.59l7.72-7.72 1.47 1.35L5.41 20z\"/>\n",
              "  </svg>\n",
              "      </button>\n",
              "      \n",
              "  <style>\n",
              "    .colab-df-container {\n",
              "      display:flex;\n",
              "      flex-wrap:wrap;\n",
              "      gap: 12px;\n",
              "    }\n",
              "\n",
              "    .colab-df-convert {\n",
              "      background-color: #E8F0FE;\n",
              "      border: none;\n",
              "      border-radius: 50%;\n",
              "      cursor: pointer;\n",
              "      display: none;\n",
              "      fill: #1967D2;\n",
              "      height: 32px;\n",
              "      padding: 0 0 0 0;\n",
              "      width: 32px;\n",
              "    }\n",
              "\n",
              "    .colab-df-convert:hover {\n",
              "      background-color: #E2EBFA;\n",
              "      box-shadow: 0px 1px 2px rgba(60, 64, 67, 0.3), 0px 1px 3px 1px rgba(60, 64, 67, 0.15);\n",
              "      fill: #174EA6;\n",
              "    }\n",
              "\n",
              "    [theme=dark] .colab-df-convert {\n",
              "      background-color: #3B4455;\n",
              "      fill: #D2E3FC;\n",
              "    }\n",
              "\n",
              "    [theme=dark] .colab-df-convert:hover {\n",
              "      background-color: #434B5C;\n",
              "      box-shadow: 0px 1px 3px 1px rgba(0, 0, 0, 0.15);\n",
              "      filter: drop-shadow(0px 1px 2px rgba(0, 0, 0, 0.3));\n",
              "      fill: #FFFFFF;\n",
              "    }\n",
              "  </style>\n",
              "\n",
              "      <script>\n",
              "        const buttonEl =\n",
              "          document.querySelector('#df-e3c7ec7b-c090-4945-b4a6-8365aedf1e95 button.colab-df-convert');\n",
              "        buttonEl.style.display =\n",
              "          google.colab.kernel.accessAllowed ? 'block' : 'none';\n",
              "\n",
              "        async function convertToInteractive(key) {\n",
              "          const element = document.querySelector('#df-e3c7ec7b-c090-4945-b4a6-8365aedf1e95');\n",
              "          const dataTable =\n",
              "            await google.colab.kernel.invokeFunction('convertToInteractive',\n",
              "                                                     [key], {});\n",
              "          if (!dataTable) return;\n",
              "\n",
              "          const docLinkHtml = 'Like what you see? Visit the ' +\n",
              "            '<a target=\"_blank\" href=https://colab.research.google.com/notebooks/data_table.ipynb>data table notebook</a>'\n",
              "            + ' to learn more about interactive tables.';\n",
              "          element.innerHTML = '';\n",
              "          dataTable['output_type'] = 'display_data';\n",
              "          await google.colab.output.renderOutput(dataTable, element);\n",
              "          const docLink = document.createElement('div');\n",
              "          docLink.innerHTML = docLinkHtml;\n",
              "          element.appendChild(docLink);\n",
              "        }\n",
              "      </script>\n",
              "    </div>\n",
              "  </div>\n",
              "  "
            ],
            "text/plain": [
              "      Unnamed: 0                                             Smiles\n",
              "0              0  COC(=O)Nc1ccc(-c2nc(N3CCOCC3)c3cnn(C4CCN(Cc5cc...\n",
              "1              1                    O=Cc1cn(Cc2ccc(Cl)cc2)c2ccccc12\n",
              "2              2                      NC(CO)C(=O)NNCc1ccc(O)c(O)c1O\n",
              "3              3       Nc1nc(=O)n([C@H]2C[C@H](O)[C@@H](CO)O2)cc1Cl\n",
              "4              4  Nc1ccc(C(=O)Nc2cccc(-c3nc(N4CCOCC4)c4oc5ncccc5...\n",
              "...          ...                                                ...\n",
              "1609        1609   NS(=O)(=O)c1cc2c(cc1Cl)NC(C1CC3C=CC1C3)NS2(=O)=O\n",
              "1610        1610          Cc1cccc(Nc2ccncc2S(=O)(=O)NC(=O)NC(C)C)c1\n",
              "1611        1611  CCCC(=O)O[C@]1(C(=O)CO)CC[C@H]2[C@@H]3CCC4=CC(...\n",
              "1612        1612             CN(C)c1cccc(Oc2cnc(Nc3cccc(O)c3)nc2)c1\n",
              "1613        1613        O=C(O)c1ccccc1-c1c2ccc(=O)cc-2oc2cc(O)ccc12\n",
              "\n",
              "[1614 rows x 2 columns]"
            ]
          },
          "metadata": {},
          "execution_count": 3
        }
      ],
      "source": [
        "df_test"
      ]
    },
    {
      "cell_type": "code",
      "execution_count": null,
      "metadata": {
        "colab": {
          "base_uri": "https://localhost:8080/",
          "height": 424
        },
        "id": "GGjalDubmkKL",
        "outputId": "4fe5574f-0e6a-4638-805c-fbb503495af7"
      },
      "outputs": [
        {
          "output_type": "execute_result",
          "data": {
            "text/html": [
              "\n",
              "  <div id=\"df-703dd020-4630-46a5-80ef-870d90b24d4f\">\n",
              "    <div class=\"colab-df-container\">\n",
              "      <div>\n",
              "<style scoped>\n",
              "    .dataframe tbody tr th:only-of-type {\n",
              "        vertical-align: middle;\n",
              "    }\n",
              "\n",
              "    .dataframe tbody tr th {\n",
              "        vertical-align: top;\n",
              "    }\n",
              "\n",
              "    .dataframe thead th {\n",
              "        text-align: right;\n",
              "    }\n",
              "</style>\n",
              "<table border=\"1\" class=\"dataframe\">\n",
              "  <thead>\n",
              "    <tr style=\"text-align: right;\">\n",
              "      <th></th>\n",
              "      <th>Unnamed: 0</th>\n",
              "      <th>Smiles</th>\n",
              "      <th>Active</th>\n",
              "    </tr>\n",
              "  </thead>\n",
              "  <tbody>\n",
              "    <tr>\n",
              "      <th>0</th>\n",
              "      <td>0</td>\n",
              "      <td>COc1ccc2[nH]cc(CCN)c2c1</td>\n",
              "      <td>False</td>\n",
              "    </tr>\n",
              "    <tr>\n",
              "      <th>1</th>\n",
              "      <td>1</td>\n",
              "      <td>CCCN1CCC[C@H](c2cccc(O)c2)C1.Cl</td>\n",
              "      <td>False</td>\n",
              "    </tr>\n",
              "    <tr>\n",
              "      <th>2</th>\n",
              "      <td>2</td>\n",
              "      <td>O=C(NO)c1cnc(N2CCN(S(=O)(=O)c3ccc4ccccc4c3)CC2...</td>\n",
              "      <td>False</td>\n",
              "    </tr>\n",
              "    <tr>\n",
              "      <th>3</th>\n",
              "      <td>3</td>\n",
              "      <td>Nc1cccc(CNC(=O)c2ccc(Oc3ccc(OCc4cccc(F)c4)cc3)...</td>\n",
              "      <td>False</td>\n",
              "    </tr>\n",
              "    <tr>\n",
              "      <th>4</th>\n",
              "      <td>4</td>\n",
              "      <td>Fc1ccccc1CNCc1ccc(-c2ccnc3[nH]ccc23)cc1</td>\n",
              "      <td>False</td>\n",
              "    </tr>\n",
              "    <tr>\n",
              "      <th>...</th>\n",
              "      <td>...</td>\n",
              "      <td>...</td>\n",
              "      <td>...</td>\n",
              "    </tr>\n",
              "    <tr>\n",
              "      <th>5552</th>\n",
              "      <td>5552</td>\n",
              "      <td>O=C(Oc1ccc([N+](=O)[O-])cc1)N1CCC(C(O)(c2ccc3c...</td>\n",
              "      <td>False</td>\n",
              "    </tr>\n",
              "    <tr>\n",
              "      <th>5553</th>\n",
              "      <td>5553</td>\n",
              "      <td>Nc1nonc1/C(=N/O)Nc1ccc(F)c(Br)c1</td>\n",
              "      <td>False</td>\n",
              "    </tr>\n",
              "    <tr>\n",
              "      <th>5554</th>\n",
              "      <td>5554</td>\n",
              "      <td>Oc1cccc2cccnc12</td>\n",
              "      <td>False</td>\n",
              "    </tr>\n",
              "    <tr>\n",
              "      <th>5555</th>\n",
              "      <td>5555</td>\n",
              "      <td>OC(c1ccc(-c2ccc(CN3CCN(Cc4ccncc4)CC3)cc2)c(F)c...</td>\n",
              "      <td>False</td>\n",
              "    </tr>\n",
              "    <tr>\n",
              "      <th>5556</th>\n",
              "      <td>5556</td>\n",
              "      <td>CCCCNc1ccc(C(=O)OCCN(C)C)cc1.Cl</td>\n",
              "      <td>False</td>\n",
              "    </tr>\n",
              "  </tbody>\n",
              "</table>\n",
              "<p>5557 rows × 3 columns</p>\n",
              "</div>\n",
              "      <button class=\"colab-df-convert\" onclick=\"convertToInteractive('df-703dd020-4630-46a5-80ef-870d90b24d4f')\"\n",
              "              title=\"Convert this dataframe to an interactive table.\"\n",
              "              style=\"display:none;\">\n",
              "        \n",
              "  <svg xmlns=\"http://www.w3.org/2000/svg\" height=\"24px\"viewBox=\"0 0 24 24\"\n",
              "       width=\"24px\">\n",
              "    <path d=\"M0 0h24v24H0V0z\" fill=\"none\"/>\n",
              "    <path d=\"M18.56 5.44l.94 2.06.94-2.06 2.06-.94-2.06-.94-.94-2.06-.94 2.06-2.06.94zm-11 1L8.5 8.5l.94-2.06 2.06-.94-2.06-.94L8.5 2.5l-.94 2.06-2.06.94zm10 10l.94 2.06.94-2.06 2.06-.94-2.06-.94-.94-2.06-.94 2.06-2.06.94z\"/><path d=\"M17.41 7.96l-1.37-1.37c-.4-.4-.92-.59-1.43-.59-.52 0-1.04.2-1.43.59L10.3 9.45l-7.72 7.72c-.78.78-.78 2.05 0 2.83L4 21.41c.39.39.9.59 1.41.59.51 0 1.02-.2 1.41-.59l7.78-7.78 2.81-2.81c.8-.78.8-2.07 0-2.86zM5.41 20L4 18.59l7.72-7.72 1.47 1.35L5.41 20z\"/>\n",
              "  </svg>\n",
              "      </button>\n",
              "      \n",
              "  <style>\n",
              "    .colab-df-container {\n",
              "      display:flex;\n",
              "      flex-wrap:wrap;\n",
              "      gap: 12px;\n",
              "    }\n",
              "\n",
              "    .colab-df-convert {\n",
              "      background-color: #E8F0FE;\n",
              "      border: none;\n",
              "      border-radius: 50%;\n",
              "      cursor: pointer;\n",
              "      display: none;\n",
              "      fill: #1967D2;\n",
              "      height: 32px;\n",
              "      padding: 0 0 0 0;\n",
              "      width: 32px;\n",
              "    }\n",
              "\n",
              "    .colab-df-convert:hover {\n",
              "      background-color: #E2EBFA;\n",
              "      box-shadow: 0px 1px 2px rgba(60, 64, 67, 0.3), 0px 1px 3px 1px rgba(60, 64, 67, 0.15);\n",
              "      fill: #174EA6;\n",
              "    }\n",
              "\n",
              "    [theme=dark] .colab-df-convert {\n",
              "      background-color: #3B4455;\n",
              "      fill: #D2E3FC;\n",
              "    }\n",
              "\n",
              "    [theme=dark] .colab-df-convert:hover {\n",
              "      background-color: #434B5C;\n",
              "      box-shadow: 0px 1px 3px 1px rgba(0, 0, 0, 0.15);\n",
              "      filter: drop-shadow(0px 1px 2px rgba(0, 0, 0, 0.3));\n",
              "      fill: #FFFFFF;\n",
              "    }\n",
              "  </style>\n",
              "\n",
              "      <script>\n",
              "        const buttonEl =\n",
              "          document.querySelector('#df-703dd020-4630-46a5-80ef-870d90b24d4f button.colab-df-convert');\n",
              "        buttonEl.style.display =\n",
              "          google.colab.kernel.accessAllowed ? 'block' : 'none';\n",
              "\n",
              "        async function convertToInteractive(key) {\n",
              "          const element = document.querySelector('#df-703dd020-4630-46a5-80ef-870d90b24d4f');\n",
              "          const dataTable =\n",
              "            await google.colab.kernel.invokeFunction('convertToInteractive',\n",
              "                                                     [key], {});\n",
              "          if (!dataTable) return;\n",
              "\n",
              "          const docLinkHtml = 'Like what you see? Visit the ' +\n",
              "            '<a target=\"_blank\" href=https://colab.research.google.com/notebooks/data_table.ipynb>data table notebook</a>'\n",
              "            + ' to learn more about interactive tables.';\n",
              "          element.innerHTML = '';\n",
              "          dataTable['output_type'] = 'display_data';\n",
              "          await google.colab.output.renderOutput(dataTable, element);\n",
              "          const docLink = document.createElement('div');\n",
              "          docLink.innerHTML = docLinkHtml;\n",
              "          element.appendChild(docLink);\n",
              "        }\n",
              "      </script>\n",
              "    </div>\n",
              "  </div>\n",
              "  "
            ],
            "text/plain": [
              "      Unnamed: 0                                             Smiles  Active\n",
              "0              0                            COc1ccc2[nH]cc(CCN)c2c1   False\n",
              "1              1                    CCCN1CCC[C@H](c2cccc(O)c2)C1.Cl   False\n",
              "2              2  O=C(NO)c1cnc(N2CCN(S(=O)(=O)c3ccc4ccccc4c3)CC2...   False\n",
              "3              3  Nc1cccc(CNC(=O)c2ccc(Oc3ccc(OCc4cccc(F)c4)cc3)...   False\n",
              "4              4            Fc1ccccc1CNCc1ccc(-c2ccnc3[nH]ccc23)cc1   False\n",
              "...          ...                                                ...     ...\n",
              "5552        5552  O=C(Oc1ccc([N+](=O)[O-])cc1)N1CCC(C(O)(c2ccc3c...   False\n",
              "5553        5553                   Nc1nonc1/C(=N/O)Nc1ccc(F)c(Br)c1   False\n",
              "5554        5554                                    Oc1cccc2cccnc12   False\n",
              "5555        5555  OC(c1ccc(-c2ccc(CN3CCN(Cc4ccncc4)CC3)cc2)c(F)c...   False\n",
              "5556        5556                    CCCCNc1ccc(C(=O)OCCN(C)C)cc1.Cl   False\n",
              "\n",
              "[5557 rows x 3 columns]"
            ]
          },
          "metadata": {},
          "execution_count": 4
        }
      ],
      "source": [
        "df_train"
      ]
    },
    {
      "cell_type": "code",
      "source": [
        "df_train.isna()"
      ],
      "metadata": {
        "colab": {
          "base_uri": "https://localhost:8080/",
          "height": 424
        },
        "id": "q310G8kX9gfl",
        "outputId": "f9357ccc-b9e0-4e86-8495-f6eb0a7d3f16"
      },
      "execution_count": null,
      "outputs": [
        {
          "output_type": "execute_result",
          "data": {
            "text/html": [
              "\n",
              "  <div id=\"df-134a242e-8618-4395-9688-89972a947831\">\n",
              "    <div class=\"colab-df-container\">\n",
              "      <div>\n",
              "<style scoped>\n",
              "    .dataframe tbody tr th:only-of-type {\n",
              "        vertical-align: middle;\n",
              "    }\n",
              "\n",
              "    .dataframe tbody tr th {\n",
              "        vertical-align: top;\n",
              "    }\n",
              "\n",
              "    .dataframe thead th {\n",
              "        text-align: right;\n",
              "    }\n",
              "</style>\n",
              "<table border=\"1\" class=\"dataframe\">\n",
              "  <thead>\n",
              "    <tr style=\"text-align: right;\">\n",
              "      <th></th>\n",
              "      <th>Unnamed: 0</th>\n",
              "      <th>Smiles</th>\n",
              "      <th>Active</th>\n",
              "    </tr>\n",
              "  </thead>\n",
              "  <tbody>\n",
              "    <tr>\n",
              "      <th>0</th>\n",
              "      <td>False</td>\n",
              "      <td>False</td>\n",
              "      <td>False</td>\n",
              "    </tr>\n",
              "    <tr>\n",
              "      <th>1</th>\n",
              "      <td>False</td>\n",
              "      <td>False</td>\n",
              "      <td>False</td>\n",
              "    </tr>\n",
              "    <tr>\n",
              "      <th>2</th>\n",
              "      <td>False</td>\n",
              "      <td>False</td>\n",
              "      <td>False</td>\n",
              "    </tr>\n",
              "    <tr>\n",
              "      <th>3</th>\n",
              "      <td>False</td>\n",
              "      <td>False</td>\n",
              "      <td>False</td>\n",
              "    </tr>\n",
              "    <tr>\n",
              "      <th>4</th>\n",
              "      <td>False</td>\n",
              "      <td>False</td>\n",
              "      <td>False</td>\n",
              "    </tr>\n",
              "    <tr>\n",
              "      <th>...</th>\n",
              "      <td>...</td>\n",
              "      <td>...</td>\n",
              "      <td>...</td>\n",
              "    </tr>\n",
              "    <tr>\n",
              "      <th>5552</th>\n",
              "      <td>False</td>\n",
              "      <td>False</td>\n",
              "      <td>False</td>\n",
              "    </tr>\n",
              "    <tr>\n",
              "      <th>5553</th>\n",
              "      <td>False</td>\n",
              "      <td>False</td>\n",
              "      <td>False</td>\n",
              "    </tr>\n",
              "    <tr>\n",
              "      <th>5554</th>\n",
              "      <td>False</td>\n",
              "      <td>False</td>\n",
              "      <td>False</td>\n",
              "    </tr>\n",
              "    <tr>\n",
              "      <th>5555</th>\n",
              "      <td>False</td>\n",
              "      <td>False</td>\n",
              "      <td>False</td>\n",
              "    </tr>\n",
              "    <tr>\n",
              "      <th>5556</th>\n",
              "      <td>False</td>\n",
              "      <td>False</td>\n",
              "      <td>False</td>\n",
              "    </tr>\n",
              "  </tbody>\n",
              "</table>\n",
              "<p>5557 rows × 3 columns</p>\n",
              "</div>\n",
              "      <button class=\"colab-df-convert\" onclick=\"convertToInteractive('df-134a242e-8618-4395-9688-89972a947831')\"\n",
              "              title=\"Convert this dataframe to an interactive table.\"\n",
              "              style=\"display:none;\">\n",
              "        \n",
              "  <svg xmlns=\"http://www.w3.org/2000/svg\" height=\"24px\"viewBox=\"0 0 24 24\"\n",
              "       width=\"24px\">\n",
              "    <path d=\"M0 0h24v24H0V0z\" fill=\"none\"/>\n",
              "    <path d=\"M18.56 5.44l.94 2.06.94-2.06 2.06-.94-2.06-.94-.94-2.06-.94 2.06-2.06.94zm-11 1L8.5 8.5l.94-2.06 2.06-.94-2.06-.94L8.5 2.5l-.94 2.06-2.06.94zm10 10l.94 2.06.94-2.06 2.06-.94-2.06-.94-.94-2.06-.94 2.06-2.06.94z\"/><path d=\"M17.41 7.96l-1.37-1.37c-.4-.4-.92-.59-1.43-.59-.52 0-1.04.2-1.43.59L10.3 9.45l-7.72 7.72c-.78.78-.78 2.05 0 2.83L4 21.41c.39.39.9.59 1.41.59.51 0 1.02-.2 1.41-.59l7.78-7.78 2.81-2.81c.8-.78.8-2.07 0-2.86zM5.41 20L4 18.59l7.72-7.72 1.47 1.35L5.41 20z\"/>\n",
              "  </svg>\n",
              "      </button>\n",
              "      \n",
              "  <style>\n",
              "    .colab-df-container {\n",
              "      display:flex;\n",
              "      flex-wrap:wrap;\n",
              "      gap: 12px;\n",
              "    }\n",
              "\n",
              "    .colab-df-convert {\n",
              "      background-color: #E8F0FE;\n",
              "      border: none;\n",
              "      border-radius: 50%;\n",
              "      cursor: pointer;\n",
              "      display: none;\n",
              "      fill: #1967D2;\n",
              "      height: 32px;\n",
              "      padding: 0 0 0 0;\n",
              "      width: 32px;\n",
              "    }\n",
              "\n",
              "    .colab-df-convert:hover {\n",
              "      background-color: #E2EBFA;\n",
              "      box-shadow: 0px 1px 2px rgba(60, 64, 67, 0.3), 0px 1px 3px 1px rgba(60, 64, 67, 0.15);\n",
              "      fill: #174EA6;\n",
              "    }\n",
              "\n",
              "    [theme=dark] .colab-df-convert {\n",
              "      background-color: #3B4455;\n",
              "      fill: #D2E3FC;\n",
              "    }\n",
              "\n",
              "    [theme=dark] .colab-df-convert:hover {\n",
              "      background-color: #434B5C;\n",
              "      box-shadow: 0px 1px 3px 1px rgba(0, 0, 0, 0.15);\n",
              "      filter: drop-shadow(0px 1px 2px rgba(0, 0, 0, 0.3));\n",
              "      fill: #FFFFFF;\n",
              "    }\n",
              "  </style>\n",
              "\n",
              "      <script>\n",
              "        const buttonEl =\n",
              "          document.querySelector('#df-134a242e-8618-4395-9688-89972a947831 button.colab-df-convert');\n",
              "        buttonEl.style.display =\n",
              "          google.colab.kernel.accessAllowed ? 'block' : 'none';\n",
              "\n",
              "        async function convertToInteractive(key) {\n",
              "          const element = document.querySelector('#df-134a242e-8618-4395-9688-89972a947831');\n",
              "          const dataTable =\n",
              "            await google.colab.kernel.invokeFunction('convertToInteractive',\n",
              "                                                     [key], {});\n",
              "          if (!dataTable) return;\n",
              "\n",
              "          const docLinkHtml = 'Like what you see? Visit the ' +\n",
              "            '<a target=\"_blank\" href=https://colab.research.google.com/notebooks/data_table.ipynb>data table notebook</a>'\n",
              "            + ' to learn more about interactive tables.';\n",
              "          element.innerHTML = '';\n",
              "          dataTable['output_type'] = 'display_data';\n",
              "          await google.colab.output.renderOutput(dataTable, element);\n",
              "          const docLink = document.createElement('div');\n",
              "          docLink.innerHTML = docLinkHtml;\n",
              "          element.appendChild(docLink);\n",
              "        }\n",
              "      </script>\n",
              "    </div>\n",
              "  </div>\n",
              "  "
            ],
            "text/plain": [
              "      Unnamed: 0  Smiles  Active\n",
              "0          False   False   False\n",
              "1          False   False   False\n",
              "2          False   False   False\n",
              "3          False   False   False\n",
              "4          False   False   False\n",
              "...          ...     ...     ...\n",
              "5552       False   False   False\n",
              "5553       False   False   False\n",
              "5554       False   False   False\n",
              "5555       False   False   False\n",
              "5556       False   False   False\n",
              "\n",
              "[5557 rows x 3 columns]"
            ]
          },
          "metadata": {},
          "execution_count": 101
        }
      ]
    },
    {
      "cell_type": "code",
      "source": [
        "# оцениваю на пропуски\n",
        "df_train.isna().sum()"
      ],
      "metadata": {
        "colab": {
          "base_uri": "https://localhost:8080/"
        },
        "id": "HSBHONeD4FxW",
        "outputId": "9c9c7b66-3525-42d1-bad5-4290b6610793"
      },
      "execution_count": null,
      "outputs": [
        {
          "output_type": "execute_result",
          "data": {
            "text/plain": [
              "Unnamed: 0    0\n",
              "Smiles        0\n",
              "Active        0\n",
              "dtype: int64"
            ]
          },
          "metadata": {},
          "execution_count": 102
        }
      ]
    },
    {
      "cell_type": "code",
      "source": [
        "df_train.isnull()"
      ],
      "metadata": {
        "colab": {
          "base_uri": "https://localhost:8080/",
          "height": 424
        },
        "id": "cnJmy7oK6O-K",
        "outputId": "8cdbfa06-3333-4234-bee4-46857b1cef2e"
      },
      "execution_count": null,
      "outputs": [
        {
          "output_type": "execute_result",
          "data": {
            "text/html": [
              "\n",
              "  <div id=\"df-61bf56de-17cb-4e79-b683-043de89158c7\">\n",
              "    <div class=\"colab-df-container\">\n",
              "      <div>\n",
              "<style scoped>\n",
              "    .dataframe tbody tr th:only-of-type {\n",
              "        vertical-align: middle;\n",
              "    }\n",
              "\n",
              "    .dataframe tbody tr th {\n",
              "        vertical-align: top;\n",
              "    }\n",
              "\n",
              "    .dataframe thead th {\n",
              "        text-align: right;\n",
              "    }\n",
              "</style>\n",
              "<table border=\"1\" class=\"dataframe\">\n",
              "  <thead>\n",
              "    <tr style=\"text-align: right;\">\n",
              "      <th></th>\n",
              "      <th>Unnamed: 0</th>\n",
              "      <th>Smiles</th>\n",
              "      <th>Active</th>\n",
              "    </tr>\n",
              "  </thead>\n",
              "  <tbody>\n",
              "    <tr>\n",
              "      <th>0</th>\n",
              "      <td>False</td>\n",
              "      <td>False</td>\n",
              "      <td>False</td>\n",
              "    </tr>\n",
              "    <tr>\n",
              "      <th>1</th>\n",
              "      <td>False</td>\n",
              "      <td>False</td>\n",
              "      <td>False</td>\n",
              "    </tr>\n",
              "    <tr>\n",
              "      <th>2</th>\n",
              "      <td>False</td>\n",
              "      <td>False</td>\n",
              "      <td>False</td>\n",
              "    </tr>\n",
              "    <tr>\n",
              "      <th>3</th>\n",
              "      <td>False</td>\n",
              "      <td>False</td>\n",
              "      <td>False</td>\n",
              "    </tr>\n",
              "    <tr>\n",
              "      <th>4</th>\n",
              "      <td>False</td>\n",
              "      <td>False</td>\n",
              "      <td>False</td>\n",
              "    </tr>\n",
              "    <tr>\n",
              "      <th>...</th>\n",
              "      <td>...</td>\n",
              "      <td>...</td>\n",
              "      <td>...</td>\n",
              "    </tr>\n",
              "    <tr>\n",
              "      <th>5552</th>\n",
              "      <td>False</td>\n",
              "      <td>False</td>\n",
              "      <td>False</td>\n",
              "    </tr>\n",
              "    <tr>\n",
              "      <th>5553</th>\n",
              "      <td>False</td>\n",
              "      <td>False</td>\n",
              "      <td>False</td>\n",
              "    </tr>\n",
              "    <tr>\n",
              "      <th>5554</th>\n",
              "      <td>False</td>\n",
              "      <td>False</td>\n",
              "      <td>False</td>\n",
              "    </tr>\n",
              "    <tr>\n",
              "      <th>5555</th>\n",
              "      <td>False</td>\n",
              "      <td>False</td>\n",
              "      <td>False</td>\n",
              "    </tr>\n",
              "    <tr>\n",
              "      <th>5556</th>\n",
              "      <td>False</td>\n",
              "      <td>False</td>\n",
              "      <td>False</td>\n",
              "    </tr>\n",
              "  </tbody>\n",
              "</table>\n",
              "<p>5557 rows × 3 columns</p>\n",
              "</div>\n",
              "      <button class=\"colab-df-convert\" onclick=\"convertToInteractive('df-61bf56de-17cb-4e79-b683-043de89158c7')\"\n",
              "              title=\"Convert this dataframe to an interactive table.\"\n",
              "              style=\"display:none;\">\n",
              "        \n",
              "  <svg xmlns=\"http://www.w3.org/2000/svg\" height=\"24px\"viewBox=\"0 0 24 24\"\n",
              "       width=\"24px\">\n",
              "    <path d=\"M0 0h24v24H0V0z\" fill=\"none\"/>\n",
              "    <path d=\"M18.56 5.44l.94 2.06.94-2.06 2.06-.94-2.06-.94-.94-2.06-.94 2.06-2.06.94zm-11 1L8.5 8.5l.94-2.06 2.06-.94-2.06-.94L8.5 2.5l-.94 2.06-2.06.94zm10 10l.94 2.06.94-2.06 2.06-.94-2.06-.94-.94-2.06-.94 2.06-2.06.94z\"/><path d=\"M17.41 7.96l-1.37-1.37c-.4-.4-.92-.59-1.43-.59-.52 0-1.04.2-1.43.59L10.3 9.45l-7.72 7.72c-.78.78-.78 2.05 0 2.83L4 21.41c.39.39.9.59 1.41.59.51 0 1.02-.2 1.41-.59l7.78-7.78 2.81-2.81c.8-.78.8-2.07 0-2.86zM5.41 20L4 18.59l7.72-7.72 1.47 1.35L5.41 20z\"/>\n",
              "  </svg>\n",
              "      </button>\n",
              "      \n",
              "  <style>\n",
              "    .colab-df-container {\n",
              "      display:flex;\n",
              "      flex-wrap:wrap;\n",
              "      gap: 12px;\n",
              "    }\n",
              "\n",
              "    .colab-df-convert {\n",
              "      background-color: #E8F0FE;\n",
              "      border: none;\n",
              "      border-radius: 50%;\n",
              "      cursor: pointer;\n",
              "      display: none;\n",
              "      fill: #1967D2;\n",
              "      height: 32px;\n",
              "      padding: 0 0 0 0;\n",
              "      width: 32px;\n",
              "    }\n",
              "\n",
              "    .colab-df-convert:hover {\n",
              "      background-color: #E2EBFA;\n",
              "      box-shadow: 0px 1px 2px rgba(60, 64, 67, 0.3), 0px 1px 3px 1px rgba(60, 64, 67, 0.15);\n",
              "      fill: #174EA6;\n",
              "    }\n",
              "\n",
              "    [theme=dark] .colab-df-convert {\n",
              "      background-color: #3B4455;\n",
              "      fill: #D2E3FC;\n",
              "    }\n",
              "\n",
              "    [theme=dark] .colab-df-convert:hover {\n",
              "      background-color: #434B5C;\n",
              "      box-shadow: 0px 1px 3px 1px rgba(0, 0, 0, 0.15);\n",
              "      filter: drop-shadow(0px 1px 2px rgba(0, 0, 0, 0.3));\n",
              "      fill: #FFFFFF;\n",
              "    }\n",
              "  </style>\n",
              "\n",
              "      <script>\n",
              "        const buttonEl =\n",
              "          document.querySelector('#df-61bf56de-17cb-4e79-b683-043de89158c7 button.colab-df-convert');\n",
              "        buttonEl.style.display =\n",
              "          google.colab.kernel.accessAllowed ? 'block' : 'none';\n",
              "\n",
              "        async function convertToInteractive(key) {\n",
              "          const element = document.querySelector('#df-61bf56de-17cb-4e79-b683-043de89158c7');\n",
              "          const dataTable =\n",
              "            await google.colab.kernel.invokeFunction('convertToInteractive',\n",
              "                                                     [key], {});\n",
              "          if (!dataTable) return;\n",
              "\n",
              "          const docLinkHtml = 'Like what you see? Visit the ' +\n",
              "            '<a target=\"_blank\" href=https://colab.research.google.com/notebooks/data_table.ipynb>data table notebook</a>'\n",
              "            + ' to learn more about interactive tables.';\n",
              "          element.innerHTML = '';\n",
              "          dataTable['output_type'] = 'display_data';\n",
              "          await google.colab.output.renderOutput(dataTable, element);\n",
              "          const docLink = document.createElement('div');\n",
              "          docLink.innerHTML = docLinkHtml;\n",
              "          element.appendChild(docLink);\n",
              "        }\n",
              "      </script>\n",
              "    </div>\n",
              "  </div>\n",
              "  "
            ],
            "text/plain": [
              "      Unnamed: 0  Smiles  Active\n",
              "0          False   False   False\n",
              "1          False   False   False\n",
              "2          False   False   False\n",
              "3          False   False   False\n",
              "4          False   False   False\n",
              "...          ...     ...     ...\n",
              "5552       False   False   False\n",
              "5553       False   False   False\n",
              "5554       False   False   False\n",
              "5555       False   False   False\n",
              "5556       False   False   False\n",
              "\n",
              "[5557 rows x 3 columns]"
            ]
          },
          "metadata": {},
          "execution_count": 103
        }
      ]
    },
    {
      "cell_type": "code",
      "source": [
        "df_train.count()"
      ],
      "metadata": {
        "colab": {
          "base_uri": "https://localhost:8080/"
        },
        "id": "Kins6v9b9D_F",
        "outputId": "af84232f-c36e-4779-d186-32bf3cec687c"
      },
      "execution_count": null,
      "outputs": [
        {
          "output_type": "execute_result",
          "data": {
            "text/plain": [
              "Unnamed: 0    5557\n",
              "Smiles        5557\n",
              "Active        5557\n",
              "dtype: int64"
            ]
          },
          "metadata": {},
          "execution_count": 104
        }
      ]
    },
    {
      "cell_type": "code",
      "source": [
        "df_train.info()"
      ],
      "metadata": {
        "colab": {
          "base_uri": "https://localhost:8080/"
        },
        "id": "KwN-H8fd9PXH",
        "outputId": "0f5a480a-d3fe-4d74-a430-cac5af93629b"
      },
      "execution_count": null,
      "outputs": [
        {
          "output_type": "stream",
          "name": "stdout",
          "text": [
            "<class 'pandas.core.frame.DataFrame'>\n",
            "RangeIndex: 5557 entries, 0 to 5556\n",
            "Data columns (total 3 columns):\n",
            " #   Column      Non-Null Count  Dtype \n",
            "---  ------      --------------  ----- \n",
            " 0   Unnamed: 0  5557 non-null   int64 \n",
            " 1   Smiles      5557 non-null   object\n",
            " 2   Active      5557 non-null   bool  \n",
            "dtypes: bool(1), int64(1), object(1)\n",
            "memory usage: 92.4+ KB\n"
          ]
        }
      ]
    },
    {
      "cell_type": "code",
      "source": [
        "df_train.describe()"
      ],
      "metadata": {
        "colab": {
          "base_uri": "https://localhost:8080/",
          "height": 300
        },
        "id": "FJaLK69s910o",
        "outputId": "6a6e981c-e605-4db8-9843-83b45a496267"
      },
      "execution_count": null,
      "outputs": [
        {
          "output_type": "execute_result",
          "data": {
            "text/html": [
              "\n",
              "  <div id=\"df-0644f6ee-595d-4e68-bdaa-29aa12e87a93\">\n",
              "    <div class=\"colab-df-container\">\n",
              "      <div>\n",
              "<style scoped>\n",
              "    .dataframe tbody tr th:only-of-type {\n",
              "        vertical-align: middle;\n",
              "    }\n",
              "\n",
              "    .dataframe tbody tr th {\n",
              "        vertical-align: top;\n",
              "    }\n",
              "\n",
              "    .dataframe thead th {\n",
              "        text-align: right;\n",
              "    }\n",
              "</style>\n",
              "<table border=\"1\" class=\"dataframe\">\n",
              "  <thead>\n",
              "    <tr style=\"text-align: right;\">\n",
              "      <th></th>\n",
              "      <th>Unnamed: 0</th>\n",
              "    </tr>\n",
              "  </thead>\n",
              "  <tbody>\n",
              "    <tr>\n",
              "      <th>count</th>\n",
              "      <td>5557.000000</td>\n",
              "    </tr>\n",
              "    <tr>\n",
              "      <th>mean</th>\n",
              "      <td>2778.000000</td>\n",
              "    </tr>\n",
              "    <tr>\n",
              "      <th>std</th>\n",
              "      <td>1604.312054</td>\n",
              "    </tr>\n",
              "    <tr>\n",
              "      <th>min</th>\n",
              "      <td>0.000000</td>\n",
              "    </tr>\n",
              "    <tr>\n",
              "      <th>25%</th>\n",
              "      <td>1389.000000</td>\n",
              "    </tr>\n",
              "    <tr>\n",
              "      <th>50%</th>\n",
              "      <td>2778.000000</td>\n",
              "    </tr>\n",
              "    <tr>\n",
              "      <th>75%</th>\n",
              "      <td>4167.000000</td>\n",
              "    </tr>\n",
              "    <tr>\n",
              "      <th>max</th>\n",
              "      <td>5556.000000</td>\n",
              "    </tr>\n",
              "  </tbody>\n",
              "</table>\n",
              "</div>\n",
              "      <button class=\"colab-df-convert\" onclick=\"convertToInteractive('df-0644f6ee-595d-4e68-bdaa-29aa12e87a93')\"\n",
              "              title=\"Convert this dataframe to an interactive table.\"\n",
              "              style=\"display:none;\">\n",
              "        \n",
              "  <svg xmlns=\"http://www.w3.org/2000/svg\" height=\"24px\"viewBox=\"0 0 24 24\"\n",
              "       width=\"24px\">\n",
              "    <path d=\"M0 0h24v24H0V0z\" fill=\"none\"/>\n",
              "    <path d=\"M18.56 5.44l.94 2.06.94-2.06 2.06-.94-2.06-.94-.94-2.06-.94 2.06-2.06.94zm-11 1L8.5 8.5l.94-2.06 2.06-.94-2.06-.94L8.5 2.5l-.94 2.06-2.06.94zm10 10l.94 2.06.94-2.06 2.06-.94-2.06-.94-.94-2.06-.94 2.06-2.06.94z\"/><path d=\"M17.41 7.96l-1.37-1.37c-.4-.4-.92-.59-1.43-.59-.52 0-1.04.2-1.43.59L10.3 9.45l-7.72 7.72c-.78.78-.78 2.05 0 2.83L4 21.41c.39.39.9.59 1.41.59.51 0 1.02-.2 1.41-.59l7.78-7.78 2.81-2.81c.8-.78.8-2.07 0-2.86zM5.41 20L4 18.59l7.72-7.72 1.47 1.35L5.41 20z\"/>\n",
              "  </svg>\n",
              "      </button>\n",
              "      \n",
              "  <style>\n",
              "    .colab-df-container {\n",
              "      display:flex;\n",
              "      flex-wrap:wrap;\n",
              "      gap: 12px;\n",
              "    }\n",
              "\n",
              "    .colab-df-convert {\n",
              "      background-color: #E8F0FE;\n",
              "      border: none;\n",
              "      border-radius: 50%;\n",
              "      cursor: pointer;\n",
              "      display: none;\n",
              "      fill: #1967D2;\n",
              "      height: 32px;\n",
              "      padding: 0 0 0 0;\n",
              "      width: 32px;\n",
              "    }\n",
              "\n",
              "    .colab-df-convert:hover {\n",
              "      background-color: #E2EBFA;\n",
              "      box-shadow: 0px 1px 2px rgba(60, 64, 67, 0.3), 0px 1px 3px 1px rgba(60, 64, 67, 0.15);\n",
              "      fill: #174EA6;\n",
              "    }\n",
              "\n",
              "    [theme=dark] .colab-df-convert {\n",
              "      background-color: #3B4455;\n",
              "      fill: #D2E3FC;\n",
              "    }\n",
              "\n",
              "    [theme=dark] .colab-df-convert:hover {\n",
              "      background-color: #434B5C;\n",
              "      box-shadow: 0px 1px 3px 1px rgba(0, 0, 0, 0.15);\n",
              "      filter: drop-shadow(0px 1px 2px rgba(0, 0, 0, 0.3));\n",
              "      fill: #FFFFFF;\n",
              "    }\n",
              "  </style>\n",
              "\n",
              "      <script>\n",
              "        const buttonEl =\n",
              "          document.querySelector('#df-0644f6ee-595d-4e68-bdaa-29aa12e87a93 button.colab-df-convert');\n",
              "        buttonEl.style.display =\n",
              "          google.colab.kernel.accessAllowed ? 'block' : 'none';\n",
              "\n",
              "        async function convertToInteractive(key) {\n",
              "          const element = document.querySelector('#df-0644f6ee-595d-4e68-bdaa-29aa12e87a93');\n",
              "          const dataTable =\n",
              "            await google.colab.kernel.invokeFunction('convertToInteractive',\n",
              "                                                     [key], {});\n",
              "          if (!dataTable) return;\n",
              "\n",
              "          const docLinkHtml = 'Like what you see? Visit the ' +\n",
              "            '<a target=\"_blank\" href=https://colab.research.google.com/notebooks/data_table.ipynb>data table notebook</a>'\n",
              "            + ' to learn more about interactive tables.';\n",
              "          element.innerHTML = '';\n",
              "          dataTable['output_type'] = 'display_data';\n",
              "          await google.colab.output.renderOutput(dataTable, element);\n",
              "          const docLink = document.createElement('div');\n",
              "          docLink.innerHTML = docLinkHtml;\n",
              "          element.appendChild(docLink);\n",
              "        }\n",
              "      </script>\n",
              "    </div>\n",
              "  </div>\n",
              "  "
            ],
            "text/plain": [
              "        Unnamed: 0\n",
              "count  5557.000000\n",
              "mean   2778.000000\n",
              "std    1604.312054\n",
              "min       0.000000\n",
              "25%    1389.000000\n",
              "50%    2778.000000\n",
              "75%    4167.000000\n",
              "max    5556.000000"
            ]
          },
          "metadata": {},
          "execution_count": 106
        }
      ]
    },
    {
      "cell_type": "code",
      "source": [
        "df_train.describe(include=['O'])"
      ],
      "metadata": {
        "colab": {
          "base_uri": "https://localhost:8080/",
          "height": 175
        },
        "id": "LKcNCpK4-LSy",
        "outputId": "0c2e4127-6dd2-496c-f0fb-631c3834d5e8"
      },
      "execution_count": null,
      "outputs": [
        {
          "output_type": "execute_result",
          "data": {
            "text/html": [
              "\n",
              "  <div id=\"df-42f9ce50-2d02-4db7-8d8f-7545d4df329f\">\n",
              "    <div class=\"colab-df-container\">\n",
              "      <div>\n",
              "<style scoped>\n",
              "    .dataframe tbody tr th:only-of-type {\n",
              "        vertical-align: middle;\n",
              "    }\n",
              "\n",
              "    .dataframe tbody tr th {\n",
              "        vertical-align: top;\n",
              "    }\n",
              "\n",
              "    .dataframe thead th {\n",
              "        text-align: right;\n",
              "    }\n",
              "</style>\n",
              "<table border=\"1\" class=\"dataframe\">\n",
              "  <thead>\n",
              "    <tr style=\"text-align: right;\">\n",
              "      <th></th>\n",
              "      <th>Smiles</th>\n",
              "    </tr>\n",
              "  </thead>\n",
              "  <tbody>\n",
              "    <tr>\n",
              "      <th>count</th>\n",
              "      <td>5557</td>\n",
              "    </tr>\n",
              "    <tr>\n",
              "      <th>unique</th>\n",
              "      <td>5557</td>\n",
              "    </tr>\n",
              "    <tr>\n",
              "      <th>top</th>\n",
              "      <td>COc1ccc2[nH]cc(CCN)c2c1</td>\n",
              "    </tr>\n",
              "    <tr>\n",
              "      <th>freq</th>\n",
              "      <td>1</td>\n",
              "    </tr>\n",
              "  </tbody>\n",
              "</table>\n",
              "</div>\n",
              "      <button class=\"colab-df-convert\" onclick=\"convertToInteractive('df-42f9ce50-2d02-4db7-8d8f-7545d4df329f')\"\n",
              "              title=\"Convert this dataframe to an interactive table.\"\n",
              "              style=\"display:none;\">\n",
              "        \n",
              "  <svg xmlns=\"http://www.w3.org/2000/svg\" height=\"24px\"viewBox=\"0 0 24 24\"\n",
              "       width=\"24px\">\n",
              "    <path d=\"M0 0h24v24H0V0z\" fill=\"none\"/>\n",
              "    <path d=\"M18.56 5.44l.94 2.06.94-2.06 2.06-.94-2.06-.94-.94-2.06-.94 2.06-2.06.94zm-11 1L8.5 8.5l.94-2.06 2.06-.94-2.06-.94L8.5 2.5l-.94 2.06-2.06.94zm10 10l.94 2.06.94-2.06 2.06-.94-2.06-.94-.94-2.06-.94 2.06-2.06.94z\"/><path d=\"M17.41 7.96l-1.37-1.37c-.4-.4-.92-.59-1.43-.59-.52 0-1.04.2-1.43.59L10.3 9.45l-7.72 7.72c-.78.78-.78 2.05 0 2.83L4 21.41c.39.39.9.59 1.41.59.51 0 1.02-.2 1.41-.59l7.78-7.78 2.81-2.81c.8-.78.8-2.07 0-2.86zM5.41 20L4 18.59l7.72-7.72 1.47 1.35L5.41 20z\"/>\n",
              "  </svg>\n",
              "      </button>\n",
              "      \n",
              "  <style>\n",
              "    .colab-df-container {\n",
              "      display:flex;\n",
              "      flex-wrap:wrap;\n",
              "      gap: 12px;\n",
              "    }\n",
              "\n",
              "    .colab-df-convert {\n",
              "      background-color: #E8F0FE;\n",
              "      border: none;\n",
              "      border-radius: 50%;\n",
              "      cursor: pointer;\n",
              "      display: none;\n",
              "      fill: #1967D2;\n",
              "      height: 32px;\n",
              "      padding: 0 0 0 0;\n",
              "      width: 32px;\n",
              "    }\n",
              "\n",
              "    .colab-df-convert:hover {\n",
              "      background-color: #E2EBFA;\n",
              "      box-shadow: 0px 1px 2px rgba(60, 64, 67, 0.3), 0px 1px 3px 1px rgba(60, 64, 67, 0.15);\n",
              "      fill: #174EA6;\n",
              "    }\n",
              "\n",
              "    [theme=dark] .colab-df-convert {\n",
              "      background-color: #3B4455;\n",
              "      fill: #D2E3FC;\n",
              "    }\n",
              "\n",
              "    [theme=dark] .colab-df-convert:hover {\n",
              "      background-color: #434B5C;\n",
              "      box-shadow: 0px 1px 3px 1px rgba(0, 0, 0, 0.15);\n",
              "      filter: drop-shadow(0px 1px 2px rgba(0, 0, 0, 0.3));\n",
              "      fill: #FFFFFF;\n",
              "    }\n",
              "  </style>\n",
              "\n",
              "      <script>\n",
              "        const buttonEl =\n",
              "          document.querySelector('#df-42f9ce50-2d02-4db7-8d8f-7545d4df329f button.colab-df-convert');\n",
              "        buttonEl.style.display =\n",
              "          google.colab.kernel.accessAllowed ? 'block' : 'none';\n",
              "\n",
              "        async function convertToInteractive(key) {\n",
              "          const element = document.querySelector('#df-42f9ce50-2d02-4db7-8d8f-7545d4df329f');\n",
              "          const dataTable =\n",
              "            await google.colab.kernel.invokeFunction('convertToInteractive',\n",
              "                                                     [key], {});\n",
              "          if (!dataTable) return;\n",
              "\n",
              "          const docLinkHtml = 'Like what you see? Visit the ' +\n",
              "            '<a target=\"_blank\" href=https://colab.research.google.com/notebooks/data_table.ipynb>data table notebook</a>'\n",
              "            + ' to learn more about interactive tables.';\n",
              "          element.innerHTML = '';\n",
              "          dataTable['output_type'] = 'display_data';\n",
              "          await google.colab.output.renderOutput(dataTable, element);\n",
              "          const docLink = document.createElement('div');\n",
              "          docLink.innerHTML = docLinkHtml;\n",
              "          element.appendChild(docLink);\n",
              "        }\n",
              "      </script>\n",
              "    </div>\n",
              "  </div>\n",
              "  "
            ],
            "text/plain": [
              "                         Smiles\n",
              "count                      5557\n",
              "unique                     5557\n",
              "top     COc1ccc2[nH]cc(CCN)c2c1\n",
              "freq                          1"
            ]
          },
          "metadata": {},
          "execution_count": 107
        }
      ]
    },
    {
      "cell_type": "markdown",
      "source": [
        "#Автокодировщик\n"
      ],
      "metadata": {
        "id": "AVDbf1luJsRw"
      }
    },
    {
      "cell_type": "markdown",
      "source": [
        "**Представляю Smiles в виде вектора**"
      ],
      "metadata": {
        "id": "8tQqGINItGJK"
      }
    },
    {
      "cell_type": "code",
      "source": [
        "!pip install kora -q\n",
        "import kora.install.rdkit # по-дургому не запускалось\n",
        "from rdkit import Chem\n",
        "from rdkit.Chem import AllChem"
      ],
      "metadata": {
        "id": "QEspgJ69LBbl",
        "colab": {
          "base_uri": "https://localhost:8080/"
        },
        "outputId": "28cbfebe-21e4-4999-96e4-6f3d1c07c496"
      },
      "execution_count": null,
      "outputs": [
        {
          "output_type": "stream",
          "name": "stdout",
          "text": [
            "\u001b[?25l\r\u001b[K     |█████▊                          | 10 kB 18.7 MB/s eta 0:00:01\r\u001b[K     |███████████▍                    | 20 kB 19.8 MB/s eta 0:00:01\r\u001b[K     |█████████████████               | 30 kB 20.7 MB/s eta 0:00:01\r\u001b[K     |██████████████████████▊         | 40 kB 12.1 MB/s eta 0:00:01\r\u001b[K     |████████████████████████████▍   | 51 kB 6.4 MB/s eta 0:00:01\r\u001b[K     |████████████████████████████████| 57 kB 3.0 MB/s \n",
            "\u001b[?25h\u001b[?25l\r\u001b[K     |█████▊                          | 10 kB 24.3 MB/s eta 0:00:01\r\u001b[K     |███████████▌                    | 20 kB 32.1 MB/s eta 0:00:01\r\u001b[K     |█████████████████▎              | 30 kB 36.1 MB/s eta 0:00:01\r\u001b[K     |███████████████████████         | 40 kB 33.5 MB/s eta 0:00:01\r\u001b[K     |████████████████████████████▉   | 51 kB 36.1 MB/s eta 0:00:01\r\u001b[K     |████████████████████████████████| 56 kB 4.0 MB/s \n",
            "\u001b[?25h"
          ]
        }
      ]
    },
    {
      "cell_type": "code",
      "source": [
        "# загружаю датасет\n",
        "df_train = pd.read_csv('/content/train.csv')\n",
        "df_train.head()"
      ],
      "metadata": {
        "colab": {
          "base_uri": "https://localhost:8080/",
          "height": 206
        },
        "id": "5RS29oFxq2fM",
        "outputId": "effbdc38-37bb-4d29-95c2-d8a834e693b9"
      },
      "execution_count": null,
      "outputs": [
        {
          "output_type": "execute_result",
          "data": {
            "text/html": [
              "\n",
              "  <div id=\"df-d4542e59-7f57-44da-a045-8ff2be045cb9\">\n",
              "    <div class=\"colab-df-container\">\n",
              "      <div>\n",
              "<style scoped>\n",
              "    .dataframe tbody tr th:only-of-type {\n",
              "        vertical-align: middle;\n",
              "    }\n",
              "\n",
              "    .dataframe tbody tr th {\n",
              "        vertical-align: top;\n",
              "    }\n",
              "\n",
              "    .dataframe thead th {\n",
              "        text-align: right;\n",
              "    }\n",
              "</style>\n",
              "<table border=\"1\" class=\"dataframe\">\n",
              "  <thead>\n",
              "    <tr style=\"text-align: right;\">\n",
              "      <th></th>\n",
              "      <th>Unnamed: 0</th>\n",
              "      <th>Smiles</th>\n",
              "      <th>Active</th>\n",
              "    </tr>\n",
              "  </thead>\n",
              "  <tbody>\n",
              "    <tr>\n",
              "      <th>0</th>\n",
              "      <td>0</td>\n",
              "      <td>COc1ccc2[nH]cc(CCN)c2c1</td>\n",
              "      <td>False</td>\n",
              "    </tr>\n",
              "    <tr>\n",
              "      <th>1</th>\n",
              "      <td>1</td>\n",
              "      <td>CCCN1CCC[C@H](c2cccc(O)c2)C1.Cl</td>\n",
              "      <td>False</td>\n",
              "    </tr>\n",
              "    <tr>\n",
              "      <th>2</th>\n",
              "      <td>2</td>\n",
              "      <td>O=C(NO)c1cnc(N2CCN(S(=O)(=O)c3ccc4ccccc4c3)CC2...</td>\n",
              "      <td>False</td>\n",
              "    </tr>\n",
              "    <tr>\n",
              "      <th>3</th>\n",
              "      <td>3</td>\n",
              "      <td>Nc1cccc(CNC(=O)c2ccc(Oc3ccc(OCc4cccc(F)c4)cc3)...</td>\n",
              "      <td>False</td>\n",
              "    </tr>\n",
              "    <tr>\n",
              "      <th>4</th>\n",
              "      <td>4</td>\n",
              "      <td>Fc1ccccc1CNCc1ccc(-c2ccnc3[nH]ccc23)cc1</td>\n",
              "      <td>False</td>\n",
              "    </tr>\n",
              "  </tbody>\n",
              "</table>\n",
              "</div>\n",
              "      <button class=\"colab-df-convert\" onclick=\"convertToInteractive('df-d4542e59-7f57-44da-a045-8ff2be045cb9')\"\n",
              "              title=\"Convert this dataframe to an interactive table.\"\n",
              "              style=\"display:none;\">\n",
              "        \n",
              "  <svg xmlns=\"http://www.w3.org/2000/svg\" height=\"24px\"viewBox=\"0 0 24 24\"\n",
              "       width=\"24px\">\n",
              "    <path d=\"M0 0h24v24H0V0z\" fill=\"none\"/>\n",
              "    <path d=\"M18.56 5.44l.94 2.06.94-2.06 2.06-.94-2.06-.94-.94-2.06-.94 2.06-2.06.94zm-11 1L8.5 8.5l.94-2.06 2.06-.94-2.06-.94L8.5 2.5l-.94 2.06-2.06.94zm10 10l.94 2.06.94-2.06 2.06-.94-2.06-.94-.94-2.06-.94 2.06-2.06.94z\"/><path d=\"M17.41 7.96l-1.37-1.37c-.4-.4-.92-.59-1.43-.59-.52 0-1.04.2-1.43.59L10.3 9.45l-7.72 7.72c-.78.78-.78 2.05 0 2.83L4 21.41c.39.39.9.59 1.41.59.51 0 1.02-.2 1.41-.59l7.78-7.78 2.81-2.81c.8-.78.8-2.07 0-2.86zM5.41 20L4 18.59l7.72-7.72 1.47 1.35L5.41 20z\"/>\n",
              "  </svg>\n",
              "      </button>\n",
              "      \n",
              "  <style>\n",
              "    .colab-df-container {\n",
              "      display:flex;\n",
              "      flex-wrap:wrap;\n",
              "      gap: 12px;\n",
              "    }\n",
              "\n",
              "    .colab-df-convert {\n",
              "      background-color: #E8F0FE;\n",
              "      border: none;\n",
              "      border-radius: 50%;\n",
              "      cursor: pointer;\n",
              "      display: none;\n",
              "      fill: #1967D2;\n",
              "      height: 32px;\n",
              "      padding: 0 0 0 0;\n",
              "      width: 32px;\n",
              "    }\n",
              "\n",
              "    .colab-df-convert:hover {\n",
              "      background-color: #E2EBFA;\n",
              "      box-shadow: 0px 1px 2px rgba(60, 64, 67, 0.3), 0px 1px 3px 1px rgba(60, 64, 67, 0.15);\n",
              "      fill: #174EA6;\n",
              "    }\n",
              "\n",
              "    [theme=dark] .colab-df-convert {\n",
              "      background-color: #3B4455;\n",
              "      fill: #D2E3FC;\n",
              "    }\n",
              "\n",
              "    [theme=dark] .colab-df-convert:hover {\n",
              "      background-color: #434B5C;\n",
              "      box-shadow: 0px 1px 3px 1px rgba(0, 0, 0, 0.15);\n",
              "      filter: drop-shadow(0px 1px 2px rgba(0, 0, 0, 0.3));\n",
              "      fill: #FFFFFF;\n",
              "    }\n",
              "  </style>\n",
              "\n",
              "      <script>\n",
              "        const buttonEl =\n",
              "          document.querySelector('#df-d4542e59-7f57-44da-a045-8ff2be045cb9 button.colab-df-convert');\n",
              "        buttonEl.style.display =\n",
              "          google.colab.kernel.accessAllowed ? 'block' : 'none';\n",
              "\n",
              "        async function convertToInteractive(key) {\n",
              "          const element = document.querySelector('#df-d4542e59-7f57-44da-a045-8ff2be045cb9');\n",
              "          const dataTable =\n",
              "            await google.colab.kernel.invokeFunction('convertToInteractive',\n",
              "                                                     [key], {});\n",
              "          if (!dataTable) return;\n",
              "\n",
              "          const docLinkHtml = 'Like what you see? Visit the ' +\n",
              "            '<a target=\"_blank\" href=https://colab.research.google.com/notebooks/data_table.ipynb>data table notebook</a>'\n",
              "            + ' to learn more about interactive tables.';\n",
              "          element.innerHTML = '';\n",
              "          dataTable['output_type'] = 'display_data';\n",
              "          await google.colab.output.renderOutput(dataTable, element);\n",
              "          const docLink = document.createElement('div');\n",
              "          docLink.innerHTML = docLinkHtml;\n",
              "          element.appendChild(docLink);\n",
              "        }\n",
              "      </script>\n",
              "    </div>\n",
              "  </div>\n",
              "  "
            ],
            "text/plain": [
              "   Unnamed: 0                                             Smiles  Active\n",
              "0           0                            COc1ccc2[nH]cc(CCN)c2c1   False\n",
              "1           1                    CCCN1CCC[C@H](c2cccc(O)c2)C1.Cl   False\n",
              "2           2  O=C(NO)c1cnc(N2CCN(S(=O)(=O)c3ccc4ccccc4c3)CC2...   False\n",
              "3           3  Nc1cccc(CNC(=O)c2ccc(Oc3ccc(OCc4cccc(F)c4)cc3)...   False\n",
              "4           4            Fc1ccccc1CNCc1ccc(-c2ccnc3[nH]ccc23)cc1   False"
            ]
          },
          "metadata": {},
          "execution_count": 322
        }
      ]
    },
    {
      "cell_type": "code",
      "source": [
        "df_train_new = df_train[['Smiles', 'Active']]\n",
        "df_train_new"
      ],
      "metadata": {
        "id": "kOCPNMIA-YoS",
        "colab": {
          "base_uri": "https://localhost:8080/",
          "height": 424
        },
        "outputId": "f2ebfbd3-881b-4986-acdc-5b33a4ed030b"
      },
      "execution_count": null,
      "outputs": [
        {
          "output_type": "execute_result",
          "data": {
            "text/html": [
              "\n",
              "  <div id=\"df-787f1fe3-ec00-4880-b5cd-1405ac209e04\">\n",
              "    <div class=\"colab-df-container\">\n",
              "      <div>\n",
              "<style scoped>\n",
              "    .dataframe tbody tr th:only-of-type {\n",
              "        vertical-align: middle;\n",
              "    }\n",
              "\n",
              "    .dataframe tbody tr th {\n",
              "        vertical-align: top;\n",
              "    }\n",
              "\n",
              "    .dataframe thead th {\n",
              "        text-align: right;\n",
              "    }\n",
              "</style>\n",
              "<table border=\"1\" class=\"dataframe\">\n",
              "  <thead>\n",
              "    <tr style=\"text-align: right;\">\n",
              "      <th></th>\n",
              "      <th>Smiles</th>\n",
              "      <th>Active</th>\n",
              "    </tr>\n",
              "  </thead>\n",
              "  <tbody>\n",
              "    <tr>\n",
              "      <th>0</th>\n",
              "      <td>COc1ccc2[nH]cc(CCN)c2c1</td>\n",
              "      <td>False</td>\n",
              "    </tr>\n",
              "    <tr>\n",
              "      <th>1</th>\n",
              "      <td>CCCN1CCC[C@H](c2cccc(O)c2)C1.Cl</td>\n",
              "      <td>False</td>\n",
              "    </tr>\n",
              "    <tr>\n",
              "      <th>2</th>\n",
              "      <td>O=C(NO)c1cnc(N2CCN(S(=O)(=O)c3ccc4ccccc4c3)CC2...</td>\n",
              "      <td>False</td>\n",
              "    </tr>\n",
              "    <tr>\n",
              "      <th>3</th>\n",
              "      <td>Nc1cccc(CNC(=O)c2ccc(Oc3ccc(OCc4cccc(F)c4)cc3)...</td>\n",
              "      <td>False</td>\n",
              "    </tr>\n",
              "    <tr>\n",
              "      <th>4</th>\n",
              "      <td>Fc1ccccc1CNCc1ccc(-c2ccnc3[nH]ccc23)cc1</td>\n",
              "      <td>False</td>\n",
              "    </tr>\n",
              "    <tr>\n",
              "      <th>...</th>\n",
              "      <td>...</td>\n",
              "      <td>...</td>\n",
              "    </tr>\n",
              "    <tr>\n",
              "      <th>5552</th>\n",
              "      <td>O=C(Oc1ccc([N+](=O)[O-])cc1)N1CCC(C(O)(c2ccc3c...</td>\n",
              "      <td>False</td>\n",
              "    </tr>\n",
              "    <tr>\n",
              "      <th>5553</th>\n",
              "      <td>Nc1nonc1/C(=N/O)Nc1ccc(F)c(Br)c1</td>\n",
              "      <td>False</td>\n",
              "    </tr>\n",
              "    <tr>\n",
              "      <th>5554</th>\n",
              "      <td>Oc1cccc2cccnc12</td>\n",
              "      <td>False</td>\n",
              "    </tr>\n",
              "    <tr>\n",
              "      <th>5555</th>\n",
              "      <td>OC(c1ccc(-c2ccc(CN3CCN(Cc4ccncc4)CC3)cc2)c(F)c...</td>\n",
              "      <td>False</td>\n",
              "    </tr>\n",
              "    <tr>\n",
              "      <th>5556</th>\n",
              "      <td>CCCCNc1ccc(C(=O)OCCN(C)C)cc1.Cl</td>\n",
              "      <td>False</td>\n",
              "    </tr>\n",
              "  </tbody>\n",
              "</table>\n",
              "<p>5557 rows × 2 columns</p>\n",
              "</div>\n",
              "      <button class=\"colab-df-convert\" onclick=\"convertToInteractive('df-787f1fe3-ec00-4880-b5cd-1405ac209e04')\"\n",
              "              title=\"Convert this dataframe to an interactive table.\"\n",
              "              style=\"display:none;\">\n",
              "        \n",
              "  <svg xmlns=\"http://www.w3.org/2000/svg\" height=\"24px\"viewBox=\"0 0 24 24\"\n",
              "       width=\"24px\">\n",
              "    <path d=\"M0 0h24v24H0V0z\" fill=\"none\"/>\n",
              "    <path d=\"M18.56 5.44l.94 2.06.94-2.06 2.06-.94-2.06-.94-.94-2.06-.94 2.06-2.06.94zm-11 1L8.5 8.5l.94-2.06 2.06-.94-2.06-.94L8.5 2.5l-.94 2.06-2.06.94zm10 10l.94 2.06.94-2.06 2.06-.94-2.06-.94-.94-2.06-.94 2.06-2.06.94z\"/><path d=\"M17.41 7.96l-1.37-1.37c-.4-.4-.92-.59-1.43-.59-.52 0-1.04.2-1.43.59L10.3 9.45l-7.72 7.72c-.78.78-.78 2.05 0 2.83L4 21.41c.39.39.9.59 1.41.59.51 0 1.02-.2 1.41-.59l7.78-7.78 2.81-2.81c.8-.78.8-2.07 0-2.86zM5.41 20L4 18.59l7.72-7.72 1.47 1.35L5.41 20z\"/>\n",
              "  </svg>\n",
              "      </button>\n",
              "      \n",
              "  <style>\n",
              "    .colab-df-container {\n",
              "      display:flex;\n",
              "      flex-wrap:wrap;\n",
              "      gap: 12px;\n",
              "    }\n",
              "\n",
              "    .colab-df-convert {\n",
              "      background-color: #E8F0FE;\n",
              "      border: none;\n",
              "      border-radius: 50%;\n",
              "      cursor: pointer;\n",
              "      display: none;\n",
              "      fill: #1967D2;\n",
              "      height: 32px;\n",
              "      padding: 0 0 0 0;\n",
              "      width: 32px;\n",
              "    }\n",
              "\n",
              "    .colab-df-convert:hover {\n",
              "      background-color: #E2EBFA;\n",
              "      box-shadow: 0px 1px 2px rgba(60, 64, 67, 0.3), 0px 1px 3px 1px rgba(60, 64, 67, 0.15);\n",
              "      fill: #174EA6;\n",
              "    }\n",
              "\n",
              "    [theme=dark] .colab-df-convert {\n",
              "      background-color: #3B4455;\n",
              "      fill: #D2E3FC;\n",
              "    }\n",
              "\n",
              "    [theme=dark] .colab-df-convert:hover {\n",
              "      background-color: #434B5C;\n",
              "      box-shadow: 0px 1px 3px 1px rgba(0, 0, 0, 0.15);\n",
              "      filter: drop-shadow(0px 1px 2px rgba(0, 0, 0, 0.3));\n",
              "      fill: #FFFFFF;\n",
              "    }\n",
              "  </style>\n",
              "\n",
              "      <script>\n",
              "        const buttonEl =\n",
              "          document.querySelector('#df-787f1fe3-ec00-4880-b5cd-1405ac209e04 button.colab-df-convert');\n",
              "        buttonEl.style.display =\n",
              "          google.colab.kernel.accessAllowed ? 'block' : 'none';\n",
              "\n",
              "        async function convertToInteractive(key) {\n",
              "          const element = document.querySelector('#df-787f1fe3-ec00-4880-b5cd-1405ac209e04');\n",
              "          const dataTable =\n",
              "            await google.colab.kernel.invokeFunction('convertToInteractive',\n",
              "                                                     [key], {});\n",
              "          if (!dataTable) return;\n",
              "\n",
              "          const docLinkHtml = 'Like what you see? Visit the ' +\n",
              "            '<a target=\"_blank\" href=https://colab.research.google.com/notebooks/data_table.ipynb>data table notebook</a>'\n",
              "            + ' to learn more about interactive tables.';\n",
              "          element.innerHTML = '';\n",
              "          dataTable['output_type'] = 'display_data';\n",
              "          await google.colab.output.renderOutput(dataTable, element);\n",
              "          const docLink = document.createElement('div');\n",
              "          docLink.innerHTML = docLinkHtml;\n",
              "          element.appendChild(docLink);\n",
              "        }\n",
              "      </script>\n",
              "    </div>\n",
              "  </div>\n",
              "  "
            ],
            "text/plain": [
              "                                                 Smiles  Active\n",
              "0                               COc1ccc2[nH]cc(CCN)c2c1   False\n",
              "1                       CCCN1CCC[C@H](c2cccc(O)c2)C1.Cl   False\n",
              "2     O=C(NO)c1cnc(N2CCN(S(=O)(=O)c3ccc4ccccc4c3)CC2...   False\n",
              "3     Nc1cccc(CNC(=O)c2ccc(Oc3ccc(OCc4cccc(F)c4)cc3)...   False\n",
              "4               Fc1ccccc1CNCc1ccc(-c2ccnc3[nH]ccc23)cc1   False\n",
              "...                                                 ...     ...\n",
              "5552  O=C(Oc1ccc([N+](=O)[O-])cc1)N1CCC(C(O)(c2ccc3c...   False\n",
              "5553                   Nc1nonc1/C(=N/O)Nc1ccc(F)c(Br)c1   False\n",
              "5554                                    Oc1cccc2cccnc12   False\n",
              "5555  OC(c1ccc(-c2ccc(CN3CCN(Cc4ccncc4)CC3)cc2)c(F)c...   False\n",
              "5556                    CCCCNc1ccc(C(=O)OCCN(C)C)cc1.Cl   False\n",
              "\n",
              "[5557 rows x 2 columns]"
            ]
          },
          "metadata": {},
          "execution_count": 323
        }
      ]
    },
    {
      "cell_type": "code",
      "source": [
        "# df активные молекулы\n",
        "df_train_True = df_train_new[df_train_new.Active==True]\n",
        "df_train_True"
      ],
      "metadata": {
        "colab": {
          "base_uri": "https://localhost:8080/",
          "height": 424
        },
        "id": "OHtQ2TorBjVP",
        "outputId": "c19a40e8-6cff-46af-c2c1-b299fbede316"
      },
      "execution_count": null,
      "outputs": [
        {
          "output_type": "execute_result",
          "data": {
            "text/html": [
              "\n",
              "  <div id=\"df-a7efdff5-4e4c-48ed-b687-c771760560d0\">\n",
              "    <div class=\"colab-df-container\">\n",
              "      <div>\n",
              "<style scoped>\n",
              "    .dataframe tbody tr th:only-of-type {\n",
              "        vertical-align: middle;\n",
              "    }\n",
              "\n",
              "    .dataframe tbody tr th {\n",
              "        vertical-align: top;\n",
              "    }\n",
              "\n",
              "    .dataframe thead th {\n",
              "        text-align: right;\n",
              "    }\n",
              "</style>\n",
              "<table border=\"1\" class=\"dataframe\">\n",
              "  <thead>\n",
              "    <tr style=\"text-align: right;\">\n",
              "      <th></th>\n",
              "      <th>Smiles</th>\n",
              "      <th>Active</th>\n",
              "    </tr>\n",
              "  </thead>\n",
              "  <tbody>\n",
              "    <tr>\n",
              "      <th>17</th>\n",
              "      <td>Nc1ccc(O)c2ncccc12</td>\n",
              "      <td>True</td>\n",
              "    </tr>\n",
              "    <tr>\n",
              "      <th>38</th>\n",
              "      <td>C[C@H]1COc2c(N3CCN(C)CC3)c(F)cc3c(=O)c(C(=O)O)...</td>\n",
              "      <td>True</td>\n",
              "    </tr>\n",
              "    <tr>\n",
              "      <th>52</th>\n",
              "      <td>Cl.NCCc1cc(O)c(O)cc1O</td>\n",
              "      <td>True</td>\n",
              "    </tr>\n",
              "    <tr>\n",
              "      <th>111</th>\n",
              "      <td>Cc1ccc(-n2sc(=O)n(Cc3ccc(F)cc3)c2=O)cc1</td>\n",
              "      <td>True</td>\n",
              "    </tr>\n",
              "    <tr>\n",
              "      <th>122</th>\n",
              "      <td>Oc1cc2c(cc1C(c1ccc(C(F)(F)F)cc1)N1CCOCC1)OCO2</td>\n",
              "      <td>True</td>\n",
              "    </tr>\n",
              "    <tr>\n",
              "      <th>...</th>\n",
              "      <td>...</td>\n",
              "      <td>...</td>\n",
              "    </tr>\n",
              "    <tr>\n",
              "      <th>5354</th>\n",
              "      <td>CC(C)c1c2cc(-c3ccnc(N[C@H]4CC[C@H](NC5CCOCC5)C...</td>\n",
              "      <td>True</td>\n",
              "    </tr>\n",
              "    <tr>\n",
              "      <th>5492</th>\n",
              "      <td>Sc1nnc(Nc2ccccc2)s1</td>\n",
              "      <td>True</td>\n",
              "    </tr>\n",
              "    <tr>\n",
              "      <th>5496</th>\n",
              "      <td>C[C@H]1COC2=C1C(=O)C(=O)c1c2ccc2c1CCCC2(C)C</td>\n",
              "      <td>True</td>\n",
              "    </tr>\n",
              "    <tr>\n",
              "      <th>5520</th>\n",
              "      <td>Nc1c2ccccc2nc2ccccc12</td>\n",
              "      <td>True</td>\n",
              "    </tr>\n",
              "    <tr>\n",
              "      <th>5522</th>\n",
              "      <td>CCn1nc(C2CCN(C(=O)CCO)CC2)nc1-c1cnc(N)c(-c2nnc...</td>\n",
              "      <td>True</td>\n",
              "    </tr>\n",
              "  </tbody>\n",
              "</table>\n",
              "<p>206 rows × 2 columns</p>\n",
              "</div>\n",
              "      <button class=\"colab-df-convert\" onclick=\"convertToInteractive('df-a7efdff5-4e4c-48ed-b687-c771760560d0')\"\n",
              "              title=\"Convert this dataframe to an interactive table.\"\n",
              "              style=\"display:none;\">\n",
              "        \n",
              "  <svg xmlns=\"http://www.w3.org/2000/svg\" height=\"24px\"viewBox=\"0 0 24 24\"\n",
              "       width=\"24px\">\n",
              "    <path d=\"M0 0h24v24H0V0z\" fill=\"none\"/>\n",
              "    <path d=\"M18.56 5.44l.94 2.06.94-2.06 2.06-.94-2.06-.94-.94-2.06-.94 2.06-2.06.94zm-11 1L8.5 8.5l.94-2.06 2.06-.94-2.06-.94L8.5 2.5l-.94 2.06-2.06.94zm10 10l.94 2.06.94-2.06 2.06-.94-2.06-.94-.94-2.06-.94 2.06-2.06.94z\"/><path d=\"M17.41 7.96l-1.37-1.37c-.4-.4-.92-.59-1.43-.59-.52 0-1.04.2-1.43.59L10.3 9.45l-7.72 7.72c-.78.78-.78 2.05 0 2.83L4 21.41c.39.39.9.59 1.41.59.51 0 1.02-.2 1.41-.59l7.78-7.78 2.81-2.81c.8-.78.8-2.07 0-2.86zM5.41 20L4 18.59l7.72-7.72 1.47 1.35L5.41 20z\"/>\n",
              "  </svg>\n",
              "      </button>\n",
              "      \n",
              "  <style>\n",
              "    .colab-df-container {\n",
              "      display:flex;\n",
              "      flex-wrap:wrap;\n",
              "      gap: 12px;\n",
              "    }\n",
              "\n",
              "    .colab-df-convert {\n",
              "      background-color: #E8F0FE;\n",
              "      border: none;\n",
              "      border-radius: 50%;\n",
              "      cursor: pointer;\n",
              "      display: none;\n",
              "      fill: #1967D2;\n",
              "      height: 32px;\n",
              "      padding: 0 0 0 0;\n",
              "      width: 32px;\n",
              "    }\n",
              "\n",
              "    .colab-df-convert:hover {\n",
              "      background-color: #E2EBFA;\n",
              "      box-shadow: 0px 1px 2px rgba(60, 64, 67, 0.3), 0px 1px 3px 1px rgba(60, 64, 67, 0.15);\n",
              "      fill: #174EA6;\n",
              "    }\n",
              "\n",
              "    [theme=dark] .colab-df-convert {\n",
              "      background-color: #3B4455;\n",
              "      fill: #D2E3FC;\n",
              "    }\n",
              "\n",
              "    [theme=dark] .colab-df-convert:hover {\n",
              "      background-color: #434B5C;\n",
              "      box-shadow: 0px 1px 3px 1px rgba(0, 0, 0, 0.15);\n",
              "      filter: drop-shadow(0px 1px 2px rgba(0, 0, 0, 0.3));\n",
              "      fill: #FFFFFF;\n",
              "    }\n",
              "  </style>\n",
              "\n",
              "      <script>\n",
              "        const buttonEl =\n",
              "          document.querySelector('#df-a7efdff5-4e4c-48ed-b687-c771760560d0 button.colab-df-convert');\n",
              "        buttonEl.style.display =\n",
              "          google.colab.kernel.accessAllowed ? 'block' : 'none';\n",
              "\n",
              "        async function convertToInteractive(key) {\n",
              "          const element = document.querySelector('#df-a7efdff5-4e4c-48ed-b687-c771760560d0');\n",
              "          const dataTable =\n",
              "            await google.colab.kernel.invokeFunction('convertToInteractive',\n",
              "                                                     [key], {});\n",
              "          if (!dataTable) return;\n",
              "\n",
              "          const docLinkHtml = 'Like what you see? Visit the ' +\n",
              "            '<a target=\"_blank\" href=https://colab.research.google.com/notebooks/data_table.ipynb>data table notebook</a>'\n",
              "            + ' to learn more about interactive tables.';\n",
              "          element.innerHTML = '';\n",
              "          dataTable['output_type'] = 'display_data';\n",
              "          await google.colab.output.renderOutput(dataTable, element);\n",
              "          const docLink = document.createElement('div');\n",
              "          docLink.innerHTML = docLinkHtml;\n",
              "          element.appendChild(docLink);\n",
              "        }\n",
              "      </script>\n",
              "    </div>\n",
              "  </div>\n",
              "  "
            ],
            "text/plain": [
              "                                                 Smiles  Active\n",
              "17                                   Nc1ccc(O)c2ncccc12    True\n",
              "38    C[C@H]1COc2c(N3CCN(C)CC3)c(F)cc3c(=O)c(C(=O)O)...    True\n",
              "52                                Cl.NCCc1cc(O)c(O)cc1O    True\n",
              "111             Cc1ccc(-n2sc(=O)n(Cc3ccc(F)cc3)c2=O)cc1    True\n",
              "122       Oc1cc2c(cc1C(c1ccc(C(F)(F)F)cc1)N1CCOCC1)OCO2    True\n",
              "...                                                 ...     ...\n",
              "5354  CC(C)c1c2cc(-c3ccnc(N[C@H]4CC[C@H](NC5CCOCC5)C...    True\n",
              "5492                                Sc1nnc(Nc2ccccc2)s1    True\n",
              "5496        C[C@H]1COC2=C1C(=O)C(=O)c1c2ccc2c1CCCC2(C)C    True\n",
              "5520                              Nc1c2ccccc2nc2ccccc12    True\n",
              "5522  CCn1nc(C2CCN(C(=O)CCO)CC2)nc1-c1cnc(N)c(-c2nnc...    True\n",
              "\n",
              "[206 rows x 2 columns]"
            ]
          },
          "metadata": {},
          "execution_count": 324
        }
      ]
    },
    {
      "cell_type": "code",
      "source": [
        "# df неактивные молекулы\n",
        "df_train_False = df_train_new[df_train_new.Active==False]\n",
        "df_train_False"
      ],
      "metadata": {
        "colab": {
          "base_uri": "https://localhost:8080/",
          "height": 424
        },
        "id": "qSvX2phgBtP_",
        "outputId": "b92653cc-f5f8-44a2-aa82-b690e7ee719e"
      },
      "execution_count": null,
      "outputs": [
        {
          "output_type": "execute_result",
          "data": {
            "text/html": [
              "\n",
              "  <div id=\"df-644f48ab-495d-456e-86d7-3921574925cb\">\n",
              "    <div class=\"colab-df-container\">\n",
              "      <div>\n",
              "<style scoped>\n",
              "    .dataframe tbody tr th:only-of-type {\n",
              "        vertical-align: middle;\n",
              "    }\n",
              "\n",
              "    .dataframe tbody tr th {\n",
              "        vertical-align: top;\n",
              "    }\n",
              "\n",
              "    .dataframe thead th {\n",
              "        text-align: right;\n",
              "    }\n",
              "</style>\n",
              "<table border=\"1\" class=\"dataframe\">\n",
              "  <thead>\n",
              "    <tr style=\"text-align: right;\">\n",
              "      <th></th>\n",
              "      <th>Smiles</th>\n",
              "      <th>Active</th>\n",
              "    </tr>\n",
              "  </thead>\n",
              "  <tbody>\n",
              "    <tr>\n",
              "      <th>0</th>\n",
              "      <td>COc1ccc2[nH]cc(CCN)c2c1</td>\n",
              "      <td>False</td>\n",
              "    </tr>\n",
              "    <tr>\n",
              "      <th>1</th>\n",
              "      <td>CCCN1CCC[C@H](c2cccc(O)c2)C1.Cl</td>\n",
              "      <td>False</td>\n",
              "    </tr>\n",
              "    <tr>\n",
              "      <th>2</th>\n",
              "      <td>O=C(NO)c1cnc(N2CCN(S(=O)(=O)c3ccc4ccccc4c3)CC2...</td>\n",
              "      <td>False</td>\n",
              "    </tr>\n",
              "    <tr>\n",
              "      <th>3</th>\n",
              "      <td>Nc1cccc(CNC(=O)c2ccc(Oc3ccc(OCc4cccc(F)c4)cc3)...</td>\n",
              "      <td>False</td>\n",
              "    </tr>\n",
              "    <tr>\n",
              "      <th>4</th>\n",
              "      <td>Fc1ccccc1CNCc1ccc(-c2ccnc3[nH]ccc23)cc1</td>\n",
              "      <td>False</td>\n",
              "    </tr>\n",
              "    <tr>\n",
              "      <th>...</th>\n",
              "      <td>...</td>\n",
              "      <td>...</td>\n",
              "    </tr>\n",
              "    <tr>\n",
              "      <th>5552</th>\n",
              "      <td>O=C(Oc1ccc([N+](=O)[O-])cc1)N1CCC(C(O)(c2ccc3c...</td>\n",
              "      <td>False</td>\n",
              "    </tr>\n",
              "    <tr>\n",
              "      <th>5553</th>\n",
              "      <td>Nc1nonc1/C(=N/O)Nc1ccc(F)c(Br)c1</td>\n",
              "      <td>False</td>\n",
              "    </tr>\n",
              "    <tr>\n",
              "      <th>5554</th>\n",
              "      <td>Oc1cccc2cccnc12</td>\n",
              "      <td>False</td>\n",
              "    </tr>\n",
              "    <tr>\n",
              "      <th>5555</th>\n",
              "      <td>OC(c1ccc(-c2ccc(CN3CCN(Cc4ccncc4)CC3)cc2)c(F)c...</td>\n",
              "      <td>False</td>\n",
              "    </tr>\n",
              "    <tr>\n",
              "      <th>5556</th>\n",
              "      <td>CCCCNc1ccc(C(=O)OCCN(C)C)cc1.Cl</td>\n",
              "      <td>False</td>\n",
              "    </tr>\n",
              "  </tbody>\n",
              "</table>\n",
              "<p>5351 rows × 2 columns</p>\n",
              "</div>\n",
              "      <button class=\"colab-df-convert\" onclick=\"convertToInteractive('df-644f48ab-495d-456e-86d7-3921574925cb')\"\n",
              "              title=\"Convert this dataframe to an interactive table.\"\n",
              "              style=\"display:none;\">\n",
              "        \n",
              "  <svg xmlns=\"http://www.w3.org/2000/svg\" height=\"24px\"viewBox=\"0 0 24 24\"\n",
              "       width=\"24px\">\n",
              "    <path d=\"M0 0h24v24H0V0z\" fill=\"none\"/>\n",
              "    <path d=\"M18.56 5.44l.94 2.06.94-2.06 2.06-.94-2.06-.94-.94-2.06-.94 2.06-2.06.94zm-11 1L8.5 8.5l.94-2.06 2.06-.94-2.06-.94L8.5 2.5l-.94 2.06-2.06.94zm10 10l.94 2.06.94-2.06 2.06-.94-2.06-.94-.94-2.06-.94 2.06-2.06.94z\"/><path d=\"M17.41 7.96l-1.37-1.37c-.4-.4-.92-.59-1.43-.59-.52 0-1.04.2-1.43.59L10.3 9.45l-7.72 7.72c-.78.78-.78 2.05 0 2.83L4 21.41c.39.39.9.59 1.41.59.51 0 1.02-.2 1.41-.59l7.78-7.78 2.81-2.81c.8-.78.8-2.07 0-2.86zM5.41 20L4 18.59l7.72-7.72 1.47 1.35L5.41 20z\"/>\n",
              "  </svg>\n",
              "      </button>\n",
              "      \n",
              "  <style>\n",
              "    .colab-df-container {\n",
              "      display:flex;\n",
              "      flex-wrap:wrap;\n",
              "      gap: 12px;\n",
              "    }\n",
              "\n",
              "    .colab-df-convert {\n",
              "      background-color: #E8F0FE;\n",
              "      border: none;\n",
              "      border-radius: 50%;\n",
              "      cursor: pointer;\n",
              "      display: none;\n",
              "      fill: #1967D2;\n",
              "      height: 32px;\n",
              "      padding: 0 0 0 0;\n",
              "      width: 32px;\n",
              "    }\n",
              "\n",
              "    .colab-df-convert:hover {\n",
              "      background-color: #E2EBFA;\n",
              "      box-shadow: 0px 1px 2px rgba(60, 64, 67, 0.3), 0px 1px 3px 1px rgba(60, 64, 67, 0.15);\n",
              "      fill: #174EA6;\n",
              "    }\n",
              "\n",
              "    [theme=dark] .colab-df-convert {\n",
              "      background-color: #3B4455;\n",
              "      fill: #D2E3FC;\n",
              "    }\n",
              "\n",
              "    [theme=dark] .colab-df-convert:hover {\n",
              "      background-color: #434B5C;\n",
              "      box-shadow: 0px 1px 3px 1px rgba(0, 0, 0, 0.15);\n",
              "      filter: drop-shadow(0px 1px 2px rgba(0, 0, 0, 0.3));\n",
              "      fill: #FFFFFF;\n",
              "    }\n",
              "  </style>\n",
              "\n",
              "      <script>\n",
              "        const buttonEl =\n",
              "          document.querySelector('#df-644f48ab-495d-456e-86d7-3921574925cb button.colab-df-convert');\n",
              "        buttonEl.style.display =\n",
              "          google.colab.kernel.accessAllowed ? 'block' : 'none';\n",
              "\n",
              "        async function convertToInteractive(key) {\n",
              "          const element = document.querySelector('#df-644f48ab-495d-456e-86d7-3921574925cb');\n",
              "          const dataTable =\n",
              "            await google.colab.kernel.invokeFunction('convertToInteractive',\n",
              "                                                     [key], {});\n",
              "          if (!dataTable) return;\n",
              "\n",
              "          const docLinkHtml = 'Like what you see? Visit the ' +\n",
              "            '<a target=\"_blank\" href=https://colab.research.google.com/notebooks/data_table.ipynb>data table notebook</a>'\n",
              "            + ' to learn more about interactive tables.';\n",
              "          element.innerHTML = '';\n",
              "          dataTable['output_type'] = 'display_data';\n",
              "          await google.colab.output.renderOutput(dataTable, element);\n",
              "          const docLink = document.createElement('div');\n",
              "          docLink.innerHTML = docLinkHtml;\n",
              "          element.appendChild(docLink);\n",
              "        }\n",
              "      </script>\n",
              "    </div>\n",
              "  </div>\n",
              "  "
            ],
            "text/plain": [
              "                                                 Smiles  Active\n",
              "0                               COc1ccc2[nH]cc(CCN)c2c1   False\n",
              "1                       CCCN1CCC[C@H](c2cccc(O)c2)C1.Cl   False\n",
              "2     O=C(NO)c1cnc(N2CCN(S(=O)(=O)c3ccc4ccccc4c3)CC2...   False\n",
              "3     Nc1cccc(CNC(=O)c2ccc(Oc3ccc(OCc4cccc(F)c4)cc3)...   False\n",
              "4               Fc1ccccc1CNCc1ccc(-c2ccnc3[nH]ccc23)cc1   False\n",
              "...                                                 ...     ...\n",
              "5552  O=C(Oc1ccc([N+](=O)[O-])cc1)N1CCC(C(O)(c2ccc3c...   False\n",
              "5553                   Nc1nonc1/C(=N/O)Nc1ccc(F)c(Br)c1   False\n",
              "5554                                    Oc1cccc2cccnc12   False\n",
              "5555  OC(c1ccc(-c2ccc(CN3CCN(Cc4ccncc4)CC3)cc2)c(F)c...   False\n",
              "5556                    CCCCNc1ccc(C(=O)OCCN(C)C)cc1.Cl   False\n",
              "\n",
              "[5351 rows x 2 columns]"
            ]
          },
          "metadata": {},
          "execution_count": 325
        }
      ]
    },
    {
      "cell_type": "code",
      "source": [
        "# собираю значения Smiles неактивных молекул в лист\n",
        "s_inactive = []\n",
        "for i in df_train_False['Smiles']:\n",
        "  s_inactive.append(i)\n",
        "\n",
        "print('Длинна s_inactive:', len(s_inactive))\n",
        "print(\"Пример значения из s_inactive:\", s_inactive[1])"
      ],
      "metadata": {
        "colab": {
          "base_uri": "https://localhost:8080/"
        },
        "id": "4qnd-yyxM7jv",
        "outputId": "65fca91e-9468-4429-a8a7-4073f8453a3d"
      },
      "execution_count": null,
      "outputs": [
        {
          "output_type": "stream",
          "name": "stdout",
          "text": [
            "Длинна s_inactive: 5351\n",
            "Пример значения из s_inactive: CCCN1CCC[C@H](c2cccc(O)c2)C1.Cl\n"
          ]
        }
      ]
    },
    {
      "cell_type": "code",
      "source": [
        "# активные молекулы\n",
        "s_active = []\n",
        "for i in df_train_True['Smiles']:\n",
        "  s_active.append(i)\n",
        "\n",
        "print('Длинна s_active:', len(s_active))\n",
        "print(\"Пример значения из s_active:\", s_active[1])"
      ],
      "metadata": {
        "colab": {
          "base_uri": "https://localhost:8080/"
        },
        "id": "jJGcosf3eO-O",
        "outputId": "e8d14227-aef5-4b1a-ce31-4794f67dc46e"
      },
      "execution_count": null,
      "outputs": [
        {
          "output_type": "stream",
          "name": "stdout",
          "text": [
            "Длинна s_active: 206\n",
            "Пример значения из s_active: C[C@H]1COc2c(N3CCN(C)CC3)c(F)cc3c(=O)c(C(=O)O)cn1c23\n"
          ]
        }
      ]
    },
    {
      "cell_type": "code",
      "source": [
        "# функция перефода smiles в вектор 0 и 1\n",
        "def get_morgan_fingerprint(smiles: str, radius=2, nBits=4096):\n",
        "    mol = Chem.MolFromSmiles(smiles)\n",
        "    morgan_fp = AllChem.GetMorganFingerprintAsBitVect(mol, radius=radius, nBits=nBits)\n",
        "    return (list(morgan_fp))"
      ],
      "metadata": {
        "id": "Wwk83IB0ercF"
      },
      "execution_count": null,
      "outputs": []
    },
    {
      "cell_type": "code",
      "source": [
        "# для активных\n",
        "smal_active = []\n",
        "for i in s_active:\n",
        "  sm = get_morgan_fingerprint(i)      # получаю вектор из smiles\n",
        "  smal_active.append(sm)\n",
        "smal_active = np.array(smal_active)   # преобразую в numpy\n",
        "\n",
        "print(f\"Количество молекул активных: {len(smal_active)}\\nДлинна вектора одной молекулы: {len(smal_active[77])}\")\n",
        "print(f'Пример вектора smal_active: {smal_active[77]}')\n",
        "print(f'Размер массива smal_active: {smal_active.shape}')"
      ],
      "metadata": {
        "colab": {
          "base_uri": "https://localhost:8080/"
        },
        "id": "q3vgqtiyeyrz",
        "outputId": "2dd03f31-7906-4ecf-fb53-94fba276f908"
      },
      "execution_count": null,
      "outputs": [
        {
          "output_type": "stream",
          "name": "stdout",
          "text": [
            "Количество молекул активных: 206\n",
            "Длинна вектора одной молекулы: 4096\n",
            "Пример вектора smal_active: [0 0 0 ... 0 0 0]\n",
            "Размер массива smal_active: (206, 4096)\n"
          ]
        }
      ]
    },
    {
      "cell_type": "code",
      "source": [
        "# для неактивных\n",
        "smal_inactive = []\n",
        "for i in s_inactive:\n",
        "  sm = get_morgan_fingerprint(i)       # получаю вектор из smiles\n",
        "  smal_inactive.append(sm)\n",
        "smal_inactive = np.array(smal_inactive)# преобразую в numpy\n",
        "\n",
        "print(f\"Количество молекул не активных: {len(smal_inactive)}\\nДлинна вектора одной молекулы: {len(smal_inactive[77])}\")\n",
        "print(f'Пример вектора smal_active: {smal_inactive[77]}')\n",
        "print(f'Размер массива smal_inactive: {smal_inactive.shape}')"
      ],
      "metadata": {
        "colab": {
          "base_uri": "https://localhost:8080/"
        },
        "id": "ZXeg0ZWBLDDR",
        "outputId": "0f240a48-9625-448f-a603-b33f73fe0281"
      },
      "execution_count": null,
      "outputs": [
        {
          "output_type": "stream",
          "name": "stdout",
          "text": [
            "Количество молекул не активных: 5351\n",
            "Длинна вектора одной молекулы: 4096\n",
            "Пример вектора smal_active: [0 0 0 ... 0 0 0]\n",
            "Размер массива smal_inactive: (5351, 4096)\n"
          ]
        }
      ]
    },
    {
      "cell_type": "code",
      "source": [
        "# тут в виде pd таблицы\n",
        "#inactive = df_train_new[df_train_new.Active == True] # \n",
        "#active = df_train_new[df_train_new.Active == False] # "
      ],
      "metadata": {
        "id": "cDsnczjmh-sr"
      },
      "execution_count": null,
      "outputs": []
    },
    {
      "cell_type": "code",
      "source": [
        "RANDOM_SEED = 42 # задаем случайное значение\n",
        "\n",
        "# берём неактивные молекулы разбиваем на train_test(только 'X')\n",
        "X_train, X_test = train_test_split(smal_inactive, test_size=0.2, random_state=RANDOM_SEED)"
      ],
      "metadata": {
        "id": "QfuyDReaT77h"
      },
      "execution_count": null,
      "outputs": []
    },
    {
      "cell_type": "code",
      "source": [
        "X_train.shape, X_test.shape, smal_active.shape"
      ],
      "metadata": {
        "colab": {
          "base_uri": "https://localhost:8080/"
        },
        "id": "tKmIlvjkhGP_",
        "outputId": "27e0aba8-df1a-4f51-8077-847a8ab5c090"
      },
      "execution_count": null,
      "outputs": [
        {
          "output_type": "execute_result",
          "data": {
            "text/plain": [
              "((4280, 4096), (1071, 4096), (206, 4096))"
            ]
          },
          "metadata": {},
          "execution_count": 384
        }
      ]
    },
    {
      "cell_type": "code",
      "source": [
        "Y_test = np.zeros(1071)\n",
        "Y_test.shape"
      ],
      "metadata": {
        "colab": {
          "base_uri": "https://localhost:8080/"
        },
        "id": "NFbMBUUcqmzN",
        "outputId": "147e58b7-a182-4462-8ad8-eb2cf416d878"
      },
      "execution_count": null,
      "outputs": [
        {
          "output_type": "execute_result",
          "data": {
            "text/plain": [
              "(1071,)"
            ]
          },
          "metadata": {},
          "execution_count": 385
        }
      ]
    },
    {
      "cell_type": "code",
      "source": [
        "Y_smal_active = np.ones(206)\n",
        "Y_smal_active.shape"
      ],
      "metadata": {
        "colab": {
          "base_uri": "https://localhost:8080/"
        },
        "id": "1RHic768rU6C",
        "outputId": "216b7e2d-2e92-445e-eb47-b9bd9f790327"
      },
      "execution_count": null,
      "outputs": [
        {
          "output_type": "execute_result",
          "data": {
            "text/plain": [
              "(206,)"
            ]
          },
          "metadata": {},
          "execution_count": 386
        }
      ]
    },
    {
      "cell_type": "code",
      "source": [
        "# Добавляем все активные молекулы в тестовый набор данных\n",
        "X_test = np.concatenate((X_test, smal_active))\n",
        "Y_test = np.concatenate((Y_test, Y_smal_active))\n",
        "X_test.shape, Y_test.shape"
      ],
      "metadata": {
        "colab": {
          "base_uri": "https://localhost:8080/"
        },
        "id": "SxpsMi_mTL0Y",
        "outputId": "ed174995-87f5-4e58-8a0e-8351d757176e"
      },
      "execution_count": null,
      "outputs": [
        {
          "output_type": "execute_result",
          "data": {
            "text/plain": [
              "((1277, 4096), (1277,))"
            ]
          },
          "metadata": {},
          "execution_count": 387
        }
      ]
    },
    {
      "cell_type": "markdown",
      "source": [
        "**Нейронная сеть**"
      ],
      "metadata": {
        "id": "BIGVHum0uNx-"
      }
    },
    {
      "cell_type": "code",
      "source": [
        "def creditcardAutoencoder(): \n",
        "  dataSize = 4096 # размер входного слоя\n",
        "  dataInput = Input(shape=(dataSize, )) # задаем эти размеры как входные в сеть\n",
        "  \n",
        "  x = Dense(10, activation='elu')(dataInput) # пропускаем через полносвязный слой размером 10\n",
        "  x = Dense(dataSize, activation='relu')(x) # и через полносвязный слой размером 2048\n",
        "  \n",
        "  autoencoder = Model(inputs=dataInput, outputs=x) # собрали модель \n",
        "  \n",
        "  autoencoder.compile(optimizer='Adam', loss='mse') # компилируем модель также, с выбором оптимайзера и среднеквадратичной ошибки\n",
        "  \n",
        "  return autoencoder "
      ],
      "metadata": {
        "id": "Zqi48EVst2jH"
      },
      "execution_count": null,
      "outputs": []
    },
    {
      "cell_type": "code",
      "source": [
        "model = creditcardAutoencoder()\n",
        "history = model.fit(X_train, X_train,\n",
        "                    epochs=50,\n",
        "                    batch_size=16) # загружаем данные в модель(X_train'ы) и обучаем"
      ],
      "metadata": {
        "colab": {
          "base_uri": "https://localhost:8080/"
        },
        "id": "UAJJ0tBauM_H",
        "outputId": "bd2f046f-8242-417c-c280-5d9448349b55"
      },
      "execution_count": null,
      "outputs": [
        {
          "output_type": "stream",
          "name": "stdout",
          "text": [
            "Epoch 1/50\n",
            "268/268 [==============================] - 1s 4ms/step - loss: 0.0090\n",
            "Epoch 2/50\n",
            "268/268 [==============================] - 1s 4ms/step - loss: 0.0080\n",
            "Epoch 3/50\n",
            "268/268 [==============================] - 1s 4ms/step - loss: 0.0076\n",
            "Epoch 4/50\n",
            "268/268 [==============================] - 1s 4ms/step - loss: 0.0075\n",
            "Epoch 5/50\n",
            "268/268 [==============================] - 1s 4ms/step - loss: 0.0074\n",
            "Epoch 6/50\n",
            "268/268 [==============================] - 1s 4ms/step - loss: 0.0074\n",
            "Epoch 7/50\n",
            "268/268 [==============================] - 1s 4ms/step - loss: 0.0073\n",
            "Epoch 8/50\n",
            "268/268 [==============================] - 1s 4ms/step - loss: 0.0073\n",
            "Epoch 9/50\n",
            "268/268 [==============================] - 1s 4ms/step - loss: 0.0073\n",
            "Epoch 10/50\n",
            "268/268 [==============================] - 1s 4ms/step - loss: 0.0073\n",
            "Epoch 11/50\n",
            "268/268 [==============================] - 1s 4ms/step - loss: 0.0072\n",
            "Epoch 12/50\n",
            "268/268 [==============================] - 1s 4ms/step - loss: 0.0072\n",
            "Epoch 13/50\n",
            "268/268 [==============================] - 1s 4ms/step - loss: 0.0072\n",
            "Epoch 14/50\n",
            "268/268 [==============================] - 1s 4ms/step - loss: 0.0072\n",
            "Epoch 15/50\n",
            "268/268 [==============================] - 1s 4ms/step - loss: 0.0072\n",
            "Epoch 16/50\n",
            "268/268 [==============================] - 1s 4ms/step - loss: 0.0072\n",
            "Epoch 17/50\n",
            "268/268 [==============================] - 1s 4ms/step - loss: 0.0071\n",
            "Epoch 18/50\n",
            "268/268 [==============================] - 1s 4ms/step - loss: 0.0071\n",
            "Epoch 19/50\n",
            "268/268 [==============================] - 1s 4ms/step - loss: 0.0071\n",
            "Epoch 20/50\n",
            "268/268 [==============================] - 1s 5ms/step - loss: 0.0071\n",
            "Epoch 21/50\n",
            "268/268 [==============================] - 1s 4ms/step - loss: 0.0071\n",
            "Epoch 22/50\n",
            "268/268 [==============================] - 1s 4ms/step - loss: 0.0071\n",
            "Epoch 23/50\n",
            "268/268 [==============================] - 1s 4ms/step - loss: 0.0071\n",
            "Epoch 24/50\n",
            "268/268 [==============================] - 1s 4ms/step - loss: 0.0071\n",
            "Epoch 25/50\n",
            "268/268 [==============================] - 1s 4ms/step - loss: 0.0071\n",
            "Epoch 26/50\n",
            "268/268 [==============================] - 1s 4ms/step - loss: 0.0071\n",
            "Epoch 27/50\n",
            "268/268 [==============================] - 1s 4ms/step - loss: 0.0071\n",
            "Epoch 28/50\n",
            "268/268 [==============================] - 1s 4ms/step - loss: 0.0070\n",
            "Epoch 29/50\n",
            "268/268 [==============================] - 1s 4ms/step - loss: 0.0070\n",
            "Epoch 30/50\n",
            "268/268 [==============================] - 1s 4ms/step - loss: 0.0070\n",
            "Epoch 31/50\n",
            "268/268 [==============================] - 1s 4ms/step - loss: 0.0070\n",
            "Epoch 32/50\n",
            "268/268 [==============================] - 1s 4ms/step - loss: 0.0070\n",
            "Epoch 33/50\n",
            "268/268 [==============================] - 1s 4ms/step - loss: 0.0070\n",
            "Epoch 34/50\n",
            "268/268 [==============================] - 1s 4ms/step - loss: 0.0070\n",
            "Epoch 35/50\n",
            "268/268 [==============================] - 1s 4ms/step - loss: 0.0070\n",
            "Epoch 36/50\n",
            "268/268 [==============================] - 1s 4ms/step - loss: 0.0070\n",
            "Epoch 37/50\n",
            "268/268 [==============================] - 2s 6ms/step - loss: 0.0070\n",
            "Epoch 38/50\n",
            "268/268 [==============================] - 1s 5ms/step - loss: 0.0070\n",
            "Epoch 39/50\n",
            "268/268 [==============================] - 1s 4ms/step - loss: 0.0070\n",
            "Epoch 40/50\n",
            "268/268 [==============================] - 1s 4ms/step - loss: 0.0070\n",
            "Epoch 41/50\n",
            "268/268 [==============================] - 1s 4ms/step - loss: 0.0070\n",
            "Epoch 42/50\n",
            "268/268 [==============================] - 1s 4ms/step - loss: 0.0070\n",
            "Epoch 43/50\n",
            "268/268 [==============================] - 1s 4ms/step - loss: 0.0070\n",
            "Epoch 44/50\n",
            "268/268 [==============================] - 1s 4ms/step - loss: 0.0070\n",
            "Epoch 45/50\n",
            "268/268 [==============================] - 1s 4ms/step - loss: 0.0070\n",
            "Epoch 46/50\n",
            "268/268 [==============================] - 1s 4ms/step - loss: 0.0070\n",
            "Epoch 47/50\n",
            "268/268 [==============================] - 1s 4ms/step - loss: 0.0070\n",
            "Epoch 48/50\n",
            "268/268 [==============================] - 1s 4ms/step - loss: 0.0070\n",
            "Epoch 49/50\n",
            "268/268 [==============================] - 1s 4ms/step - loss: 0.0070\n",
            "Epoch 50/50\n",
            "268/268 [==============================] - 1s 4ms/step - loss: 0.0069\n"
          ]
        }
      ]
    },
    {
      "cell_type": "code",
      "source": [
        "predictions_inactive = model.predict(X_test) # делаем предсказание по X_test на неактивных молекулах\n",
        "predictions_active = model.predict(smal_active) # делаем предсказание smal_active на активных молекулах"
      ],
      "metadata": {
        "id": "U5_ckQsdvB-x"
      },
      "execution_count": null,
      "outputs": []
    },
    {
      "cell_type": "code",
      "source": [
        "X_test.shape, predictions_inactive.shape"
      ],
      "metadata": {
        "colab": {
          "base_uri": "https://localhost:8080/"
        },
        "id": "PUnYoVxEvOeR",
        "outputId": "2561bf1f-8d5b-4bb2-fc8a-28de76282a65"
      },
      "execution_count": null,
      "outputs": [
        {
          "output_type": "execute_result",
          "data": {
            "text/plain": [
              "((1483, 4096), (1483, 4096))"
            ]
          },
          "metadata": {},
          "execution_count": 344
        }
      ]
    },
    {
      "cell_type": "code",
      "source": [
        "predictions_active.shape"
      ],
      "metadata": {
        "colab": {
          "base_uri": "https://localhost:8080/"
        },
        "id": "BojC68TyvVbg",
        "outputId": "2cc556db-4ac1-4aef-9cd7-0188e71207f4"
      },
      "execution_count": null,
      "outputs": [
        {
          "output_type": "execute_result",
          "data": {
            "text/plain": [
              "(206, 4096)"
            ]
          },
          "metadata": {},
          "execution_count": 345
        }
      ]
    },
    {
      "cell_type": "code",
      "source": [
        "# определяем среднеквадратичную ошибку по smal_active и предсказанием по smal_active\n",
        "mse_active = np.mean(np.power(smal_active - predictions_active, 2), axis=1)\n",
        "\n",
        "# определяем среднеквадратичную ошибку по X_test и предсказанием по X_test\n",
        "mse_inactive = np.mean(np.power(X_test - predictions_inactive, 2), axis=1)"
      ],
      "metadata": {
        "id": "z7bfsvohva-E"
      },
      "execution_count": null,
      "outputs": []
    },
    {
      "cell_type": "code",
      "source": [
        "print(\"Минимальная ошибка неактивных молекул:\", round(min(mse_inactive),4)) #\n",
        "print(\"Максимальная ошибка неактивных молекул:\", round(max(mse_inactive),4)) #\n",
        "print(\"Средняя ошибка неактивных молекул:\", round(sum(mse_inactive) / len(mse_inactive),8)) # среднюю ошибку"
      ],
      "metadata": {
        "colab": {
          "base_uri": "https://localhost:8080/"
        },
        "id": "g37mpfRCv6n9",
        "outputId": "4d9c1ac6-1660-4d74-ab2e-4c94dda38a10"
      },
      "execution_count": null,
      "outputs": [
        {
          "output_type": "stream",
          "name": "stdout",
          "text": [
            "Минимальная ошибка неактивных молекул: 0.0008\n",
            "Максимальная ошибка неактивных молекул: 0.0206\n",
            "Средняя ошибка неактивных молекул: 0.00776771\n"
          ]
        }
      ]
    },
    {
      "cell_type": "code",
      "source": [
        "print(\"Минимальная ошибка активных молекул:\", round(min(mse_active),4)) #\n",
        "print(\"Максимальная ошибка активных молекул:\", round(max(mse_active),4)) #\n",
        "print(\"Средняя ошибка активных молекул:\", round(sum(mse_active) / len(mse_active),8)) # среднюю ошибку"
      ],
      "metadata": {
        "colab": {
          "base_uri": "https://localhost:8080/"
        },
        "id": "jXmxFhj6wFuI",
        "outputId": "88ca88dd-f93a-4ddf-9c77-e5a1ac7462b3"
      },
      "execution_count": null,
      "outputs": [
        {
          "output_type": "stream",
          "name": "stdout",
          "text": [
            "Минимальная ошибка активных молекул: 0.0023\n",
            "Максимальная ошибка активных молекул: 0.021\n",
            "Средняя ошибка активных молекул: 0.00731055\n"
          ]
        }
      ]
    },
    {
      "cell_type": "markdown",
      "source": [
        "**Общий предикт**"
      ],
      "metadata": {
        "id": "O_wLs4F6s2uf"
      }
    },
    {
      "cell_type": "code",
      "source": [
        "predictions = model.predict(X_test) # делаем предсказание по X_test на неактивных молекулах\n",
        "predictions.shape"
      ],
      "metadata": {
        "colab": {
          "base_uri": "https://localhost:8080/"
        },
        "id": "I19Klk81satg",
        "outputId": "15bc5149-1453-4bf2-8f3a-5da775f4f4e7"
      },
      "execution_count": null,
      "outputs": [
        {
          "output_type": "execute_result",
          "data": {
            "text/plain": [
              "(1277, 4096)"
            ]
          },
          "metadata": {},
          "execution_count": 390
        }
      ]
    },
    {
      "cell_type": "code",
      "source": [
        "mse = np.mean(np.power(X_test - predictions, 2), axis=1)"
      ],
      "metadata": {
        "id": "4z8mX4MFswy3"
      },
      "execution_count": null,
      "outputs": []
    },
    {
      "cell_type": "code",
      "source": [
        "mse_Inactivel = mse[:1071] # неактивные\n",
        "mse_Active = mse[1071:] # активные"
      ],
      "metadata": {
        "id": "t_l2dVvmshUG"
      },
      "execution_count": null,
      "outputs": []
    },
    {
      "cell_type": "code",
      "source": [
        "len(mse_Inactivel), len(mse_Active)"
      ],
      "metadata": {
        "colab": {
          "base_uri": "https://localhost:8080/"
        },
        "id": "QYRpW_GOtax_",
        "outputId": "419b15f7-10c4-4d69-c107-96d778376c93"
      },
      "execution_count": null,
      "outputs": [
        {
          "output_type": "execute_result",
          "data": {
            "text/plain": [
              "(1071, 206)"
            ]
          },
          "metadata": {},
          "execution_count": 395
        }
      ]
    },
    {
      "cell_type": "code",
      "source": [
        "print(\"Минимальная ошибка неактивных молекул:\", round(min(mse_Inactivel),4)) #\n",
        "print(\"Максимальная ошибка неактивных молекул:\", round(max(mse_Inactivel),4)) #\n",
        "print(\"Средняя ошибка неактивных молекул:\", round(sum(mse_Inactivel) / len(mse_Inactivel),8)) # среднюю ошибку"
      ],
      "metadata": {
        "colab": {
          "base_uri": "https://localhost:8080/"
        },
        "id": "v0Tf1OExvy1H",
        "outputId": "92d695f7-1589-4ae5-c232-f1c8d7998ed2"
      },
      "execution_count": null,
      "outputs": [
        {
          "output_type": "stream",
          "name": "stdout",
          "text": [
            "Минимальная ошибка неактивных молекул: 0.0008\n",
            "Максимальная ошибка неактивных молекул: 0.0226\n",
            "Средняя ошибка неактивных молекул: 0.00775119\n"
          ]
        }
      ]
    },
    {
      "cell_type": "code",
      "source": [
        "print(\"Минимальная ошибка активных молекул:\", round(min(mse_Active),4)) #\n",
        "print(\"Максимальная ошибка активных молекул:\", round(max(mse_Active),4)) #\n",
        "print(\"Средняя ошибка активных молекул:\", round(sum(mse_Active) / len(mse_Active),8)) # среднюю ошибку"
      ],
      "metadata": {
        "colab": {
          "base_uri": "https://localhost:8080/"
        },
        "id": "_KO_4d_ov6Bu",
        "outputId": "84d671ba-9ff3-4209-93e7-12ceeeb23d92"
      },
      "execution_count": null,
      "outputs": [
        {
          "output_type": "stream",
          "name": "stdout",
          "text": [
            "Минимальная ошибка активных молекул: 0.0019\n",
            "Максимальная ошибка активных молекул: 0.0204\n",
            "Средняя ошибка активных молекул: 0.00735226\n"
          ]
        }
      ]
    },
    {
      "cell_type": "code",
      "source": [
        "def getAccByBias(bias): # функция будет принимать какое то пороговое значение\n",
        "  isInactive = mse_Inactivel > bias # если ошибка меньше порога - то неактивная\n",
        "  isActive = mse_Active < bias # если ошибка больше порога - то активная\n",
        "\n",
        "  accInactive = sum(isInactive) / len(isInactive) # вычисляем процент неактивных\n",
        "  accActive = sum(isActive) / len(isActive) # вычисляем процент активных\n",
        "\n",
        "  print(\"Распознано неактивных молекул: \", round(100*accInactive), \"%\", sep=\"\")\n",
        "  print(\"Распознано активных молекул: \", round(100*accActive), \"%\", sep=\"\")\n",
        "  print(\"Средняя точность распознавания: \", round(50*(accInactive + accActive)), \"%\", sep=\"\")"
      ],
      "metadata": {
        "id": "2CP-gDqbwGiJ"
      },
      "execution_count": null,
      "outputs": []
    },
    {
      "cell_type": "code",
      "source": [
        "getAccByBias(0.0074)"
      ],
      "metadata": {
        "colab": {
          "base_uri": "https://localhost:8080/"
        },
        "id": "73f8HRQOxg5v",
        "outputId": "ab0f2d0b-b297-417d-e521-d0033ef780c8"
      },
      "execution_count": null,
      "outputs": [
        {
          "output_type": "stream",
          "name": "stdout",
          "text": [
            "Распознано неактивных молекул: 49%\n",
            "Распознано активных молекул: 56%\n",
            "Средняя точность распознавания: 53%\n"
          ]
        }
      ]
    },
    {
      "cell_type": "markdown",
      "source": [
        "##**Submit**"
      ],
      "metadata": {
        "id": "4PuOfsKSTz7F"
      }
    },
    {
      "cell_type": "code",
      "source": [
        "df_train"
      ],
      "metadata": {
        "colab": {
          "base_uri": "https://localhost:8080/",
          "height": 424
        },
        "id": "j6fqkN3OUHki",
        "outputId": "803e1e1e-0791-469b-c78f-0d0b2f0cfa14"
      },
      "execution_count": null,
      "outputs": [
        {
          "output_type": "execute_result",
          "data": {
            "text/html": [
              "\n",
              "  <div id=\"df-891b8e52-c474-4195-b471-438e1105f89b\">\n",
              "    <div class=\"colab-df-container\">\n",
              "      <div>\n",
              "<style scoped>\n",
              "    .dataframe tbody tr th:only-of-type {\n",
              "        vertical-align: middle;\n",
              "    }\n",
              "\n",
              "    .dataframe tbody tr th {\n",
              "        vertical-align: top;\n",
              "    }\n",
              "\n",
              "    .dataframe thead th {\n",
              "        text-align: right;\n",
              "    }\n",
              "</style>\n",
              "<table border=\"1\" class=\"dataframe\">\n",
              "  <thead>\n",
              "    <tr style=\"text-align: right;\">\n",
              "      <th></th>\n",
              "      <th>Unnamed: 0</th>\n",
              "      <th>Smiles</th>\n",
              "      <th>Active</th>\n",
              "    </tr>\n",
              "  </thead>\n",
              "  <tbody>\n",
              "    <tr>\n",
              "      <th>0</th>\n",
              "      <td>0</td>\n",
              "      <td>COc1ccc2[nH]cc(CCN)c2c1</td>\n",
              "      <td>False</td>\n",
              "    </tr>\n",
              "    <tr>\n",
              "      <th>1</th>\n",
              "      <td>1</td>\n",
              "      <td>CCCN1CCC[C@H](c2cccc(O)c2)C1.Cl</td>\n",
              "      <td>False</td>\n",
              "    </tr>\n",
              "    <tr>\n",
              "      <th>2</th>\n",
              "      <td>2</td>\n",
              "      <td>O=C(NO)c1cnc(N2CCN(S(=O)(=O)c3ccc4ccccc4c3)CC2...</td>\n",
              "      <td>False</td>\n",
              "    </tr>\n",
              "    <tr>\n",
              "      <th>3</th>\n",
              "      <td>3</td>\n",
              "      <td>Nc1cccc(CNC(=O)c2ccc(Oc3ccc(OCc4cccc(F)c4)cc3)...</td>\n",
              "      <td>False</td>\n",
              "    </tr>\n",
              "    <tr>\n",
              "      <th>4</th>\n",
              "      <td>4</td>\n",
              "      <td>Fc1ccccc1CNCc1ccc(-c2ccnc3[nH]ccc23)cc1</td>\n",
              "      <td>False</td>\n",
              "    </tr>\n",
              "    <tr>\n",
              "      <th>...</th>\n",
              "      <td>...</td>\n",
              "      <td>...</td>\n",
              "      <td>...</td>\n",
              "    </tr>\n",
              "    <tr>\n",
              "      <th>5552</th>\n",
              "      <td>5552</td>\n",
              "      <td>O=C(Oc1ccc([N+](=O)[O-])cc1)N1CCC(C(O)(c2ccc3c...</td>\n",
              "      <td>False</td>\n",
              "    </tr>\n",
              "    <tr>\n",
              "      <th>5553</th>\n",
              "      <td>5553</td>\n",
              "      <td>Nc1nonc1/C(=N/O)Nc1ccc(F)c(Br)c1</td>\n",
              "      <td>False</td>\n",
              "    </tr>\n",
              "    <tr>\n",
              "      <th>5554</th>\n",
              "      <td>5554</td>\n",
              "      <td>Oc1cccc2cccnc12</td>\n",
              "      <td>False</td>\n",
              "    </tr>\n",
              "    <tr>\n",
              "      <th>5555</th>\n",
              "      <td>5555</td>\n",
              "      <td>OC(c1ccc(-c2ccc(CN3CCN(Cc4ccncc4)CC3)cc2)c(F)c...</td>\n",
              "      <td>False</td>\n",
              "    </tr>\n",
              "    <tr>\n",
              "      <th>5556</th>\n",
              "      <td>5556</td>\n",
              "      <td>CCCCNc1ccc(C(=O)OCCN(C)C)cc1.Cl</td>\n",
              "      <td>False</td>\n",
              "    </tr>\n",
              "  </tbody>\n",
              "</table>\n",
              "<p>5557 rows × 3 columns</p>\n",
              "</div>\n",
              "      <button class=\"colab-df-convert\" onclick=\"convertToInteractive('df-891b8e52-c474-4195-b471-438e1105f89b')\"\n",
              "              title=\"Convert this dataframe to an interactive table.\"\n",
              "              style=\"display:none;\">\n",
              "        \n",
              "  <svg xmlns=\"http://www.w3.org/2000/svg\" height=\"24px\"viewBox=\"0 0 24 24\"\n",
              "       width=\"24px\">\n",
              "    <path d=\"M0 0h24v24H0V0z\" fill=\"none\"/>\n",
              "    <path d=\"M18.56 5.44l.94 2.06.94-2.06 2.06-.94-2.06-.94-.94-2.06-.94 2.06-2.06.94zm-11 1L8.5 8.5l.94-2.06 2.06-.94-2.06-.94L8.5 2.5l-.94 2.06-2.06.94zm10 10l.94 2.06.94-2.06 2.06-.94-2.06-.94-.94-2.06-.94 2.06-2.06.94z\"/><path d=\"M17.41 7.96l-1.37-1.37c-.4-.4-.92-.59-1.43-.59-.52 0-1.04.2-1.43.59L10.3 9.45l-7.72 7.72c-.78.78-.78 2.05 0 2.83L4 21.41c.39.39.9.59 1.41.59.51 0 1.02-.2 1.41-.59l7.78-7.78 2.81-2.81c.8-.78.8-2.07 0-2.86zM5.41 20L4 18.59l7.72-7.72 1.47 1.35L5.41 20z\"/>\n",
              "  </svg>\n",
              "      </button>\n",
              "      \n",
              "  <style>\n",
              "    .colab-df-container {\n",
              "      display:flex;\n",
              "      flex-wrap:wrap;\n",
              "      gap: 12px;\n",
              "    }\n",
              "\n",
              "    .colab-df-convert {\n",
              "      background-color: #E8F0FE;\n",
              "      border: none;\n",
              "      border-radius: 50%;\n",
              "      cursor: pointer;\n",
              "      display: none;\n",
              "      fill: #1967D2;\n",
              "      height: 32px;\n",
              "      padding: 0 0 0 0;\n",
              "      width: 32px;\n",
              "    }\n",
              "\n",
              "    .colab-df-convert:hover {\n",
              "      background-color: #E2EBFA;\n",
              "      box-shadow: 0px 1px 2px rgba(60, 64, 67, 0.3), 0px 1px 3px 1px rgba(60, 64, 67, 0.15);\n",
              "      fill: #174EA6;\n",
              "    }\n",
              "\n",
              "    [theme=dark] .colab-df-convert {\n",
              "      background-color: #3B4455;\n",
              "      fill: #D2E3FC;\n",
              "    }\n",
              "\n",
              "    [theme=dark] .colab-df-convert:hover {\n",
              "      background-color: #434B5C;\n",
              "      box-shadow: 0px 1px 3px 1px rgba(0, 0, 0, 0.15);\n",
              "      filter: drop-shadow(0px 1px 2px rgba(0, 0, 0, 0.3));\n",
              "      fill: #FFFFFF;\n",
              "    }\n",
              "  </style>\n",
              "\n",
              "      <script>\n",
              "        const buttonEl =\n",
              "          document.querySelector('#df-891b8e52-c474-4195-b471-438e1105f89b button.colab-df-convert');\n",
              "        buttonEl.style.display =\n",
              "          google.colab.kernel.accessAllowed ? 'block' : 'none';\n",
              "\n",
              "        async function convertToInteractive(key) {\n",
              "          const element = document.querySelector('#df-891b8e52-c474-4195-b471-438e1105f89b');\n",
              "          const dataTable =\n",
              "            await google.colab.kernel.invokeFunction('convertToInteractive',\n",
              "                                                     [key], {});\n",
              "          if (!dataTable) return;\n",
              "\n",
              "          const docLinkHtml = 'Like what you see? Visit the ' +\n",
              "            '<a target=\"_blank\" href=https://colab.research.google.com/notebooks/data_table.ipynb>data table notebook</a>'\n",
              "            + ' to learn more about interactive tables.';\n",
              "          element.innerHTML = '';\n",
              "          dataTable['output_type'] = 'display_data';\n",
              "          await google.colab.output.renderOutput(dataTable, element);\n",
              "          const docLink = document.createElement('div');\n",
              "          docLink.innerHTML = docLinkHtml;\n",
              "          element.appendChild(docLink);\n",
              "        }\n",
              "      </script>\n",
              "    </div>\n",
              "  </div>\n",
              "  "
            ],
            "text/plain": [
              "      Unnamed: 0                                             Smiles  Active\n",
              "0              0                            COc1ccc2[nH]cc(CCN)c2c1   False\n",
              "1              1                    CCCN1CCC[C@H](c2cccc(O)c2)C1.Cl   False\n",
              "2              2  O=C(NO)c1cnc(N2CCN(S(=O)(=O)c3ccc4ccccc4c3)CC2...   False\n",
              "3              3  Nc1cccc(CNC(=O)c2ccc(Oc3ccc(OCc4cccc(F)c4)cc3)...   False\n",
              "4              4            Fc1ccccc1CNCc1ccc(-c2ccnc3[nH]ccc23)cc1   False\n",
              "...          ...                                                ...     ...\n",
              "5552        5552  O=C(Oc1ccc([N+](=O)[O-])cc1)N1CCC(C(O)(c2ccc3c...   False\n",
              "5553        5553                   Nc1nonc1/C(=N/O)Nc1ccc(F)c(Br)c1   False\n",
              "5554        5554                                    Oc1cccc2cccnc12   False\n",
              "5555        5555  OC(c1ccc(-c2ccc(CN3CCN(Cc4ccncc4)CC3)cc2)c(F)c...   False\n",
              "5556        5556                    CCCCNc1ccc(C(=O)OCCN(C)C)cc1.Cl   False\n",
              "\n",
              "[5557 rows x 3 columns]"
            ]
          },
          "metadata": {},
          "execution_count": 168
        }
      ]
    },
    {
      "cell_type": "code",
      "source": [
        "# Формирую табличку \n",
        "submission = df_test\n",
        "submission['Active'] = ''\n",
        "submission\n",
        "\n"
      ],
      "metadata": {
        "colab": {
          "base_uri": "https://localhost:8080/",
          "height": 424
        },
        "id": "QwgZxE3aT2l6",
        "outputId": "4c36b782-09b5-4b7b-9347-52c151a83bcd"
      },
      "execution_count": null,
      "outputs": [
        {
          "output_type": "execute_result",
          "data": {
            "text/html": [
              "\n",
              "  <div id=\"df-31328bd3-247f-4a77-9ffd-3e7263c264be\">\n",
              "    <div class=\"colab-df-container\">\n",
              "      <div>\n",
              "<style scoped>\n",
              "    .dataframe tbody tr th:only-of-type {\n",
              "        vertical-align: middle;\n",
              "    }\n",
              "\n",
              "    .dataframe tbody tr th {\n",
              "        vertical-align: top;\n",
              "    }\n",
              "\n",
              "    .dataframe thead th {\n",
              "        text-align: right;\n",
              "    }\n",
              "</style>\n",
              "<table border=\"1\" class=\"dataframe\">\n",
              "  <thead>\n",
              "    <tr style=\"text-align: right;\">\n",
              "      <th></th>\n",
              "      <th>Unnamed: 0</th>\n",
              "      <th>Smiles</th>\n",
              "      <th>Active</th>\n",
              "    </tr>\n",
              "  </thead>\n",
              "  <tbody>\n",
              "    <tr>\n",
              "      <th>0</th>\n",
              "      <td>0</td>\n",
              "      <td>COC(=O)Nc1ccc(-c2nc(N3CCOCC3)c3cnn(C4CCN(Cc5cc...</td>\n",
              "      <td></td>\n",
              "    </tr>\n",
              "    <tr>\n",
              "      <th>1</th>\n",
              "      <td>1</td>\n",
              "      <td>O=Cc1cn(Cc2ccc(Cl)cc2)c2ccccc12</td>\n",
              "      <td></td>\n",
              "    </tr>\n",
              "    <tr>\n",
              "      <th>2</th>\n",
              "      <td>2</td>\n",
              "      <td>NC(CO)C(=O)NNCc1ccc(O)c(O)c1O</td>\n",
              "      <td></td>\n",
              "    </tr>\n",
              "    <tr>\n",
              "      <th>3</th>\n",
              "      <td>3</td>\n",
              "      <td>Nc1nc(=O)n([C@H]2C[C@H](O)[C@@H](CO)O2)cc1Cl</td>\n",
              "      <td></td>\n",
              "    </tr>\n",
              "    <tr>\n",
              "      <th>4</th>\n",
              "      <td>4</td>\n",
              "      <td>Nc1ccc(C(=O)Nc2cccc(-c3nc(N4CCOCC4)c4oc5ncccc5...</td>\n",
              "      <td></td>\n",
              "    </tr>\n",
              "    <tr>\n",
              "      <th>...</th>\n",
              "      <td>...</td>\n",
              "      <td>...</td>\n",
              "      <td>...</td>\n",
              "    </tr>\n",
              "    <tr>\n",
              "      <th>1609</th>\n",
              "      <td>1609</td>\n",
              "      <td>NS(=O)(=O)c1cc2c(cc1Cl)NC(C1CC3C=CC1C3)NS2(=O)=O</td>\n",
              "      <td></td>\n",
              "    </tr>\n",
              "    <tr>\n",
              "      <th>1610</th>\n",
              "      <td>1610</td>\n",
              "      <td>Cc1cccc(Nc2ccncc2S(=O)(=O)NC(=O)NC(C)C)c1</td>\n",
              "      <td></td>\n",
              "    </tr>\n",
              "    <tr>\n",
              "      <th>1611</th>\n",
              "      <td>1611</td>\n",
              "      <td>CCCC(=O)O[C@]1(C(=O)CO)CC[C@H]2[C@@H]3CCC4=CC(...</td>\n",
              "      <td></td>\n",
              "    </tr>\n",
              "    <tr>\n",
              "      <th>1612</th>\n",
              "      <td>1612</td>\n",
              "      <td>CN(C)c1cccc(Oc2cnc(Nc3cccc(O)c3)nc2)c1</td>\n",
              "      <td></td>\n",
              "    </tr>\n",
              "    <tr>\n",
              "      <th>1613</th>\n",
              "      <td>1613</td>\n",
              "      <td>O=C(O)c1ccccc1-c1c2ccc(=O)cc-2oc2cc(O)ccc12</td>\n",
              "      <td></td>\n",
              "    </tr>\n",
              "  </tbody>\n",
              "</table>\n",
              "<p>1614 rows × 3 columns</p>\n",
              "</div>\n",
              "      <button class=\"colab-df-convert\" onclick=\"convertToInteractive('df-31328bd3-247f-4a77-9ffd-3e7263c264be')\"\n",
              "              title=\"Convert this dataframe to an interactive table.\"\n",
              "              style=\"display:none;\">\n",
              "        \n",
              "  <svg xmlns=\"http://www.w3.org/2000/svg\" height=\"24px\"viewBox=\"0 0 24 24\"\n",
              "       width=\"24px\">\n",
              "    <path d=\"M0 0h24v24H0V0z\" fill=\"none\"/>\n",
              "    <path d=\"M18.56 5.44l.94 2.06.94-2.06 2.06-.94-2.06-.94-.94-2.06-.94 2.06-2.06.94zm-11 1L8.5 8.5l.94-2.06 2.06-.94-2.06-.94L8.5 2.5l-.94 2.06-2.06.94zm10 10l.94 2.06.94-2.06 2.06-.94-2.06-.94-.94-2.06-.94 2.06-2.06.94z\"/><path d=\"M17.41 7.96l-1.37-1.37c-.4-.4-.92-.59-1.43-.59-.52 0-1.04.2-1.43.59L10.3 9.45l-7.72 7.72c-.78.78-.78 2.05 0 2.83L4 21.41c.39.39.9.59 1.41.59.51 0 1.02-.2 1.41-.59l7.78-7.78 2.81-2.81c.8-.78.8-2.07 0-2.86zM5.41 20L4 18.59l7.72-7.72 1.47 1.35L5.41 20z\"/>\n",
              "  </svg>\n",
              "      </button>\n",
              "      \n",
              "  <style>\n",
              "    .colab-df-container {\n",
              "      display:flex;\n",
              "      flex-wrap:wrap;\n",
              "      gap: 12px;\n",
              "    }\n",
              "\n",
              "    .colab-df-convert {\n",
              "      background-color: #E8F0FE;\n",
              "      border: none;\n",
              "      border-radius: 50%;\n",
              "      cursor: pointer;\n",
              "      display: none;\n",
              "      fill: #1967D2;\n",
              "      height: 32px;\n",
              "      padding: 0 0 0 0;\n",
              "      width: 32px;\n",
              "    }\n",
              "\n",
              "    .colab-df-convert:hover {\n",
              "      background-color: #E2EBFA;\n",
              "      box-shadow: 0px 1px 2px rgba(60, 64, 67, 0.3), 0px 1px 3px 1px rgba(60, 64, 67, 0.15);\n",
              "      fill: #174EA6;\n",
              "    }\n",
              "\n",
              "    [theme=dark] .colab-df-convert {\n",
              "      background-color: #3B4455;\n",
              "      fill: #D2E3FC;\n",
              "    }\n",
              "\n",
              "    [theme=dark] .colab-df-convert:hover {\n",
              "      background-color: #434B5C;\n",
              "      box-shadow: 0px 1px 3px 1px rgba(0, 0, 0, 0.15);\n",
              "      filter: drop-shadow(0px 1px 2px rgba(0, 0, 0, 0.3));\n",
              "      fill: #FFFFFF;\n",
              "    }\n",
              "  </style>\n",
              "\n",
              "      <script>\n",
              "        const buttonEl =\n",
              "          document.querySelector('#df-31328bd3-247f-4a77-9ffd-3e7263c264be button.colab-df-convert');\n",
              "        buttonEl.style.display =\n",
              "          google.colab.kernel.accessAllowed ? 'block' : 'none';\n",
              "\n",
              "        async function convertToInteractive(key) {\n",
              "          const element = document.querySelector('#df-31328bd3-247f-4a77-9ffd-3e7263c264be');\n",
              "          const dataTable =\n",
              "            await google.colab.kernel.invokeFunction('convertToInteractive',\n",
              "                                                     [key], {});\n",
              "          if (!dataTable) return;\n",
              "\n",
              "          const docLinkHtml = 'Like what you see? Visit the ' +\n",
              "            '<a target=\"_blank\" href=https://colab.research.google.com/notebooks/data_table.ipynb>data table notebook</a>'\n",
              "            + ' to learn more about interactive tables.';\n",
              "          element.innerHTML = '';\n",
              "          dataTable['output_type'] = 'display_data';\n",
              "          await google.colab.output.renderOutput(dataTable, element);\n",
              "          const docLink = document.createElement('div');\n",
              "          docLink.innerHTML = docLinkHtml;\n",
              "          element.appendChild(docLink);\n",
              "        }\n",
              "      </script>\n",
              "    </div>\n",
              "  </div>\n",
              "  "
            ],
            "text/plain": [
              "      Unnamed: 0                                             Smiles Active\n",
              "0              0  COC(=O)Nc1ccc(-c2nc(N3CCOCC3)c3cnn(C4CCN(Cc5cc...       \n",
              "1              1                    O=Cc1cn(Cc2ccc(Cl)cc2)c2ccccc12       \n",
              "2              2                      NC(CO)C(=O)NNCc1ccc(O)c(O)c1O       \n",
              "3              3       Nc1nc(=O)n([C@H]2C[C@H](O)[C@@H](CO)O2)cc1Cl       \n",
              "4              4  Nc1ccc(C(=O)Nc2cccc(-c3nc(N4CCOCC4)c4oc5ncccc5...       \n",
              "...          ...                                                ...    ...\n",
              "1609        1609   NS(=O)(=O)c1cc2c(cc1Cl)NC(C1CC3C=CC1C3)NS2(=O)=O       \n",
              "1610        1610          Cc1cccc(Nc2ccncc2S(=O)(=O)NC(=O)NC(C)C)c1       \n",
              "1611        1611  CCCC(=O)O[C@]1(C(=O)CO)CC[C@H]2[C@@H]3CCC4=CC(...       \n",
              "1612        1612             CN(C)c1cccc(Oc2cnc(Nc3cccc(O)c3)nc2)c1       \n",
              "1613        1613        O=C(O)c1ccccc1-c1c2ccc(=O)cc-2oc2cc(O)ccc12       \n",
              "\n",
              "[1614 rows x 3 columns]"
            ]
          },
          "metadata": {},
          "execution_count": 179
        }
      ]
    },
    {
      "cell_type": "code",
      "source": [
        "# test\n",
        "test_smiles = []\n",
        "for i in df_test['Smiles']:\n",
        "  test_smiles.append(i)\n",
        "\n",
        "print('Длинна test_smiles:', len(test_smiles))\n",
        "print(\"Пример значения из test_smiles:\", test_smiles[1])"
      ],
      "metadata": {
        "colab": {
          "base_uri": "https://localhost:8080/"
        },
        "id": "9fxL1UV3WXGb",
        "outputId": "87ee8a6b-8e1e-44c6-fa0b-97be8510ef25"
      },
      "execution_count": null,
      "outputs": [
        {
          "output_type": "stream",
          "name": "stdout",
          "text": [
            "Длинна test_smiles: 1614\n",
            "Пример значения из test_smiles: O=Cc1cn(Cc2ccc(Cl)cc2)c2ccccc12\n"
          ]
        }
      ]
    },
    {
      "cell_type": "code",
      "source": [
        "test = []\n",
        "for i in test_smiles:\n",
        "  sm = get_morgan_fingerprint(i)      # получаю вектор из smiles\n",
        "  test.append(sm)\n",
        "test = np.array(test)   # преобразую в numpy\n",
        "test.shape"
      ],
      "metadata": {
        "colab": {
          "base_uri": "https://localhost:8080/"
        },
        "id": "piAeELFcW-CY",
        "outputId": "3b7399a7-1f59-408b-c348-5c864bc2d128"
      },
      "execution_count": null,
      "outputs": [
        {
          "output_type": "execute_result",
          "data": {
            "text/plain": [
              "(1614, 4096)"
            ]
          },
          "metadata": {},
          "execution_count": 175
        }
      ]
    },
    {
      "cell_type": "code",
      "source": [
        "predictions_test = model.predict(test) # делаем предсказание по X_test на неактивных молекулах"
      ],
      "metadata": {
        "id": "YAewFVZfYVmB"
      },
      "execution_count": null,
      "outputs": []
    },
    {
      "cell_type": "code",
      "source": [
        "predictions_test"
      ],
      "metadata": {
        "id": "9eH0NsQuY4sr"
      },
      "execution_count": null,
      "outputs": []
    },
    {
      "cell_type": "code",
      "source": [
        "mse_test = np.mean(np.power(test - predictions_test, 2), axis=1)"
      ],
      "metadata": {
        "id": "pNpu1GQQmRPQ"
      },
      "execution_count": null,
      "outputs": []
    },
    {
      "cell_type": "code",
      "source": [
        "print(\"Минимальная ошибка молекул:\", round(min(mse_test),4)) #\n",
        "print(\"Максимальная ошибка молекул:\", round(max(mse_test),4)) #\n",
        "print(\"Средняя ошибка молекул:\", round(sum(mse_test) / len(mse_test),8)) # среднюю ошибку"
      ],
      "metadata": {
        "colab": {
          "base_uri": "https://localhost:8080/"
        },
        "id": "D7K-j4HKme3r",
        "outputId": "610f7bef-0de0-480d-bed9-36c5dc444db6"
      },
      "execution_count": null,
      "outputs": [
        {
          "output_type": "stream",
          "name": "stdout",
          "text": [
            "Минимальная ошибка молекул: 0.0008\n",
            "Максимальная ошибка молекул: 0.0325\n",
            "Средняя ошибка молекул: 0.00782778\n"
          ]
        }
      ]
    },
    {
      "cell_type": "code",
      "source": [
        "mse_test.shape"
      ],
      "metadata": {
        "colab": {
          "base_uri": "https://localhost:8080/"
        },
        "id": "mQCRWdsPmoi1",
        "outputId": "c88b63c7-2e3a-427e-a273-b6c468fbbcb5"
      },
      "execution_count": null,
      "outputs": [
        {
          "output_type": "execute_result",
          "data": {
            "text/plain": [
              "(1614,)"
            ]
          },
          "metadata": {},
          "execution_count": 425
        }
      ]
    },
    {
      "cell_type": "code",
      "source": [
        "for i in range(len(mse_test)):\n",
        "  if mse_test[i] >= 0.0074:\n",
        "    submission['Active'].values[i] = 0\n",
        "  else:\n",
        "    submission['Active'].values[i] = 1\n",
        "\n",
        "\n",
        "\n"
      ],
      "metadata": {
        "id": "DiHwp5PjYiA0"
      },
      "execution_count": null,
      "outputs": []
    },
    {
      "cell_type": "code",
      "source": [
        "submission"
      ],
      "metadata": {
        "colab": {
          "base_uri": "https://localhost:8080/",
          "height": 424
        },
        "id": "sMjI9e36m0nz",
        "outputId": "a8bd5cda-4f08-4db3-d21f-0481a8e12a7f"
      },
      "execution_count": null,
      "outputs": [
        {
          "output_type": "execute_result",
          "data": {
            "text/html": [
              "\n",
              "  <div id=\"df-3e451bce-3f97-40a4-a319-06e3806ee7a8\">\n",
              "    <div class=\"colab-df-container\">\n",
              "      <div>\n",
              "<style scoped>\n",
              "    .dataframe tbody tr th:only-of-type {\n",
              "        vertical-align: middle;\n",
              "    }\n",
              "\n",
              "    .dataframe tbody tr th {\n",
              "        vertical-align: top;\n",
              "    }\n",
              "\n",
              "    .dataframe thead th {\n",
              "        text-align: right;\n",
              "    }\n",
              "</style>\n",
              "<table border=\"1\" class=\"dataframe\">\n",
              "  <thead>\n",
              "    <tr style=\"text-align: right;\">\n",
              "      <th></th>\n",
              "      <th>Unnamed: 0</th>\n",
              "      <th>Smiles</th>\n",
              "      <th>Active</th>\n",
              "    </tr>\n",
              "  </thead>\n",
              "  <tbody>\n",
              "    <tr>\n",
              "      <th>0</th>\n",
              "      <td>0</td>\n",
              "      <td>COC(=O)Nc1ccc(-c2nc(N3CCOCC3)c3cnn(C4CCN(Cc5cc...</td>\n",
              "      <td>0</td>\n",
              "    </tr>\n",
              "    <tr>\n",
              "      <th>1</th>\n",
              "      <td>1</td>\n",
              "      <td>O=Cc1cn(Cc2ccc(Cl)cc2)c2ccccc12</td>\n",
              "      <td>1</td>\n",
              "    </tr>\n",
              "    <tr>\n",
              "      <th>2</th>\n",
              "      <td>2</td>\n",
              "      <td>NC(CO)C(=O)NNCc1ccc(O)c(O)c1O</td>\n",
              "      <td>1</td>\n",
              "    </tr>\n",
              "    <tr>\n",
              "      <th>3</th>\n",
              "      <td>3</td>\n",
              "      <td>Nc1nc(=O)n([C@H]2C[C@H](O)[C@@H](CO)O2)cc1Cl</td>\n",
              "      <td>1</td>\n",
              "    </tr>\n",
              "    <tr>\n",
              "      <th>4</th>\n",
              "      <td>4</td>\n",
              "      <td>Nc1ccc(C(=O)Nc2cccc(-c3nc(N4CCOCC4)c4oc5ncccc5...</td>\n",
              "      <td>0</td>\n",
              "    </tr>\n",
              "    <tr>\n",
              "      <th>...</th>\n",
              "      <td>...</td>\n",
              "      <td>...</td>\n",
              "      <td>...</td>\n",
              "    </tr>\n",
              "    <tr>\n",
              "      <th>1609</th>\n",
              "      <td>1609</td>\n",
              "      <td>NS(=O)(=O)c1cc2c(cc1Cl)NC(C1CC3C=CC1C3)NS2(=O)=O</td>\n",
              "      <td>0</td>\n",
              "    </tr>\n",
              "    <tr>\n",
              "      <th>1610</th>\n",
              "      <td>1610</td>\n",
              "      <td>Cc1cccc(Nc2ccncc2S(=O)(=O)NC(=O)NC(C)C)c1</td>\n",
              "      <td>0</td>\n",
              "    </tr>\n",
              "    <tr>\n",
              "      <th>1611</th>\n",
              "      <td>1611</td>\n",
              "      <td>CCCC(=O)O[C@]1(C(=O)CO)CC[C@H]2[C@@H]3CCC4=CC(...</td>\n",
              "      <td>1</td>\n",
              "    </tr>\n",
              "    <tr>\n",
              "      <th>1612</th>\n",
              "      <td>1612</td>\n",
              "      <td>CN(C)c1cccc(Oc2cnc(Nc3cccc(O)c3)nc2)c1</td>\n",
              "      <td>0</td>\n",
              "    </tr>\n",
              "    <tr>\n",
              "      <th>1613</th>\n",
              "      <td>1613</td>\n",
              "      <td>O=C(O)c1ccccc1-c1c2ccc(=O)cc-2oc2cc(O)ccc12</td>\n",
              "      <td>0</td>\n",
              "    </tr>\n",
              "  </tbody>\n",
              "</table>\n",
              "<p>1614 rows × 3 columns</p>\n",
              "</div>\n",
              "      <button class=\"colab-df-convert\" onclick=\"convertToInteractive('df-3e451bce-3f97-40a4-a319-06e3806ee7a8')\"\n",
              "              title=\"Convert this dataframe to an interactive table.\"\n",
              "              style=\"display:none;\">\n",
              "        \n",
              "  <svg xmlns=\"http://www.w3.org/2000/svg\" height=\"24px\"viewBox=\"0 0 24 24\"\n",
              "       width=\"24px\">\n",
              "    <path d=\"M0 0h24v24H0V0z\" fill=\"none\"/>\n",
              "    <path d=\"M18.56 5.44l.94 2.06.94-2.06 2.06-.94-2.06-.94-.94-2.06-.94 2.06-2.06.94zm-11 1L8.5 8.5l.94-2.06 2.06-.94-2.06-.94L8.5 2.5l-.94 2.06-2.06.94zm10 10l.94 2.06.94-2.06 2.06-.94-2.06-.94-.94-2.06-.94 2.06-2.06.94z\"/><path d=\"M17.41 7.96l-1.37-1.37c-.4-.4-.92-.59-1.43-.59-.52 0-1.04.2-1.43.59L10.3 9.45l-7.72 7.72c-.78.78-.78 2.05 0 2.83L4 21.41c.39.39.9.59 1.41.59.51 0 1.02-.2 1.41-.59l7.78-7.78 2.81-2.81c.8-.78.8-2.07 0-2.86zM5.41 20L4 18.59l7.72-7.72 1.47 1.35L5.41 20z\"/>\n",
              "  </svg>\n",
              "      </button>\n",
              "      \n",
              "  <style>\n",
              "    .colab-df-container {\n",
              "      display:flex;\n",
              "      flex-wrap:wrap;\n",
              "      gap: 12px;\n",
              "    }\n",
              "\n",
              "    .colab-df-convert {\n",
              "      background-color: #E8F0FE;\n",
              "      border: none;\n",
              "      border-radius: 50%;\n",
              "      cursor: pointer;\n",
              "      display: none;\n",
              "      fill: #1967D2;\n",
              "      height: 32px;\n",
              "      padding: 0 0 0 0;\n",
              "      width: 32px;\n",
              "    }\n",
              "\n",
              "    .colab-df-convert:hover {\n",
              "      background-color: #E2EBFA;\n",
              "      box-shadow: 0px 1px 2px rgba(60, 64, 67, 0.3), 0px 1px 3px 1px rgba(60, 64, 67, 0.15);\n",
              "      fill: #174EA6;\n",
              "    }\n",
              "\n",
              "    [theme=dark] .colab-df-convert {\n",
              "      background-color: #3B4455;\n",
              "      fill: #D2E3FC;\n",
              "    }\n",
              "\n",
              "    [theme=dark] .colab-df-convert:hover {\n",
              "      background-color: #434B5C;\n",
              "      box-shadow: 0px 1px 3px 1px rgba(0, 0, 0, 0.15);\n",
              "      filter: drop-shadow(0px 1px 2px rgba(0, 0, 0, 0.3));\n",
              "      fill: #FFFFFF;\n",
              "    }\n",
              "  </style>\n",
              "\n",
              "      <script>\n",
              "        const buttonEl =\n",
              "          document.querySelector('#df-3e451bce-3f97-40a4-a319-06e3806ee7a8 button.colab-df-convert');\n",
              "        buttonEl.style.display =\n",
              "          google.colab.kernel.accessAllowed ? 'block' : 'none';\n",
              "\n",
              "        async function convertToInteractive(key) {\n",
              "          const element = document.querySelector('#df-3e451bce-3f97-40a4-a319-06e3806ee7a8');\n",
              "          const dataTable =\n",
              "            await google.colab.kernel.invokeFunction('convertToInteractive',\n",
              "                                                     [key], {});\n",
              "          if (!dataTable) return;\n",
              "\n",
              "          const docLinkHtml = 'Like what you see? Visit the ' +\n",
              "            '<a target=\"_blank\" href=https://colab.research.google.com/notebooks/data_table.ipynb>data table notebook</a>'\n",
              "            + ' to learn more about interactive tables.';\n",
              "          element.innerHTML = '';\n",
              "          dataTable['output_type'] = 'display_data';\n",
              "          await google.colab.output.renderOutput(dataTable, element);\n",
              "          const docLink = document.createElement('div');\n",
              "          docLink.innerHTML = docLinkHtml;\n",
              "          element.appendChild(docLink);\n",
              "        }\n",
              "      </script>\n",
              "    </div>\n",
              "  </div>\n",
              "  "
            ],
            "text/plain": [
              "      Unnamed: 0                                             Smiles Active\n",
              "0              0  COC(=O)Nc1ccc(-c2nc(N3CCOCC3)c3cnn(C4CCN(Cc5cc...      0\n",
              "1              1                    O=Cc1cn(Cc2ccc(Cl)cc2)c2ccccc12      1\n",
              "2              2                      NC(CO)C(=O)NNCc1ccc(O)c(O)c1O      1\n",
              "3              3       Nc1nc(=O)n([C@H]2C[C@H](O)[C@@H](CO)O2)cc1Cl      1\n",
              "4              4  Nc1ccc(C(=O)Nc2cccc(-c3nc(N4CCOCC4)c4oc5ncccc5...      0\n",
              "...          ...                                                ...    ...\n",
              "1609        1609   NS(=O)(=O)c1cc2c(cc1Cl)NC(C1CC3C=CC1C3)NS2(=O)=O      0\n",
              "1610        1610          Cc1cccc(Nc2ccncc2S(=O)(=O)NC(=O)NC(C)C)c1      0\n",
              "1611        1611  CCCC(=O)O[C@]1(C(=O)CO)CC[C@H]2[C@@H]3CCC4=CC(...      1\n",
              "1612        1612             CN(C)c1cccc(Oc2cnc(Nc3cccc(O)c3)nc2)c1      0\n",
              "1613        1613        O=C(O)c1ccccc1-c1c2ccc(=O)cc-2oc2cc(O)ccc12      0\n",
              "\n",
              "[1614 rows x 3 columns]"
            ]
          },
          "metadata": {},
          "execution_count": 427
        }
      ]
    },
    {
      "cell_type": "code",
      "source": [
        "submission.to_csv('submission.csv', index=False)"
      ],
      "metadata": {
        "id": "C-2vsBZjm61A"
      },
      "execution_count": null,
      "outputs": []
    },
    {
      "cell_type": "markdown",
      "source": [
        "## Свертка Conv2D"
      ],
      "metadata": {
        "id": "tA3WPJNj-Za_"
      }
    },
    {
      "cell_type": "code",
      "source": [
        "#X_train.shape, X_test.shape, smal_active.shape"
      ],
      "metadata": {
        "id": "SIAmP-gS-xKt"
      },
      "execution_count": null,
      "outputs": []
    },
    {
      "cell_type": "code",
      "source": [
        "#X_train = np.reshape(X_train, (4280, 64, 64, 1))"
      ],
      "metadata": {
        "id": "2MieCr7o-xN_"
      },
      "execution_count": null,
      "outputs": []
    },
    {
      "cell_type": "code",
      "source": [
        "#X_test = np.reshape(X_test, (1071, 64, 64, 1))\n",
        "#smal_active = np.reshape(smal_active, (206, 64, 64, 1))"
      ],
      "metadata": {
        "id": "II-5nzstAqUh"
      },
      "execution_count": null,
      "outputs": []
    },
    {
      "cell_type": "code",
      "source": [
        "#X_train.shape, X_test.shape, smal_active.shape"
      ],
      "metadata": {
        "id": "Y9n4vXXNAgI2"
      },
      "execution_count": null,
      "outputs": []
    },
    {
      "cell_type": "code",
      "source": [
        "#X_train[0].shape"
      ],
      "metadata": {
        "id": "eQmCvN__Ai_o"
      },
      "execution_count": null,
      "outputs": []
    },
    {
      "cell_type": "code",
      "source": [
        "X_train.shape, X_test.shape, smal_active.shape"
      ],
      "metadata": {
        "colab": {
          "base_uri": "https://localhost:8080/"
        },
        "id": "ttWAxS6rELbp",
        "outputId": "7508085a-2138-4b7a-ccc0-a84bc34923d7"
      },
      "execution_count": null,
      "outputs": [
        {
          "output_type": "execute_result",
          "data": {
            "text/plain": [
              "((4280, 4096), (1071, 4096), (206, 4096))"
            ]
          },
          "metadata": {},
          "execution_count": 187
        }
      ]
    },
    {
      "cell_type": "code",
      "source": [
        "def Autoencoder(): \n",
        "    img_input = Input(shape=(4096,)) \n",
        "\n",
        "    x = Reshape((64,64,1))(img_input)\n",
        "\n",
        "    x = Conv2D(32, (3, 3), strides=2, activation='relu', padding='same')(x)\n",
        "    x = Conv2D(64, (3, 3), strides=2, activation='relu', padding='same')(x)\n",
        "    x = Conv2D(128, (3, 3), strides=2, activation='relu', padding='same')(x)\n",
        "    x = Conv2D(256, (3, 3), strides=2, activation='relu', padding='same')(x)\n",
        "    x = Flatten()(x) # сплющиваем в одномерный вектор - размер 4*4*256\n",
        "    z = Dense(256, activation='relu')(x) # добавляем полносвязный слой\n",
        "    x = Dense(4*4*256, activation='relu')(z) # и еще полносвязный слой с переводом в 8960-мерное пространство(7*5*256)\n",
        "    x = Reshape((4,4,256))(x) # меняем размеры - картинка 4*4 , 256 ядер\n",
        "    x = Conv2DTranspose(256, (3, 3), strides=2, padding='same')(x) \n",
        "    x = Conv2DTranspose(128, (3, 3), strides=2, padding='same')(x) \n",
        "    x = Conv2DTranspose(64, (3, 3), strides=2, padding='same')(x) \n",
        "    x = Conv2DTranspose(32, (3, 3), strides=2, padding='same')(x) \n",
        "    x = Conv2D(1, (3, 3), activation='relu', padding='same')(x) \n",
        "    x = Flatten()(x)\n",
        "\n",
        "    x = Dense(4096, activation='sigmoid')(x) \n",
        "\n",
        "    model = Model(img_input, x) # собрали модель с зашумленной картинкой на вход и с очищенной от шума на выход\n",
        "    model.compile(optimizer='adam',\n",
        "                  loss='mse') # компилируем модель также, с выбором оптимайзера и среднеквадратичной ошибки\n",
        "\n",
        "    return model # функция вернет модель подавления шума"
      ],
      "metadata": {
        "id": "ZHzNAncT-xRH"
      },
      "execution_count": null,
      "outputs": []
    },
    {
      "cell_type": "code",
      "source": [
        "model_Conv2D = Autoencoder()\n",
        "model_Conv2D.summary()"
      ],
      "metadata": {
        "colab": {
          "base_uri": "https://localhost:8080/"
        },
        "id": "UWG1aTe1BZDG",
        "outputId": "a01a0a24-a624-4808-de1c-0225bcf63472"
      },
      "execution_count": null,
      "outputs": [
        {
          "output_type": "stream",
          "name": "stdout",
          "text": [
            "Model: \"model_30\"\n",
            "_________________________________________________________________\n",
            " Layer (type)                Output Shape              Param #   \n",
            "=================================================================\n",
            " input_33 (InputLayer)       [(None, 4096)]            0         \n",
            "                                                                 \n",
            " reshape_9 (Reshape)         (None, 64, 64, 1)         0         \n",
            "                                                                 \n",
            " conv2d_40 (Conv2D)          (None, 32, 32, 32)        320       \n",
            "                                                                 \n",
            " conv2d_41 (Conv2D)          (None, 16, 16, 64)        18496     \n",
            "                                                                 \n",
            " conv2d_42 (Conv2D)          (None, 8, 8, 128)         73856     \n",
            "                                                                 \n",
            " conv2d_43 (Conv2D)          (None, 4, 4, 256)         295168    \n",
            "                                                                 \n",
            " flatten_9 (Flatten)         (None, 4096)              0         \n",
            "                                                                 \n",
            " dense_63 (Dense)            (None, 256)               1048832   \n",
            "                                                                 \n",
            " dense_64 (Dense)            (None, 4096)              1052672   \n",
            "                                                                 \n",
            " reshape_10 (Reshape)        (None, 4, 4, 256)         0         \n",
            "                                                                 \n",
            " conv2d_transpose_32 (Conv2D  (None, 8, 8, 256)        590080    \n",
            " Transpose)                                                      \n",
            "                                                                 \n",
            " conv2d_transpose_33 (Conv2D  (None, 16, 16, 128)      295040    \n",
            " Transpose)                                                      \n",
            "                                                                 \n",
            " conv2d_transpose_34 (Conv2D  (None, 32, 32, 64)       73792     \n",
            " Transpose)                                                      \n",
            "                                                                 \n",
            " conv2d_transpose_35 (Conv2D  (None, 64, 64, 32)       18464     \n",
            " Transpose)                                                      \n",
            "                                                                 \n",
            " conv2d_44 (Conv2D)          (None, 64, 64, 1)         289       \n",
            "                                                                 \n",
            " flatten_10 (Flatten)        (None, 4096)              0         \n",
            "                                                                 \n",
            " dense_65 (Dense)            (None, 4096)              16781312  \n",
            "                                                                 \n",
            "=================================================================\n",
            "Total params: 20,248,321\n",
            "Trainable params: 20,248,321\n",
            "Non-trainable params: 0\n",
            "_________________________________________________________________\n"
          ]
        }
      ]
    },
    {
      "cell_type": "code",
      "source": [
        "model_Conv2D = Autoencoder()"
      ],
      "metadata": {
        "id": "DaMl0P4YB4oH"
      },
      "execution_count": null,
      "outputs": []
    },
    {
      "cell_type": "code",
      "source": [
        "history = model_Conv2D.fit(X_train, X_train, epochs=10, batch_size=16) "
      ],
      "metadata": {
        "colab": {
          "base_uri": "https://localhost:8080/"
        },
        "id": "I83KAfbfCFyG",
        "outputId": "be8bda06-a780-41bc-bdc2-a798875baeb8"
      },
      "execution_count": null,
      "outputs": [
        {
          "output_type": "stream",
          "name": "stdout",
          "text": [
            "Epoch 1/10\n",
            "268/268 [==============================] - 9s 29ms/step - loss: 0.2198\n",
            "Epoch 2/10\n",
            "268/268 [==============================] - 8s 29ms/step - loss: 0.1678\n",
            "Epoch 3/10\n",
            "268/268 [==============================] - 8s 29ms/step - loss: 0.1284\n",
            "Epoch 4/10\n",
            "268/268 [==============================] - 8s 29ms/step - loss: 0.0994\n",
            "Epoch 5/10\n",
            "268/268 [==============================] - 8s 29ms/step - loss: 0.0782\n",
            "Epoch 6/10\n",
            "268/268 [==============================] - 8s 29ms/step - loss: 0.0627\n",
            "Epoch 7/10\n",
            "268/268 [==============================] - 8s 29ms/step - loss: 0.0512\n",
            "Epoch 8/10\n",
            "268/268 [==============================] - 8s 29ms/step - loss: 0.0425\n",
            "Epoch 9/10\n",
            "268/268 [==============================] - 8s 29ms/step - loss: 0.0360\n",
            "Epoch 10/10\n",
            "268/268 [==============================] - 8s 29ms/step - loss: 0.0309\n"
          ]
        }
      ]
    },
    {
      "cell_type": "code",
      "source": [
        "predictions_inactive = model_Conv2D.predict(X_test) # делаем предсказание по X_test на неактивных молекулах\n",
        "predictions_active = model_Conv2D.predict(smal_active) # делаем предсказание smal_active на активных молекулах"
      ],
      "metadata": {
        "id": "jBW-dQL2C1Lt"
      },
      "execution_count": null,
      "outputs": []
    },
    {
      "cell_type": "code",
      "source": [
        "# определяем среднеквадратичную ошибку по smal_active и предсказанием по smal_active\n",
        "mse_active = np.mean(np.power(smal_active - predictions_active, 2), axis=1)\n",
        "\n",
        "# определяем среднеквадратичную ошибку по X_test и предсказанием по X_test\n",
        "mse_inactive = np.mean(np.power(X_test - predictions_inactive, 2), axis=1)"
      ],
      "metadata": {
        "id": "lx1qdEJcCF5V"
      },
      "execution_count": null,
      "outputs": []
    },
    {
      "cell_type": "code",
      "source": [
        "print(\"Минимальная ошибка неактивных молекул:\", round(min(mse_inactive),4)) #\n",
        "print(\"Максимальная ошибка неактивных молекул:\", round(max(mse_inactive),4)) #\n",
        "print(\"Средняя ошибка неактивных молекул:\", round(sum(mse_inactive) / len(mse_inactive),4)) # среднюю ошибку"
      ],
      "metadata": {
        "colab": {
          "base_uri": "https://localhost:8080/"
        },
        "id": "frCIUV5lC84A",
        "outputId": "0c597b26-5924-4f1e-c402-b71387cbaff0"
      },
      "execution_count": null,
      "outputs": [
        {
          "output_type": "stream",
          "name": "stdout",
          "text": [
            "Минимальная ошибка неактивных молекул: 0.0237\n",
            "Максимальная ошибка неактивных молекул: 0.0406\n",
            "Средняя ошибка неактивных молекул: 0.0287\n"
          ]
        }
      ]
    },
    {
      "cell_type": "code",
      "source": [
        "print(\"Минимальная ошибка активных молекул:\", round(min(mse_active),4)) #\n",
        "print(\"Максимальная ошибка активных молекул:\", round(max(mse_active),4)) #\n",
        "print(\"Средняя ошибка активных молекул:\", round(sum(mse_active) / len(mse_active),4)) # среднюю ошибку"
      ],
      "metadata": {
        "colab": {
          "base_uri": "https://localhost:8080/"
        },
        "id": "aNmkORTMDIwt",
        "outputId": "8b893961-539e-412a-a9d9-db02daa3995d"
      },
      "execution_count": null,
      "outputs": [
        {
          "output_type": "stream",
          "name": "stdout",
          "text": [
            "Минимальная ошибка активных молекул: 0.0247\n",
            "Максимальная ошибка активных молекул: 0.0386\n",
            "Средняя ошибка активных молекул: 0.0282\n"
          ]
        }
      ]
    },
    {
      "cell_type": "markdown",
      "source": [
        "##По-другому токенезирую, Tokenizer"
      ],
      "metadata": {
        "id": "QEbb9LToF58p"
      }
    },
    {
      "cell_type": "code",
      "source": [
        "# загружаю датасет\n",
        "df_train = pd.read_csv('/content/train.csv')\n",
        "df_train.head()"
      ],
      "metadata": {
        "colab": {
          "base_uri": "https://localhost:8080/",
          "height": 206
        },
        "id": "BmhoMNKQICCt",
        "outputId": "4f62f742-8528-436f-f59d-6137cfa0e83b"
      },
      "execution_count": null,
      "outputs": [
        {
          "output_type": "execute_result",
          "data": {
            "text/html": [
              "\n",
              "  <div id=\"df-fc7602ca-1946-473f-9be7-e576a95b0dd7\">\n",
              "    <div class=\"colab-df-container\">\n",
              "      <div>\n",
              "<style scoped>\n",
              "    .dataframe tbody tr th:only-of-type {\n",
              "        vertical-align: middle;\n",
              "    }\n",
              "\n",
              "    .dataframe tbody tr th {\n",
              "        vertical-align: top;\n",
              "    }\n",
              "\n",
              "    .dataframe thead th {\n",
              "        text-align: right;\n",
              "    }\n",
              "</style>\n",
              "<table border=\"1\" class=\"dataframe\">\n",
              "  <thead>\n",
              "    <tr style=\"text-align: right;\">\n",
              "      <th></th>\n",
              "      <th>Unnamed: 0</th>\n",
              "      <th>Smiles</th>\n",
              "      <th>Active</th>\n",
              "    </tr>\n",
              "  </thead>\n",
              "  <tbody>\n",
              "    <tr>\n",
              "      <th>0</th>\n",
              "      <td>0</td>\n",
              "      <td>COc1ccc2[nH]cc(CCN)c2c1</td>\n",
              "      <td>False</td>\n",
              "    </tr>\n",
              "    <tr>\n",
              "      <th>1</th>\n",
              "      <td>1</td>\n",
              "      <td>CCCN1CCC[C@H](c2cccc(O)c2)C1.Cl</td>\n",
              "      <td>False</td>\n",
              "    </tr>\n",
              "    <tr>\n",
              "      <th>2</th>\n",
              "      <td>2</td>\n",
              "      <td>O=C(NO)c1cnc(N2CCN(S(=O)(=O)c3ccc4ccccc4c3)CC2...</td>\n",
              "      <td>False</td>\n",
              "    </tr>\n",
              "    <tr>\n",
              "      <th>3</th>\n",
              "      <td>3</td>\n",
              "      <td>Nc1cccc(CNC(=O)c2ccc(Oc3ccc(OCc4cccc(F)c4)cc3)...</td>\n",
              "      <td>False</td>\n",
              "    </tr>\n",
              "    <tr>\n",
              "      <th>4</th>\n",
              "      <td>4</td>\n",
              "      <td>Fc1ccccc1CNCc1ccc(-c2ccnc3[nH]ccc23)cc1</td>\n",
              "      <td>False</td>\n",
              "    </tr>\n",
              "  </tbody>\n",
              "</table>\n",
              "</div>\n",
              "      <button class=\"colab-df-convert\" onclick=\"convertToInteractive('df-fc7602ca-1946-473f-9be7-e576a95b0dd7')\"\n",
              "              title=\"Convert this dataframe to an interactive table.\"\n",
              "              style=\"display:none;\">\n",
              "        \n",
              "  <svg xmlns=\"http://www.w3.org/2000/svg\" height=\"24px\"viewBox=\"0 0 24 24\"\n",
              "       width=\"24px\">\n",
              "    <path d=\"M0 0h24v24H0V0z\" fill=\"none\"/>\n",
              "    <path d=\"M18.56 5.44l.94 2.06.94-2.06 2.06-.94-2.06-.94-.94-2.06-.94 2.06-2.06.94zm-11 1L8.5 8.5l.94-2.06 2.06-.94-2.06-.94L8.5 2.5l-.94 2.06-2.06.94zm10 10l.94 2.06.94-2.06 2.06-.94-2.06-.94-.94-2.06-.94 2.06-2.06.94z\"/><path d=\"M17.41 7.96l-1.37-1.37c-.4-.4-.92-.59-1.43-.59-.52 0-1.04.2-1.43.59L10.3 9.45l-7.72 7.72c-.78.78-.78 2.05 0 2.83L4 21.41c.39.39.9.59 1.41.59.51 0 1.02-.2 1.41-.59l7.78-7.78 2.81-2.81c.8-.78.8-2.07 0-2.86zM5.41 20L4 18.59l7.72-7.72 1.47 1.35L5.41 20z\"/>\n",
              "  </svg>\n",
              "      </button>\n",
              "      \n",
              "  <style>\n",
              "    .colab-df-container {\n",
              "      display:flex;\n",
              "      flex-wrap:wrap;\n",
              "      gap: 12px;\n",
              "    }\n",
              "\n",
              "    .colab-df-convert {\n",
              "      background-color: #E8F0FE;\n",
              "      border: none;\n",
              "      border-radius: 50%;\n",
              "      cursor: pointer;\n",
              "      display: none;\n",
              "      fill: #1967D2;\n",
              "      height: 32px;\n",
              "      padding: 0 0 0 0;\n",
              "      width: 32px;\n",
              "    }\n",
              "\n",
              "    .colab-df-convert:hover {\n",
              "      background-color: #E2EBFA;\n",
              "      box-shadow: 0px 1px 2px rgba(60, 64, 67, 0.3), 0px 1px 3px 1px rgba(60, 64, 67, 0.15);\n",
              "      fill: #174EA6;\n",
              "    }\n",
              "\n",
              "    [theme=dark] .colab-df-convert {\n",
              "      background-color: #3B4455;\n",
              "      fill: #D2E3FC;\n",
              "    }\n",
              "\n",
              "    [theme=dark] .colab-df-convert:hover {\n",
              "      background-color: #434B5C;\n",
              "      box-shadow: 0px 1px 3px 1px rgba(0, 0, 0, 0.15);\n",
              "      filter: drop-shadow(0px 1px 2px rgba(0, 0, 0, 0.3));\n",
              "      fill: #FFFFFF;\n",
              "    }\n",
              "  </style>\n",
              "\n",
              "      <script>\n",
              "        const buttonEl =\n",
              "          document.querySelector('#df-fc7602ca-1946-473f-9be7-e576a95b0dd7 button.colab-df-convert');\n",
              "        buttonEl.style.display =\n",
              "          google.colab.kernel.accessAllowed ? 'block' : 'none';\n",
              "\n",
              "        async function convertToInteractive(key) {\n",
              "          const element = document.querySelector('#df-fc7602ca-1946-473f-9be7-e576a95b0dd7');\n",
              "          const dataTable =\n",
              "            await google.colab.kernel.invokeFunction('convertToInteractive',\n",
              "                                                     [key], {});\n",
              "          if (!dataTable) return;\n",
              "\n",
              "          const docLinkHtml = 'Like what you see? Visit the ' +\n",
              "            '<a target=\"_blank\" href=https://colab.research.google.com/notebooks/data_table.ipynb>data table notebook</a>'\n",
              "            + ' to learn more about interactive tables.';\n",
              "          element.innerHTML = '';\n",
              "          dataTable['output_type'] = 'display_data';\n",
              "          await google.colab.output.renderOutput(dataTable, element);\n",
              "          const docLink = document.createElement('div');\n",
              "          docLink.innerHTML = docLinkHtml;\n",
              "          element.appendChild(docLink);\n",
              "        }\n",
              "      </script>\n",
              "    </div>\n",
              "  </div>\n",
              "  "
            ],
            "text/plain": [
              "   Unnamed: 0                                             Smiles  Active\n",
              "0           0                            COc1ccc2[nH]cc(CCN)c2c1   False\n",
              "1           1                    CCCN1CCC[C@H](c2cccc(O)c2)C1.Cl   False\n",
              "2           2  O=C(NO)c1cnc(N2CCN(S(=O)(=O)c3ccc4ccccc4c3)CC2...   False\n",
              "3           3  Nc1cccc(CNC(=O)c2ccc(Oc3ccc(OCc4cccc(F)c4)cc3)...   False\n",
              "4           4            Fc1ccccc1CNCc1ccc(-c2ccnc3[nH]ccc23)cc1   False"
            ]
          },
          "metadata": {},
          "execution_count": 229
        }
      ]
    },
    {
      "cell_type": "code",
      "source": [
        "df_train_new = df_train[['Smiles', 'Active']]\n"
      ],
      "metadata": {
        "id": "i1rqLaN1IIDq"
      },
      "execution_count": null,
      "outputs": []
    },
    {
      "cell_type": "code",
      "source": [
        "# df активные молекулы\n",
        "df_train_True = df_train_new[df_train_new.Active==True]\n"
      ],
      "metadata": {
        "id": "k9_ZB09yIOH8"
      },
      "execution_count": null,
      "outputs": []
    },
    {
      "cell_type": "code",
      "source": [
        "# df неактивные молекулы\n",
        "df_train_False = df_train_new[df_train_new.Active==False]"
      ],
      "metadata": {
        "id": "tcHE5s4eISUE"
      },
      "execution_count": null,
      "outputs": []
    },
    {
      "cell_type": "code",
      "source": [
        "# собираю значения Smiles неактивных молекул в лист\n",
        "s_inactive = []\n",
        "for i in df_train_False['Smiles']:\n",
        "  s_inactive.append(i)\n",
        "\n",
        "print('Длинна s_inactive:', len(s_inactive))\n",
        "print(\"Пример значения из s_inactive:\", s_inactive[1])"
      ],
      "metadata": {
        "colab": {
          "base_uri": "https://localhost:8080/"
        },
        "id": "wTZaDdTnIaY3",
        "outputId": "fd6e0b30-9279-418a-e2e5-4b5d3feac3a8"
      },
      "execution_count": null,
      "outputs": [
        {
          "output_type": "stream",
          "name": "stdout",
          "text": [
            "Длинна s_inactive: 5351\n",
            "Пример значения из s_inactive: CCCN1CCC[C@H](c2cccc(O)c2)C1.Cl\n"
          ]
        }
      ]
    },
    {
      "cell_type": "code",
      "source": [
        "# активные молекулы\n",
        "s_active = []\n",
        "for i in df_train_True['Smiles']:\n",
        "  s_active.append(i)\n",
        "\n",
        "print('Длинна s_active:', len(s_active))\n",
        "print(\"Пример значения из s_active:\", s_active[1])"
      ],
      "metadata": {
        "colab": {
          "base_uri": "https://localhost:8080/"
        },
        "id": "38lAudyhIgIr",
        "outputId": "81b5ed8b-653d-4006-8c50-6d0e066d09d9"
      },
      "execution_count": null,
      "outputs": [
        {
          "output_type": "stream",
          "name": "stdout",
          "text": [
            "Длинна s_active: 206\n",
            "Пример значения из s_active: C[C@H]1COc2c(N3CCN(C)CC3)c(F)cc3c(=O)c(C(=O)O)cn1c23\n"
          ]
        }
      ]
    },
    {
      "cell_type": "code",
      "source": [
        "# все молекулы\n",
        "Smiles = s_active + s_inactive\n",
        "len(Smiles)"
      ],
      "metadata": {
        "colab": {
          "base_uri": "https://localhost:8080/"
        },
        "id": "mlFcKen-Ifmy",
        "outputId": "84461b0e-a323-456e-bce5-b4c2dd1615d6"
      },
      "execution_count": null,
      "outputs": [
        {
          "output_type": "execute_result",
          "data": {
            "text/plain": [
              "5557"
            ]
          },
          "metadata": {},
          "execution_count": 235
        }
      ]
    },
    {
      "cell_type": "code",
      "source": [
        ""
      ],
      "metadata": {
        "id": "74-b_MCOIfq3"
      },
      "execution_count": null,
      "outputs": []
    },
    {
      "cell_type": "code",
      "source": [
        "maxWordsCount = 4096 # Определяем максимальное количество слов/индексов, учитываемое при обучении текстов\n",
        "\n",
        "# Воспользуемся встроенной в Keras функцией Tokenizer для разбиения текста и превращения в матрицу числовых значений\n",
        "# num_words=maxWordsCount - определяем максимальное количество слов/индексов, учитываемое при обучении текстов\n",
        "# filters='!\"#$%&()*+,-./:;<=>?@[\\\\]^_`{|}~\\t\\n' - избавляемся от ненужных символов\n",
        "# lower=True - приводим слова к нижнему регистру\n",
        "# split=' ' - разделяем слова по пробелу\n",
        "# char_level=False - токенизируем по словам (Если будет True - каждый символ будет рассматриваться как отдельный токен )\n",
        "tokenizer = Tokenizer(num_words=maxWordsCount, filters='', lower=False, split='', oov_token='unknown', char_level=True)\n",
        "\n",
        "tokenizer.fit_on_texts(Smiles) # \"Скармливаем\" наши тексты, т.е. даём в обработку методу, который соберет словарь частотности\n",
        "items = list(tokenizer.word_index.items()) # Вытаскиваем индексы слов для просмотра"
      ],
      "metadata": {
        "id": "IgL6zhBsGXqG"
      },
      "execution_count": null,
      "outputs": []
    },
    {
      "cell_type": "code",
      "source": [
        "print(items[:50]) # Посмотрим 50 самых часто встречающихся слов\n",
        "print(\"Размер словаря\", len(items)) # Длина словаря"
      ],
      "metadata": {
        "colab": {
          "base_uri": "https://localhost:8080/"
        },
        "id": "agFsAPOYJLng",
        "outputId": "2a566982-448f-46a5-efb3-b2adae173e4c"
      },
      "execution_count": null,
      "outputs": [
        {
          "output_type": "stream",
          "name": "stdout",
          "text": [
            "[('unknown', 1), ('c', 2), ('C', 3), ('(', 4), (')', 5), ('O', 6), ('1', 7), ('2', 8), ('=', 9), ('@', 10), ('N', 11), ('[', 12), (']', 13), ('H', 14), ('n', 15), ('3', 16), ('F', 17), ('4', 18), ('-', 19), ('l', 20), ('S', 21), ('/', 22), ('.', 23), ('5', 24), ('+', 25), ('s', 26), ('o', 27), ('#', 28), ('\\\\', 29), ('B', 30), ('r', 31), ('P', 32), ('I', 33), ('a', 34), ('6', 35), ('7', 36), ('A', 37), ('8', 38), ('i', 39), ('K', 40), ('Z', 41), ('g', 42), ('M', 43), ('L', 44), ('e', 45), ('9', 46)]\n",
            "Размер словаря 46\n"
          ]
        }
      ]
    },
    {
      "cell_type": "code",
      "source": [
        "# Преобразовываем текст в последовательность индексов согласно частотному словарю\n",
        "s_inactive_WordIndexes = tokenizer.texts_to_sequences(s_inactive) # тесты в индексы\n",
        "s_active_WordIndexes = tokenizer.texts_to_sequences(s_active) # тесты в индексы"
      ],
      "metadata": {
        "id": "hL-RwJZcJUe7"
      },
      "execution_count": null,
      "outputs": []
    },
    {
      "cell_type": "code",
      "source": [
        "print(\"Взглянем на фрагмент обучающего текста:\")\n",
        "print(\"В виде оригинального текста:              \", s_inactive[1])\n",
        "print(\"Он же в виде последовательности индексов: \", s_inactive_WordIndexes[1], '\\n')\n",
        "len(s_inactive[1]), len(s_inactive_WordIndexes[1])"
      ],
      "metadata": {
        "colab": {
          "base_uri": "https://localhost:8080/"
        },
        "id": "SjOkIu9FJgYA",
        "outputId": "8485b84c-df0a-464a-cd9f-3fae79d9c99a"
      },
      "execution_count": null,
      "outputs": [
        {
          "output_type": "stream",
          "name": "stdout",
          "text": [
            "Взглянем на фрагмент обучающего текста:\n",
            "В виде оригинального текста:               CCCN1CCC[C@H](c2cccc(O)c2)C1.Cl\n",
            "Он же в виде последовательности индексов:  [3, 3, 3, 11, 7, 3, 3, 3, 12, 3, 10, 14, 13, 4, 2, 8, 2, 2, 2, 2, 4, 6, 5, 2, 8, 5, 3, 7, 23, 3, 20] \n",
            "\n"
          ]
        },
        {
          "output_type": "execute_result",
          "data": {
            "text/plain": [
              "(31, 31)"
            ]
          },
          "metadata": {},
          "execution_count": 243
        }
      ]
    },
    {
      "cell_type": "code",
      "source": [
        "X_tr = tokenizer.sequences_to_matrix(s_inactive_WordIndexes)\n",
        "smal_active = tokenizer.sequences_to_matrix(s_active_WordIndexes)\n",
        "\n",
        "print(X_tr.shape, smal_active.shape)       # Размер обучающей выборки, сформированной по Bag of Words\n",
        "print(X_tr[0][0:100]) # Фрагмент набора слов в виде Bag of Words"
      ],
      "metadata": {
        "colab": {
          "base_uri": "https://localhost:8080/"
        },
        "id": "QWuuNxMPKJWB",
        "outputId": "4b8bb092-e3da-4fcc-a345-a49b77b2849e"
      },
      "execution_count": null,
      "outputs": [
        {
          "output_type": "stream",
          "name": "stdout",
          "text": [
            "(5351, 4096) (206, 4096)\n",
            "[0. 0. 1. 1. 1. 1. 1. 1. 1. 0. 0. 1. 1. 1. 1. 1. 0. 0. 0. 0. 0. 0. 0. 0.\n",
            " 0. 0. 0. 0. 0. 0. 0. 0. 0. 0. 0. 0. 0. 0. 0. 0. 0. 0. 0. 0. 0. 0. 0. 0.\n",
            " 0. 0. 0. 0. 0. 0. 0. 0. 0. 0. 0. 0. 0. 0. 0. 0. 0. 0. 0. 0. 0. 0. 0. 0.\n",
            " 0. 0. 0. 0. 0. 0. 0. 0. 0. 0. 0. 0. 0. 0. 0. 0. 0. 0. 0. 0. 0. 0. 0. 0.\n",
            " 0. 0. 0. 0.]\n"
          ]
        }
      ]
    },
    {
      "cell_type": "code",
      "source": [
        "RANDOM_SEED = 42 # задаем случайное значение\n",
        "\n",
        "# берём неактивные молекулы разбиваем на train_test(только 'X')\n",
        "X_train, X_test = train_test_split(X_tr, test_size=0.2, random_state=RANDOM_SEED)"
      ],
      "metadata": {
        "id": "JShDku78N4wU"
      },
      "execution_count": null,
      "outputs": []
    },
    {
      "cell_type": "code",
      "source": [
        "model = creditcardAutoencoder()\n",
        "model.summary()"
      ],
      "metadata": {
        "colab": {
          "base_uri": "https://localhost:8080/"
        },
        "id": "9NRKc7DZLEwO",
        "outputId": "279a5985-04cc-4ef8-cabc-c1f4162e1881"
      },
      "execution_count": null,
      "outputs": [
        {
          "output_type": "stream",
          "name": "stdout",
          "text": [
            "Model: \"model_36\"\n",
            "_________________________________________________________________\n",
            " Layer (type)                Output Shape              Param #   \n",
            "=================================================================\n",
            " input_39 (InputLayer)       [(None, 4096)]            0         \n",
            "                                                                 \n",
            " dense_77 (Dense)            (None, 10)                40970     \n",
            "                                                                 \n",
            " dense_78 (Dense)            (None, 4096)              45056     \n",
            "                                                                 \n",
            "=================================================================\n",
            "Total params: 86,026\n",
            "Trainable params: 86,026\n",
            "Non-trainable params: 0\n",
            "_________________________________________________________________\n"
          ]
        }
      ]
    },
    {
      "cell_type": "code",
      "source": [
        "history = model.fit(X_train, X_train,\n",
        "                    epochs=50,\n",
        "                    batch_size=16) # загружаем данные в модель(X_train'ы) и обучаем"
      ],
      "metadata": {
        "colab": {
          "base_uri": "https://localhost:8080/"
        },
        "id": "rtbgPjByLJLg",
        "outputId": "39d4a4a5-15d0-4154-df73-11fe5f2d3eee"
      },
      "execution_count": null,
      "outputs": [
        {
          "output_type": "stream",
          "name": "stdout",
          "text": [
            "Epoch 1/50\n",
            "268/268 [==============================] - 1s 4ms/step - loss: 0.0012\n",
            "Epoch 2/50\n",
            "268/268 [==============================] - 1s 4ms/step - loss: 7.6950e-04\n",
            "Epoch 3/50\n",
            "268/268 [==============================] - 1s 4ms/step - loss: 5.7226e-04\n",
            "Epoch 4/50\n",
            "268/268 [==============================] - 1s 4ms/step - loss: 4.4639e-04\n",
            "Epoch 5/50\n",
            "268/268 [==============================] - 1s 4ms/step - loss: 3.6428e-04\n",
            "Epoch 6/50\n",
            "268/268 [==============================] - 1s 3ms/step - loss: 2.9274e-04\n",
            "Epoch 7/50\n",
            "268/268 [==============================] - 1s 3ms/step - loss: 2.4510e-04\n",
            "Epoch 8/50\n",
            "268/268 [==============================] - 1s 3ms/step - loss: 2.2310e-04\n",
            "Epoch 9/50\n",
            "268/268 [==============================] - 1s 3ms/step - loss: 2.0973e-04\n",
            "Epoch 10/50\n",
            "268/268 [==============================] - 1s 3ms/step - loss: 1.9993e-04\n",
            "Epoch 11/50\n",
            "268/268 [==============================] - 1s 4ms/step - loss: 1.9206e-04\n",
            "Epoch 12/50\n",
            "268/268 [==============================] - 1s 4ms/step - loss: 1.8513e-04\n",
            "Epoch 13/50\n",
            "268/268 [==============================] - 1s 4ms/step - loss: 1.7933e-04\n",
            "Epoch 14/50\n",
            "268/268 [==============================] - 1s 4ms/step - loss: 1.7459e-04\n",
            "Epoch 15/50\n",
            "268/268 [==============================] - 1s 4ms/step - loss: 1.7045e-04\n",
            "Epoch 16/50\n",
            "268/268 [==============================] - 1s 3ms/step - loss: 1.6720e-04\n",
            "Epoch 17/50\n",
            "268/268 [==============================] - 1s 4ms/step - loss: 1.6374e-04\n",
            "Epoch 18/50\n",
            "268/268 [==============================] - 1s 3ms/step - loss: 1.6041e-04\n",
            "Epoch 19/50\n",
            "268/268 [==============================] - 1s 3ms/step - loss: 1.5749e-04\n",
            "Epoch 20/50\n",
            "268/268 [==============================] - 1s 3ms/step - loss: 1.5518e-04\n",
            "Epoch 21/50\n",
            "268/268 [==============================] - 1s 3ms/step - loss: 1.5309e-04\n",
            "Epoch 22/50\n",
            "268/268 [==============================] - 1s 4ms/step - loss: 1.5088e-04\n",
            "Epoch 23/50\n",
            "268/268 [==============================] - 1s 3ms/step - loss: 1.4896e-04\n",
            "Epoch 24/50\n",
            "268/268 [==============================] - 1s 3ms/step - loss: 1.4745e-04\n",
            "Epoch 25/50\n",
            "268/268 [==============================] - 1s 3ms/step - loss: 1.4577e-04\n",
            "Epoch 26/50\n",
            "268/268 [==============================] - 1s 4ms/step - loss: 1.4446e-04\n",
            "Epoch 27/50\n",
            "268/268 [==============================] - 1s 4ms/step - loss: 1.4296e-04\n",
            "Epoch 28/50\n",
            "268/268 [==============================] - 1s 3ms/step - loss: 1.4166e-04\n",
            "Epoch 29/50\n",
            "268/268 [==============================] - 1s 4ms/step - loss: 1.4061e-04\n",
            "Epoch 30/50\n",
            "268/268 [==============================] - 1s 3ms/step - loss: 1.3947e-04\n",
            "Epoch 31/50\n",
            "268/268 [==============================] - 1s 4ms/step - loss: 1.3838e-04\n",
            "Epoch 32/50\n",
            "268/268 [==============================] - 1s 4ms/step - loss: 1.3737e-04\n",
            "Epoch 33/50\n",
            "268/268 [==============================] - 1s 4ms/step - loss: 1.3601e-04\n",
            "Epoch 34/50\n",
            "268/268 [==============================] - 1s 3ms/step - loss: 1.3555e-04\n",
            "Epoch 35/50\n",
            "268/268 [==============================] - 1s 4ms/step - loss: 1.3418e-04\n",
            "Epoch 36/50\n",
            "268/268 [==============================] - 1s 4ms/step - loss: 1.3338e-04\n",
            "Epoch 37/50\n",
            "268/268 [==============================] - 1s 4ms/step - loss: 1.3221e-04\n",
            "Epoch 38/50\n",
            "268/268 [==============================] - 1s 4ms/step - loss: 1.3116e-04\n",
            "Epoch 39/50\n",
            "268/268 [==============================] - 1s 3ms/step - loss: 1.3037e-04\n",
            "Epoch 40/50\n",
            "268/268 [==============================] - 1s 4ms/step - loss: 1.2966e-04\n",
            "Epoch 41/50\n",
            "268/268 [==============================] - 1s 4ms/step - loss: 1.2868e-04\n",
            "Epoch 42/50\n",
            "268/268 [==============================] - 1s 4ms/step - loss: 1.2768e-04\n",
            "Epoch 43/50\n",
            "268/268 [==============================] - 1s 4ms/step - loss: 1.2698e-04\n",
            "Epoch 44/50\n",
            "268/268 [==============================] - 1s 4ms/step - loss: 1.2630e-04\n",
            "Epoch 45/50\n",
            "268/268 [==============================] - 1s 3ms/step - loss: 1.2539e-04\n",
            "Epoch 46/50\n",
            "268/268 [==============================] - 1s 4ms/step - loss: 1.2459e-04\n",
            "Epoch 47/50\n",
            "268/268 [==============================] - 1s 3ms/step - loss: 1.2374e-04\n",
            "Epoch 48/50\n",
            "268/268 [==============================] - 1s 4ms/step - loss: 1.2295e-04\n",
            "Epoch 49/50\n",
            "268/268 [==============================] - 1s 3ms/step - loss: 1.2214e-04\n",
            "Epoch 50/50\n",
            "268/268 [==============================] - 1s 4ms/step - loss: 1.2149e-04\n"
          ]
        }
      ]
    },
    {
      "cell_type": "code",
      "source": [
        "predictions_inactive = model.predict(X_test) # делаем предсказание по X_test на неактивных молекулах\n",
        "predictions_active = model.predict(smal_active) # делаем предсказание smal_active на активных молекулах"
      ],
      "metadata": {
        "id": "0iszZl-QLYrU"
      },
      "execution_count": null,
      "outputs": []
    },
    {
      "cell_type": "code",
      "source": [
        "# определяем среднеквадратичную ошибку по smal_active и предсказанием по smal_active\n",
        "mse_active = np.mean(np.power(smal_active - predictions_active, 2), axis=1)\n",
        "\n",
        "# определяем среднеквадратичную ошибку по X_test и предсказанием по X_test\n",
        "mse_inactive = np.mean(np.power(X_test - predictions_inactive, 2), axis=1)"
      ],
      "metadata": {
        "id": "flP-0crjLeA7"
      },
      "execution_count": null,
      "outputs": []
    },
    {
      "cell_type": "code",
      "source": [
        "print(\"Минимальная ошибка неактивных молекул:\", round(min(mse_inactive),4)) #\n",
        "print(\"Максимальная ошибка неактивных молекул:\", round(max(mse_inactive),4)) #\n",
        "print(\"Средняя ошибка неактивных молекул:\", round(sum(mse_inactive) / len(mse_inactive),7)) # среднюю ошибку\n",
        "print()\n",
        "print(\"Минимальная ошибка активных молекул:\", round(min(mse_active),4)) #\n",
        "print(\"Максимальная ошибка активных молекул:\", round(max(mse_active),4)) #\n",
        "print(\"Средняя ошибка активных молекул:\", round(sum(mse_active) / len(mse_active),7)) # среднюю ошибку"
      ],
      "metadata": {
        "colab": {
          "base_uri": "https://localhost:8080/"
        },
        "id": "WvAiRPIXLnBz",
        "outputId": "e3c2963c-8302-483a-e606-9962fda8fd73"
      },
      "execution_count": null,
      "outputs": [
        {
          "output_type": "stream",
          "name": "stdout",
          "text": [
            "Минимальная ошибка неактивных молекул: 0.0005\n",
            "Максимальная ошибка неактивных молекул: 0.0053\n",
            "Средняя ошибка неактивных молекул: 0.0029931\n",
            "\n",
            "Минимальная ошибка активных молекул: 0.0012\n",
            "Максимальная ошибка активных молекул: 0.0053\n",
            "Средняя ошибка активных молекул: 0.0029561\n"
          ]
        }
      ]
    },
    {
      "cell_type": "code",
      "source": [
        ""
      ],
      "metadata": {
        "id": "6i1t8puMTd1O"
      },
      "execution_count": null,
      "outputs": []
    },
    {
      "cell_type": "code",
      "source": [
        ""
      ],
      "metadata": {
        "id": "xKFa9B1RTiiV"
      },
      "execution_count": null,
      "outputs": []
    },
    {
      "cell_type": "markdown",
      "source": [
        "##Делаю тоже, только через таблицу"
      ],
      "metadata": {
        "id": "SLwSMG5dlW0E"
      }
    },
    {
      "cell_type": "code",
      "source": [
        "!pip install kora -q\n",
        "import kora.install.rdkit # по-дургому не запускалось\n",
        "from rdkit import Chem\n",
        "from rdkit.Chem import AllChem"
      ],
      "metadata": {
        "colab": {
          "base_uri": "https://localhost:8080/"
        },
        "id": "o9OG3DcIoIhK",
        "outputId": "f71d0ffd-98d4-498f-e2ce-7fb90f7ae9d4"
      },
      "execution_count": null,
      "outputs": [
        {
          "output_type": "stream",
          "name": "stdout",
          "text": [
            "\u001b[K     |████████████████████████████████| 57 kB 1.9 MB/s \n",
            "\u001b[K     |████████████████████████████████| 56 kB 2.3 MB/s \n",
            "\u001b[?25h"
          ]
        }
      ]
    },
    {
      "cell_type": "code",
      "source": [
        "df_train_new = df_train[['Smiles', 'Active']]\n",
        "df_train_new"
      ],
      "metadata": {
        "colab": {
          "base_uri": "https://localhost:8080/",
          "height": 424
        },
        "id": "4Oj05VOSTL4K",
        "outputId": "a9a5ad25-6dde-46d2-ed72-0a393130033d"
      },
      "execution_count": null,
      "outputs": [
        {
          "output_type": "execute_result",
          "data": {
            "text/html": [
              "\n",
              "  <div id=\"df-cef19d68-0ea8-4efa-ac8c-2b66ac8e660d\">\n",
              "    <div class=\"colab-df-container\">\n",
              "      <div>\n",
              "<style scoped>\n",
              "    .dataframe tbody tr th:only-of-type {\n",
              "        vertical-align: middle;\n",
              "    }\n",
              "\n",
              "    .dataframe tbody tr th {\n",
              "        vertical-align: top;\n",
              "    }\n",
              "\n",
              "    .dataframe thead th {\n",
              "        text-align: right;\n",
              "    }\n",
              "</style>\n",
              "<table border=\"1\" class=\"dataframe\">\n",
              "  <thead>\n",
              "    <tr style=\"text-align: right;\">\n",
              "      <th></th>\n",
              "      <th>Smiles</th>\n",
              "      <th>Active</th>\n",
              "    </tr>\n",
              "  </thead>\n",
              "  <tbody>\n",
              "    <tr>\n",
              "      <th>0</th>\n",
              "      <td>COc1ccc2[nH]cc(CCN)c2c1</td>\n",
              "      <td>False</td>\n",
              "    </tr>\n",
              "    <tr>\n",
              "      <th>1</th>\n",
              "      <td>CCCN1CCC[C@H](c2cccc(O)c2)C1.Cl</td>\n",
              "      <td>False</td>\n",
              "    </tr>\n",
              "    <tr>\n",
              "      <th>2</th>\n",
              "      <td>O=C(NO)c1cnc(N2CCN(S(=O)(=O)c3ccc4ccccc4c3)CC2...</td>\n",
              "      <td>False</td>\n",
              "    </tr>\n",
              "    <tr>\n",
              "      <th>3</th>\n",
              "      <td>Nc1cccc(CNC(=O)c2ccc(Oc3ccc(OCc4cccc(F)c4)cc3)...</td>\n",
              "      <td>False</td>\n",
              "    </tr>\n",
              "    <tr>\n",
              "      <th>4</th>\n",
              "      <td>Fc1ccccc1CNCc1ccc(-c2ccnc3[nH]ccc23)cc1</td>\n",
              "      <td>False</td>\n",
              "    </tr>\n",
              "    <tr>\n",
              "      <th>...</th>\n",
              "      <td>...</td>\n",
              "      <td>...</td>\n",
              "    </tr>\n",
              "    <tr>\n",
              "      <th>5552</th>\n",
              "      <td>O=C(Oc1ccc([N+](=O)[O-])cc1)N1CCC(C(O)(c2ccc3c...</td>\n",
              "      <td>False</td>\n",
              "    </tr>\n",
              "    <tr>\n",
              "      <th>5553</th>\n",
              "      <td>Nc1nonc1/C(=N/O)Nc1ccc(F)c(Br)c1</td>\n",
              "      <td>False</td>\n",
              "    </tr>\n",
              "    <tr>\n",
              "      <th>5554</th>\n",
              "      <td>Oc1cccc2cccnc12</td>\n",
              "      <td>False</td>\n",
              "    </tr>\n",
              "    <tr>\n",
              "      <th>5555</th>\n",
              "      <td>OC(c1ccc(-c2ccc(CN3CCN(Cc4ccncc4)CC3)cc2)c(F)c...</td>\n",
              "      <td>False</td>\n",
              "    </tr>\n",
              "    <tr>\n",
              "      <th>5556</th>\n",
              "      <td>CCCCNc1ccc(C(=O)OCCN(C)C)cc1.Cl</td>\n",
              "      <td>False</td>\n",
              "    </tr>\n",
              "  </tbody>\n",
              "</table>\n",
              "<p>5557 rows × 2 columns</p>\n",
              "</div>\n",
              "      <button class=\"colab-df-convert\" onclick=\"convertToInteractive('df-cef19d68-0ea8-4efa-ac8c-2b66ac8e660d')\"\n",
              "              title=\"Convert this dataframe to an interactive table.\"\n",
              "              style=\"display:none;\">\n",
              "        \n",
              "  <svg xmlns=\"http://www.w3.org/2000/svg\" height=\"24px\"viewBox=\"0 0 24 24\"\n",
              "       width=\"24px\">\n",
              "    <path d=\"M0 0h24v24H0V0z\" fill=\"none\"/>\n",
              "    <path d=\"M18.56 5.44l.94 2.06.94-2.06 2.06-.94-2.06-.94-.94-2.06-.94 2.06-2.06.94zm-11 1L8.5 8.5l.94-2.06 2.06-.94-2.06-.94L8.5 2.5l-.94 2.06-2.06.94zm10 10l.94 2.06.94-2.06 2.06-.94-2.06-.94-.94-2.06-.94 2.06-2.06.94z\"/><path d=\"M17.41 7.96l-1.37-1.37c-.4-.4-.92-.59-1.43-.59-.52 0-1.04.2-1.43.59L10.3 9.45l-7.72 7.72c-.78.78-.78 2.05 0 2.83L4 21.41c.39.39.9.59 1.41.59.51 0 1.02-.2 1.41-.59l7.78-7.78 2.81-2.81c.8-.78.8-2.07 0-2.86zM5.41 20L4 18.59l7.72-7.72 1.47 1.35L5.41 20z\"/>\n",
              "  </svg>\n",
              "      </button>\n",
              "      \n",
              "  <style>\n",
              "    .colab-df-container {\n",
              "      display:flex;\n",
              "      flex-wrap:wrap;\n",
              "      gap: 12px;\n",
              "    }\n",
              "\n",
              "    .colab-df-convert {\n",
              "      background-color: #E8F0FE;\n",
              "      border: none;\n",
              "      border-radius: 50%;\n",
              "      cursor: pointer;\n",
              "      display: none;\n",
              "      fill: #1967D2;\n",
              "      height: 32px;\n",
              "      padding: 0 0 0 0;\n",
              "      width: 32px;\n",
              "    }\n",
              "\n",
              "    .colab-df-convert:hover {\n",
              "      background-color: #E2EBFA;\n",
              "      box-shadow: 0px 1px 2px rgba(60, 64, 67, 0.3), 0px 1px 3px 1px rgba(60, 64, 67, 0.15);\n",
              "      fill: #174EA6;\n",
              "    }\n",
              "\n",
              "    [theme=dark] .colab-df-convert {\n",
              "      background-color: #3B4455;\n",
              "      fill: #D2E3FC;\n",
              "    }\n",
              "\n",
              "    [theme=dark] .colab-df-convert:hover {\n",
              "      background-color: #434B5C;\n",
              "      box-shadow: 0px 1px 3px 1px rgba(0, 0, 0, 0.15);\n",
              "      filter: drop-shadow(0px 1px 2px rgba(0, 0, 0, 0.3));\n",
              "      fill: #FFFFFF;\n",
              "    }\n",
              "  </style>\n",
              "\n",
              "      <script>\n",
              "        const buttonEl =\n",
              "          document.querySelector('#df-cef19d68-0ea8-4efa-ac8c-2b66ac8e660d button.colab-df-convert');\n",
              "        buttonEl.style.display =\n",
              "          google.colab.kernel.accessAllowed ? 'block' : 'none';\n",
              "\n",
              "        async function convertToInteractive(key) {\n",
              "          const element = document.querySelector('#df-cef19d68-0ea8-4efa-ac8c-2b66ac8e660d');\n",
              "          const dataTable =\n",
              "            await google.colab.kernel.invokeFunction('convertToInteractive',\n",
              "                                                     [key], {});\n",
              "          if (!dataTable) return;\n",
              "\n",
              "          const docLinkHtml = 'Like what you see? Visit the ' +\n",
              "            '<a target=\"_blank\" href=https://colab.research.google.com/notebooks/data_table.ipynb>data table notebook</a>'\n",
              "            + ' to learn more about interactive tables.';\n",
              "          element.innerHTML = '';\n",
              "          dataTable['output_type'] = 'display_data';\n",
              "          await google.colab.output.renderOutput(dataTable, element);\n",
              "          const docLink = document.createElement('div');\n",
              "          docLink.innerHTML = docLinkHtml;\n",
              "          element.appendChild(docLink);\n",
              "        }\n",
              "      </script>\n",
              "    </div>\n",
              "  </div>\n",
              "  "
            ],
            "text/plain": [
              "                                                 Smiles  Active\n",
              "0                               COc1ccc2[nH]cc(CCN)c2c1   False\n",
              "1                       CCCN1CCC[C@H](c2cccc(O)c2)C1.Cl   False\n",
              "2     O=C(NO)c1cnc(N2CCN(S(=O)(=O)c3ccc4ccccc4c3)CC2...   False\n",
              "3     Nc1cccc(CNC(=O)c2ccc(Oc3ccc(OCc4cccc(F)c4)cc3)...   False\n",
              "4               Fc1ccccc1CNCc1ccc(-c2ccnc3[nH]ccc23)cc1   False\n",
              "...                                                 ...     ...\n",
              "5552  O=C(Oc1ccc([N+](=O)[O-])cc1)N1CCC(C(O)(c2ccc3c...   False\n",
              "5553                   Nc1nonc1/C(=N/O)Nc1ccc(F)c(Br)c1   False\n",
              "5554                                    Oc1cccc2cccnc12   False\n",
              "5555  OC(c1ccc(-c2ccc(CN3CCN(Cc4ccncc4)CC3)cc2)c(F)c...   False\n",
              "5556                    CCCCNc1ccc(C(=O)OCCN(C)C)cc1.Cl   False\n",
              "\n",
              "[5557 rows x 2 columns]"
            ]
          },
          "metadata": {},
          "execution_count": 141
        }
      ]
    },
    {
      "cell_type": "code",
      "source": [
        "def get_morgan_fingerprint(smiles: str, radius=2, nBits=2048):\n",
        "    mol = Chem.MolFromSmiles(smiles)\n",
        "    morgan_fp = AllChem.GetMorganFingerprintAsBitVect(mol, radius=radius, nBits=nBits)\n",
        "    return morgan_fp"
      ],
      "metadata": {
        "id": "F4bIa0mLoNyR"
      },
      "execution_count": null,
      "outputs": []
    },
    {
      "cell_type": "code",
      "source": [
        "# в таблице меняю smiles на вектор\n",
        "for n, s in enumerate(df_train_new['Smiles']):\n",
        "  sm = get_morgan_fingerprint(s) # получаю вектор из smiles\n",
        "  sm = np.array(sm)\n",
        "  df_train_new['Smiles'].values[n] = sm # записываю в таблицу\n",
        "  "
      ],
      "metadata": {
        "id": "3BSXRTvroS7a"
      },
      "execution_count": null,
      "outputs": []
    },
    {
      "cell_type": "code",
      "source": [
        "df_train_new"
      ],
      "metadata": {
        "colab": {
          "base_uri": "https://localhost:8080/",
          "height": 424
        },
        "id": "bjzzSmk5p6a7",
        "outputId": "6a19eafd-697f-46dc-8dae-667d9bfc321a"
      },
      "execution_count": null,
      "outputs": [
        {
          "output_type": "execute_result",
          "data": {
            "text/html": [
              "\n",
              "  <div id=\"df-914946e8-ee56-40fe-b620-bb7f7054ae0d\">\n",
              "    <div class=\"colab-df-container\">\n",
              "      <div>\n",
              "<style scoped>\n",
              "    .dataframe tbody tr th:only-of-type {\n",
              "        vertical-align: middle;\n",
              "    }\n",
              "\n",
              "    .dataframe tbody tr th {\n",
              "        vertical-align: top;\n",
              "    }\n",
              "\n",
              "    .dataframe thead th {\n",
              "        text-align: right;\n",
              "    }\n",
              "</style>\n",
              "<table border=\"1\" class=\"dataframe\">\n",
              "  <thead>\n",
              "    <tr style=\"text-align: right;\">\n",
              "      <th></th>\n",
              "      <th>Smiles</th>\n",
              "      <th>Active</th>\n",
              "    </tr>\n",
              "  </thead>\n",
              "  <tbody>\n",
              "    <tr>\n",
              "      <th>0</th>\n",
              "      <td>[0, 0, 0, 0, 0, 0, 0, 0, 0, 0, 0, 0, 0, 0, 0, ...</td>\n",
              "      <td>False</td>\n",
              "    </tr>\n",
              "    <tr>\n",
              "      <th>1</th>\n",
              "      <td>[0, 0, 0, 0, 0, 0, 0, 0, 0, 0, 0, 0, 0, 0, 0, ...</td>\n",
              "      <td>False</td>\n",
              "    </tr>\n",
              "    <tr>\n",
              "      <th>2</th>\n",
              "      <td>[0, 0, 0, 0, 0, 0, 0, 0, 0, 0, 0, 0, 0, 0, 0, ...</td>\n",
              "      <td>False</td>\n",
              "    </tr>\n",
              "    <tr>\n",
              "      <th>3</th>\n",
              "      <td>[0, 0, 0, 0, 0, 0, 0, 0, 0, 0, 0, 0, 0, 0, 0, ...</td>\n",
              "      <td>False</td>\n",
              "    </tr>\n",
              "    <tr>\n",
              "      <th>4</th>\n",
              "      <td>[0, 0, 0, 0, 0, 0, 0, 0, 0, 0, 0, 0, 0, 0, 0, ...</td>\n",
              "      <td>False</td>\n",
              "    </tr>\n",
              "    <tr>\n",
              "      <th>...</th>\n",
              "      <td>...</td>\n",
              "      <td>...</td>\n",
              "    </tr>\n",
              "    <tr>\n",
              "      <th>5552</th>\n",
              "      <td>[0, 0, 0, 0, 0, 0, 0, 0, 0, 0, 0, 0, 0, 0, 0, ...</td>\n",
              "      <td>False</td>\n",
              "    </tr>\n",
              "    <tr>\n",
              "      <th>5553</th>\n",
              "      <td>[0, 0, 0, 0, 0, 0, 0, 0, 0, 0, 0, 0, 0, 0, 0, ...</td>\n",
              "      <td>False</td>\n",
              "    </tr>\n",
              "    <tr>\n",
              "      <th>5554</th>\n",
              "      <td>[0, 0, 0, 0, 0, 0, 0, 0, 0, 0, 0, 0, 0, 0, 0, ...</td>\n",
              "      <td>False</td>\n",
              "    </tr>\n",
              "    <tr>\n",
              "      <th>5555</th>\n",
              "      <td>[1, 0, 0, 0, 0, 0, 0, 0, 0, 0, 0, 0, 0, 0, 0, ...</td>\n",
              "      <td>False</td>\n",
              "    </tr>\n",
              "    <tr>\n",
              "      <th>5556</th>\n",
              "      <td>[0, 0, 0, 0, 0, 0, 0, 0, 0, 0, 0, 0, 0, 1, 0, ...</td>\n",
              "      <td>False</td>\n",
              "    </tr>\n",
              "  </tbody>\n",
              "</table>\n",
              "<p>5557 rows × 2 columns</p>\n",
              "</div>\n",
              "      <button class=\"colab-df-convert\" onclick=\"convertToInteractive('df-914946e8-ee56-40fe-b620-bb7f7054ae0d')\"\n",
              "              title=\"Convert this dataframe to an interactive table.\"\n",
              "              style=\"display:none;\">\n",
              "        \n",
              "  <svg xmlns=\"http://www.w3.org/2000/svg\" height=\"24px\"viewBox=\"0 0 24 24\"\n",
              "       width=\"24px\">\n",
              "    <path d=\"M0 0h24v24H0V0z\" fill=\"none\"/>\n",
              "    <path d=\"M18.56 5.44l.94 2.06.94-2.06 2.06-.94-2.06-.94-.94-2.06-.94 2.06-2.06.94zm-11 1L8.5 8.5l.94-2.06 2.06-.94-2.06-.94L8.5 2.5l-.94 2.06-2.06.94zm10 10l.94 2.06.94-2.06 2.06-.94-2.06-.94-.94-2.06-.94 2.06-2.06.94z\"/><path d=\"M17.41 7.96l-1.37-1.37c-.4-.4-.92-.59-1.43-.59-.52 0-1.04.2-1.43.59L10.3 9.45l-7.72 7.72c-.78.78-.78 2.05 0 2.83L4 21.41c.39.39.9.59 1.41.59.51 0 1.02-.2 1.41-.59l7.78-7.78 2.81-2.81c.8-.78.8-2.07 0-2.86zM5.41 20L4 18.59l7.72-7.72 1.47 1.35L5.41 20z\"/>\n",
              "  </svg>\n",
              "      </button>\n",
              "      \n",
              "  <style>\n",
              "    .colab-df-container {\n",
              "      display:flex;\n",
              "      flex-wrap:wrap;\n",
              "      gap: 12px;\n",
              "    }\n",
              "\n",
              "    .colab-df-convert {\n",
              "      background-color: #E8F0FE;\n",
              "      border: none;\n",
              "      border-radius: 50%;\n",
              "      cursor: pointer;\n",
              "      display: none;\n",
              "      fill: #1967D2;\n",
              "      height: 32px;\n",
              "      padding: 0 0 0 0;\n",
              "      width: 32px;\n",
              "    }\n",
              "\n",
              "    .colab-df-convert:hover {\n",
              "      background-color: #E2EBFA;\n",
              "      box-shadow: 0px 1px 2px rgba(60, 64, 67, 0.3), 0px 1px 3px 1px rgba(60, 64, 67, 0.15);\n",
              "      fill: #174EA6;\n",
              "    }\n",
              "\n",
              "    [theme=dark] .colab-df-convert {\n",
              "      background-color: #3B4455;\n",
              "      fill: #D2E3FC;\n",
              "    }\n",
              "\n",
              "    [theme=dark] .colab-df-convert:hover {\n",
              "      background-color: #434B5C;\n",
              "      box-shadow: 0px 1px 3px 1px rgba(0, 0, 0, 0.15);\n",
              "      filter: drop-shadow(0px 1px 2px rgba(0, 0, 0, 0.3));\n",
              "      fill: #FFFFFF;\n",
              "    }\n",
              "  </style>\n",
              "\n",
              "      <script>\n",
              "        const buttonEl =\n",
              "          document.querySelector('#df-914946e8-ee56-40fe-b620-bb7f7054ae0d button.colab-df-convert');\n",
              "        buttonEl.style.display =\n",
              "          google.colab.kernel.accessAllowed ? 'block' : 'none';\n",
              "\n",
              "        async function convertToInteractive(key) {\n",
              "          const element = document.querySelector('#df-914946e8-ee56-40fe-b620-bb7f7054ae0d');\n",
              "          const dataTable =\n",
              "            await google.colab.kernel.invokeFunction('convertToInteractive',\n",
              "                                                     [key], {});\n",
              "          if (!dataTable) return;\n",
              "\n",
              "          const docLinkHtml = 'Like what you see? Visit the ' +\n",
              "            '<a target=\"_blank\" href=https://colab.research.google.com/notebooks/data_table.ipynb>data table notebook</a>'\n",
              "            + ' to learn more about interactive tables.';\n",
              "          element.innerHTML = '';\n",
              "          dataTable['output_type'] = 'display_data';\n",
              "          await google.colab.output.renderOutput(dataTable, element);\n",
              "          const docLink = document.createElement('div');\n",
              "          docLink.innerHTML = docLinkHtml;\n",
              "          element.appendChild(docLink);\n",
              "        }\n",
              "      </script>\n",
              "    </div>\n",
              "  </div>\n",
              "  "
            ],
            "text/plain": [
              "                                                 Smiles  Active\n",
              "0     [0, 0, 0, 0, 0, 0, 0, 0, 0, 0, 0, 0, 0, 0, 0, ...   False\n",
              "1     [0, 0, 0, 0, 0, 0, 0, 0, 0, 0, 0, 0, 0, 0, 0, ...   False\n",
              "2     [0, 0, 0, 0, 0, 0, 0, 0, 0, 0, 0, 0, 0, 0, 0, ...   False\n",
              "3     [0, 0, 0, 0, 0, 0, 0, 0, 0, 0, 0, 0, 0, 0, 0, ...   False\n",
              "4     [0, 0, 0, 0, 0, 0, 0, 0, 0, 0, 0, 0, 0, 0, 0, ...   False\n",
              "...                                                 ...     ...\n",
              "5552  [0, 0, 0, 0, 0, 0, 0, 0, 0, 0, 0, 0, 0, 0, 0, ...   False\n",
              "5553  [0, 0, 0, 0, 0, 0, 0, 0, 0, 0, 0, 0, 0, 0, 0, ...   False\n",
              "5554  [0, 0, 0, 0, 0, 0, 0, 0, 0, 0, 0, 0, 0, 0, 0, ...   False\n",
              "5555  [1, 0, 0, 0, 0, 0, 0, 0, 0, 0, 0, 0, 0, 0, 0, ...   False\n",
              "5556  [0, 0, 0, 0, 0, 0, 0, 0, 0, 0, 0, 0, 0, 1, 0, ...   False\n",
              "\n",
              "[5557 rows x 2 columns]"
            ]
          },
          "metadata": {},
          "execution_count": 144
        }
      ]
    },
    {
      "cell_type": "code",
      "source": [
        "inactive = df_train_new[df_train_new.Active == False] # активные молекулы\n",
        "active = df_train_new[df_train_new.Active == True] # не активные молекулы"
      ],
      "metadata": {
        "id": "1LJPLcgqTL7H"
      },
      "execution_count": null,
      "outputs": []
    },
    {
      "cell_type": "code",
      "source": [
        "inactive.shape, active.shape,"
      ],
      "metadata": {
        "colab": {
          "base_uri": "https://localhost:8080/"
        },
        "id": "jEdu9mvoTMBZ",
        "outputId": "24d603c8-81f4-4547-bab0-289973c4e6f1"
      },
      "execution_count": null,
      "outputs": [
        {
          "output_type": "execute_result",
          "data": {
            "text/plain": [
              "((5351, 2), (206, 2))"
            ]
          },
          "metadata": {},
          "execution_count": 146
        }
      ]
    },
    {
      "cell_type": "code",
      "source": [
        "RANDOM_SEED = 42 # задаем случайное значение\n",
        "\n",
        "# берём неактивные молекулы разбиваем на train_test(только 'X')\n",
        "X_train, X_test = train_test_split(inactive, test_size=0.2, random_state=RANDOM_SEED)"
      ],
      "metadata": {
        "id": "PAu0JJhJLDJw"
      },
      "execution_count": null,
      "outputs": []
    },
    {
      "cell_type": "code",
      "source": [
        "X_train.shape, X_test.shape"
      ],
      "metadata": {
        "colab": {
          "base_uri": "https://localhost:8080/"
        },
        "id": "xSUe82_1nNhg",
        "outputId": "514bd255-1cde-4934-e968-2fe2adf4f217"
      },
      "execution_count": null,
      "outputs": [
        {
          "output_type": "execute_result",
          "data": {
            "text/plain": [
              "((4280, 2), (1071, 2))"
            ]
          },
          "metadata": {},
          "execution_count": 148
        }
      ]
    },
    {
      "cell_type": "code",
      "source": [
        "# Удаляем столбец Active в обучающем наборе данных\n",
        "X_train = X_train.drop(['Active'], axis=1)\n",
        "# Добавляем все активные молекулы в тестовый набор данных\n",
        "X_test = pd.concat([X_test, active])\n",
        "# Делаем метки для тестового набора данных\n",
        "y_test = X_test['Active']\n",
        "# Удаляем столбец 'Active' у тестового набора данных\n",
        "X_test = X_test.drop(['Active'], axis=1)\n",
        "# Преобразуем данные в массивы numpy\n",
        "X_train = X_train.values\n",
        "X_test = X_test.values"
      ],
      "metadata": {
        "id": "3jgFoBi9l-UC"
      },
      "execution_count": null,
      "outputs": []
    },
    {
      "cell_type": "code",
      "source": [
        "#X_train = np.array(X_train['Smiles'])\n",
        "#X_test = np.array(X_test['Smiles'])"
      ],
      "metadata": {
        "id": "4DUzPcsTwBMQ"
      },
      "execution_count": null,
      "outputs": []
    },
    {
      "cell_type": "code",
      "source": [
        "print(X_train.shape, X_test.shape)"
      ],
      "metadata": {
        "colab": {
          "base_uri": "https://localhost:8080/"
        },
        "id": "ubGyjGoPnE6j",
        "outputId": "9b9ae070-e951-4334-aa77-d64fe626c6ba"
      },
      "execution_count": null,
      "outputs": [
        {
          "output_type": "stream",
          "name": "stdout",
          "text": [
            "(4280, 1) (1277, 1)\n"
          ]
        }
      ]
    },
    {
      "cell_type": "code",
      "source": [
        "X_train[0].shape"
      ],
      "metadata": {
        "colab": {
          "base_uri": "https://localhost:8080/"
        },
        "id": "qaXeUKc9v1jH",
        "outputId": "152232da-7a80-4106-8ead-a5113311fafb"
      },
      "execution_count": null,
      "outputs": [
        {
          "output_type": "execute_result",
          "data": {
            "text/plain": [
              "(1,)"
            ]
          },
          "metadata": {},
          "execution_count": 151
        }
      ]
    },
    {
      "cell_type": "code",
      "source": [
        "X_train = X_train.reshape((4280, 2048))\n",
        "X_test = X_test.reshape((1277, 2048))"
      ],
      "metadata": {
        "id": "2ZIxli_fukSS"
      },
      "execution_count": null,
      "outputs": []
    },
    {
      "cell_type": "code",
      "source": [
        "print(X_train.shape, X_test.shape)"
      ],
      "metadata": {
        "colab": {
          "base_uri": "https://localhost:8080/"
        },
        "id": "xLe1W7OEu3je",
        "outputId": "81559cdd-76fe-48ed-b2f6-6234a2520185"
      },
      "execution_count": null,
      "outputs": [
        {
          "output_type": "stream",
          "name": "stdout",
          "text": [
            "(4280, 2048) (1071, 2048)\n"
          ]
        }
      ]
    },
    {
      "cell_type": "code",
      "source": [
        "def creditcardAutoencoder(): # объявляем автокодировщик для определения мошенич.транзакций\n",
        "  dataSize = 2048 # берём размеры X_train по второй оси(30)\n",
        "  dataInput = Input(shape=(dataSize, )) # задаем эти размеры как входные в сеть\n",
        "  \n",
        "  x = Dense(256, activation='relu')(dataInput) # пропускаем через полносвязный слой размером 10\n",
        "  x = Dense(dataSize, activation='relu')(x) # и через полносвязный слой размером 30 \n",
        "  \n",
        "  autoencoder = Model(inputs=dataInput, outputs=x) # собрали модель \n",
        "  \n",
        "  autoencoder.compile(optimizer='Adam', loss='mse') # компилируем модель также, с выбором оптимайзера и среднеквадратичной ошибки\n",
        "  \n",
        "  return autoencoder "
      ],
      "metadata": {
        "id": "7hTUKnfBnjZs"
      },
      "execution_count": null,
      "outputs": []
    },
    {
      "cell_type": "code",
      "source": [
        "model = creditcardAutoencoder()\n",
        "history = model.fit(X_train, X_train,\n",
        "                    epochs=10,\n",
        "                    batch_size=16) # загружаем данные в модель(X_train'ы) и обучаем"
      ],
      "metadata": {
        "colab": {
          "base_uri": "https://localhost:8080/"
        },
        "id": "clWTqFNRl3Cc",
        "outputId": "a734d20f-0092-4a79-8d4f-d87f47d83ee5"
      },
      "execution_count": null,
      "outputs": [
        {
          "output_type": "stream",
          "name": "stdout",
          "text": [
            "Epoch 1/10\n",
            "268/268 [==============================] - 2s 4ms/step - loss: 0.0140\n",
            "Epoch 2/10\n",
            "268/268 [==============================] - 1s 4ms/step - loss: 0.0106\n",
            "Epoch 3/10\n",
            "268/268 [==============================] - 1s 4ms/step - loss: 0.0100\n",
            "Epoch 4/10\n",
            "268/268 [==============================] - 1s 4ms/step - loss: 0.0097\n",
            "Epoch 5/10\n",
            "268/268 [==============================] - 1s 4ms/step - loss: 0.0096\n",
            "Epoch 6/10\n",
            "268/268 [==============================] - 1s 4ms/step - loss: 0.0096\n",
            "Epoch 7/10\n",
            "268/268 [==============================] - 1s 4ms/step - loss: 0.0095\n",
            "Epoch 8/10\n",
            "268/268 [==============================] - 1s 4ms/step - loss: 0.0095\n",
            "Epoch 9/10\n",
            "268/268 [==============================] - 1s 4ms/step - loss: 0.0095\n",
            "Epoch 10/10\n",
            "268/268 [==============================] - 1s 4ms/step - loss: 0.0095\n"
          ]
        }
      ]
    },
    {
      "cell_type": "code",
      "source": [
        "predictions_inactive = model.predict(X_test) # делаем предсказание по X_test\n",
        "predictions_active = model.predict(smal_active)"
      ],
      "metadata": {
        "id": "QD4NOsMhl3GU"
      },
      "execution_count": null,
      "outputs": []
    },
    {
      "cell_type": "code",
      "source": [
        "X_test.shape, predictions_inactive.shape"
      ],
      "metadata": {
        "colab": {
          "base_uri": "https://localhost:8080/"
        },
        "id": "hn_KWrxZz6DM",
        "outputId": "d4a388d4-a51c-4c3b-d522-c3b1abcc72a7"
      },
      "execution_count": null,
      "outputs": [
        {
          "output_type": "execute_result",
          "data": {
            "text/plain": [
              "((1071, 2048), (1071, 2048))"
            ]
          },
          "metadata": {},
          "execution_count": 52
        }
      ]
    },
    {
      "cell_type": "code",
      "source": [
        "mse_inactive = np.mean(np.power(X_test - predictions_inactive, 2), axis=1) # определяем среднеквадратичную ошибку по X_test и предсказанием по X_test"
      ],
      "metadata": {
        "id": "-xC6zHM4xS68"
      },
      "execution_count": null,
      "outputs": []
    },
    {
      "cell_type": "code",
      "source": [
        "smal_active.shape, predictions_active.shape"
      ],
      "metadata": {
        "colab": {
          "base_uri": "https://localhost:8080/"
        },
        "id": "SR5uC1Yb0nW_",
        "outputId": "19e57735-5a5f-4908-f244-266c78dc3c3f"
      },
      "execution_count": null,
      "outputs": [
        {
          "output_type": "execute_result",
          "data": {
            "text/plain": [
              "((206, 2048), (206, 2048))"
            ]
          },
          "metadata": {},
          "execution_count": 54
        }
      ]
    },
    {
      "cell_type": "code",
      "source": [
        "mse_active = np.mean(np.power(smal_active - predictions_active, 2), axis=1)"
      ],
      "metadata": {
        "id": "szZxQxJ71FTl"
      },
      "execution_count": null,
      "outputs": []
    },
    {
      "cell_type": "code",
      "source": [
        "#mse_normal = mse[y_test.values == 0] # \n",
        "#mse_frauds = mse[y_test.values == 1] # "
      ],
      "metadata": {
        "id": "nKuK4SYTxS-r"
      },
      "execution_count": null,
      "outputs": []
    },
    {
      "cell_type": "code",
      "source": [
        "print(\"Минимальная ошибка неактивных молекул:\", round(min(mse_inactive),4)) #\n",
        "print(\"Максимальная ошибка неактивных молекул:\", round(max(mse_inactive),4)) #\n",
        "print(\"Средняя ошибка неактивных молекул:\", round(sum(mse_inactive) / len(mse_inactive),4)) # среднюю ошибку"
      ],
      "metadata": {
        "colab": {
          "base_uri": "https://localhost:8080/"
        },
        "id": "kdVU4xJUy6nE",
        "outputId": "5a1f11a2-6e50-461c-d312-6990b45d06ff"
      },
      "execution_count": null,
      "outputs": [
        {
          "output_type": "stream",
          "name": "stdout",
          "text": [
            "Минимальная ошибка неактивных молекул: 0.0002\n",
            "Максимальная ошибка неактивных молекул: 0.0335\n",
            "Средняя ошибка неактивных молекул: 0.0098\n"
          ]
        }
      ]
    },
    {
      "cell_type": "code",
      "source": [
        "print(\"Минимальная ошибка активных молекул:\", round(min(mse_active),4)) #\n",
        "print(\"Максимальная ошибка активных молекул:\", round(max(mse_active),4)) #\n",
        "print(\"Средняя ошибка активных молекул:\", round(sum(mse_active) / len(mse_active),4)) # среднюю ошибку"
      ],
      "metadata": {
        "id": "mTOA2n1Gl3LA",
        "colab": {
          "base_uri": "https://localhost:8080/"
        },
        "outputId": "cceb79dd-f3e1-486e-8e4b-c09b82476951"
      },
      "execution_count": null,
      "outputs": [
        {
          "output_type": "stream",
          "name": "stdout",
          "text": [
            "Минимальная ошибка активных молекул: 0.0021\n",
            "Максимальная ошибка активных молекул: 0.0339\n",
            "Средняя ошибка активных молекул: 0.0094\n"
          ]
        }
      ]
    },
    {
      "cell_type": "code",
      "source": [
        "def getAccByBias(bias): # функция будет принимать какое то пороговое значение\n",
        "  isNormal = mse_normal < bias # если ошибка меньше порога - то транзакция нормальная\n",
        "  isFrauds = mse_frauds > bias # если ошибка больше порога - то транзакция мошенническая\n",
        "\n",
        "  accNormal = sum(isNormal) / len(isNormal) # вычисляем процент нормальных операций\n",
        "  accFaruds = sum(isFrauds) / len(isFrauds) # вычисляем процент мошеннических операций\n",
        "\n",
        "  print(\"Распознано нормальных трансакций: \", round(100*accNormal), \"%\", sep=\"\")\n",
        "  print(\"Распознано мошеннических трансакций: \", round(100*accFaruds), \"%\", sep=\"\")\n",
        "  print(\"Средняя точность распознавания: \", round(50*(accNormal + accFaruds)), \"%\", sep=\"\")"
      ],
      "metadata": {
        "id": "RzDKloAal3O-"
      },
      "execution_count": null,
      "outputs": []
    },
    {
      "cell_type": "code",
      "source": [
        ""
      ],
      "metadata": {
        "id": "aRSPHr3V10Eg"
      },
      "execution_count": null,
      "outputs": []
    },
    {
      "cell_type": "code",
      "source": [
        ""
      ],
      "metadata": {
        "id": "hICD9fgV10Je"
      },
      "execution_count": null,
      "outputs": []
    },
    {
      "cell_type": "code",
      "source": [
        ""
      ],
      "metadata": {
        "id": "YL2MkBJO10PC"
      },
      "execution_count": null,
      "outputs": []
    },
    {
      "cell_type": "code",
      "source": [
        ""
      ],
      "metadata": {
        "id": "f1eoAuu310UM"
      },
      "execution_count": null,
      "outputs": []
    },
    {
      "cell_type": "code",
      "source": [
        ""
      ],
      "metadata": {
        "id": "RSQ5Peusl3Ts"
      },
      "execution_count": null,
      "outputs": []
    },
    {
      "cell_type": "code",
      "source": [
        ""
      ],
      "metadata": {
        "id": "7s7MqDoZzkId"
      },
      "execution_count": null,
      "outputs": []
    },
    {
      "cell_type": "markdown",
      "source": [
        "# Классификация на 206 примерах"
      ],
      "metadata": {
        "id": "A4szov1Ozku2"
      }
    },
    {
      "cell_type": "code",
      "source": [
        "df_train_new = df_train[['Smiles', 'Active']]\n",
        "df_train_new"
      ],
      "metadata": {
        "colab": {
          "base_uri": "https://localhost:8080/",
          "height": 424
        },
        "id": "jVWZuYZ6zxOx",
        "outputId": "be58d0cd-cbc6-4c12-a2dc-65e5ac4c1654"
      },
      "execution_count": null,
      "outputs": [
        {
          "output_type": "execute_result",
          "data": {
            "text/html": [
              "\n",
              "  <div id=\"df-dc6242f0-9fe7-44d0-a661-6bcf23bbfed5\">\n",
              "    <div class=\"colab-df-container\">\n",
              "      <div>\n",
              "<style scoped>\n",
              "    .dataframe tbody tr th:only-of-type {\n",
              "        vertical-align: middle;\n",
              "    }\n",
              "\n",
              "    .dataframe tbody tr th {\n",
              "        vertical-align: top;\n",
              "    }\n",
              "\n",
              "    .dataframe thead th {\n",
              "        text-align: right;\n",
              "    }\n",
              "</style>\n",
              "<table border=\"1\" class=\"dataframe\">\n",
              "  <thead>\n",
              "    <tr style=\"text-align: right;\">\n",
              "      <th></th>\n",
              "      <th>Smiles</th>\n",
              "      <th>Active</th>\n",
              "    </tr>\n",
              "  </thead>\n",
              "  <tbody>\n",
              "    <tr>\n",
              "      <th>0</th>\n",
              "      <td>COc1ccc2[nH]cc(CCN)c2c1</td>\n",
              "      <td>False</td>\n",
              "    </tr>\n",
              "    <tr>\n",
              "      <th>1</th>\n",
              "      <td>CCCN1CCC[C@H](c2cccc(O)c2)C1.Cl</td>\n",
              "      <td>False</td>\n",
              "    </tr>\n",
              "    <tr>\n",
              "      <th>2</th>\n",
              "      <td>O=C(NO)c1cnc(N2CCN(S(=O)(=O)c3ccc4ccccc4c3)CC2...</td>\n",
              "      <td>False</td>\n",
              "    </tr>\n",
              "    <tr>\n",
              "      <th>3</th>\n",
              "      <td>Nc1cccc(CNC(=O)c2ccc(Oc3ccc(OCc4cccc(F)c4)cc3)...</td>\n",
              "      <td>False</td>\n",
              "    </tr>\n",
              "    <tr>\n",
              "      <th>4</th>\n",
              "      <td>Fc1ccccc1CNCc1ccc(-c2ccnc3[nH]ccc23)cc1</td>\n",
              "      <td>False</td>\n",
              "    </tr>\n",
              "    <tr>\n",
              "      <th>...</th>\n",
              "      <td>...</td>\n",
              "      <td>...</td>\n",
              "    </tr>\n",
              "    <tr>\n",
              "      <th>5552</th>\n",
              "      <td>O=C(Oc1ccc([N+](=O)[O-])cc1)N1CCC(C(O)(c2ccc3c...</td>\n",
              "      <td>False</td>\n",
              "    </tr>\n",
              "    <tr>\n",
              "      <th>5553</th>\n",
              "      <td>Nc1nonc1/C(=N/O)Nc1ccc(F)c(Br)c1</td>\n",
              "      <td>False</td>\n",
              "    </tr>\n",
              "    <tr>\n",
              "      <th>5554</th>\n",
              "      <td>Oc1cccc2cccnc12</td>\n",
              "      <td>False</td>\n",
              "    </tr>\n",
              "    <tr>\n",
              "      <th>5555</th>\n",
              "      <td>OC(c1ccc(-c2ccc(CN3CCN(Cc4ccncc4)CC3)cc2)c(F)c...</td>\n",
              "      <td>False</td>\n",
              "    </tr>\n",
              "    <tr>\n",
              "      <th>5556</th>\n",
              "      <td>CCCCNc1ccc(C(=O)OCCN(C)C)cc1.Cl</td>\n",
              "      <td>False</td>\n",
              "    </tr>\n",
              "  </tbody>\n",
              "</table>\n",
              "<p>5557 rows × 2 columns</p>\n",
              "</div>\n",
              "      <button class=\"colab-df-convert\" onclick=\"convertToInteractive('df-dc6242f0-9fe7-44d0-a661-6bcf23bbfed5')\"\n",
              "              title=\"Convert this dataframe to an interactive table.\"\n",
              "              style=\"display:none;\">\n",
              "        \n",
              "  <svg xmlns=\"http://www.w3.org/2000/svg\" height=\"24px\"viewBox=\"0 0 24 24\"\n",
              "       width=\"24px\">\n",
              "    <path d=\"M0 0h24v24H0V0z\" fill=\"none\"/>\n",
              "    <path d=\"M18.56 5.44l.94 2.06.94-2.06 2.06-.94-2.06-.94-.94-2.06-.94 2.06-2.06.94zm-11 1L8.5 8.5l.94-2.06 2.06-.94-2.06-.94L8.5 2.5l-.94 2.06-2.06.94zm10 10l.94 2.06.94-2.06 2.06-.94-2.06-.94-.94-2.06-.94 2.06-2.06.94z\"/><path d=\"M17.41 7.96l-1.37-1.37c-.4-.4-.92-.59-1.43-.59-.52 0-1.04.2-1.43.59L10.3 9.45l-7.72 7.72c-.78.78-.78 2.05 0 2.83L4 21.41c.39.39.9.59 1.41.59.51 0 1.02-.2 1.41-.59l7.78-7.78 2.81-2.81c.8-.78.8-2.07 0-2.86zM5.41 20L4 18.59l7.72-7.72 1.47 1.35L5.41 20z\"/>\n",
              "  </svg>\n",
              "      </button>\n",
              "      \n",
              "  <style>\n",
              "    .colab-df-container {\n",
              "      display:flex;\n",
              "      flex-wrap:wrap;\n",
              "      gap: 12px;\n",
              "    }\n",
              "\n",
              "    .colab-df-convert {\n",
              "      background-color: #E8F0FE;\n",
              "      border: none;\n",
              "      border-radius: 50%;\n",
              "      cursor: pointer;\n",
              "      display: none;\n",
              "      fill: #1967D2;\n",
              "      height: 32px;\n",
              "      padding: 0 0 0 0;\n",
              "      width: 32px;\n",
              "    }\n",
              "\n",
              "    .colab-df-convert:hover {\n",
              "      background-color: #E2EBFA;\n",
              "      box-shadow: 0px 1px 2px rgba(60, 64, 67, 0.3), 0px 1px 3px 1px rgba(60, 64, 67, 0.15);\n",
              "      fill: #174EA6;\n",
              "    }\n",
              "\n",
              "    [theme=dark] .colab-df-convert {\n",
              "      background-color: #3B4455;\n",
              "      fill: #D2E3FC;\n",
              "    }\n",
              "\n",
              "    [theme=dark] .colab-df-convert:hover {\n",
              "      background-color: #434B5C;\n",
              "      box-shadow: 0px 1px 3px 1px rgba(0, 0, 0, 0.15);\n",
              "      filter: drop-shadow(0px 1px 2px rgba(0, 0, 0, 0.3));\n",
              "      fill: #FFFFFF;\n",
              "    }\n",
              "  </style>\n",
              "\n",
              "      <script>\n",
              "        const buttonEl =\n",
              "          document.querySelector('#df-dc6242f0-9fe7-44d0-a661-6bcf23bbfed5 button.colab-df-convert');\n",
              "        buttonEl.style.display =\n",
              "          google.colab.kernel.accessAllowed ? 'block' : 'none';\n",
              "\n",
              "        async function convertToInteractive(key) {\n",
              "          const element = document.querySelector('#df-dc6242f0-9fe7-44d0-a661-6bcf23bbfed5');\n",
              "          const dataTable =\n",
              "            await google.colab.kernel.invokeFunction('convertToInteractive',\n",
              "                                                     [key], {});\n",
              "          if (!dataTable) return;\n",
              "\n",
              "          const docLinkHtml = 'Like what you see? Visit the ' +\n",
              "            '<a target=\"_blank\" href=https://colab.research.google.com/notebooks/data_table.ipynb>data table notebook</a>'\n",
              "            + ' to learn more about interactive tables.';\n",
              "          element.innerHTML = '';\n",
              "          dataTable['output_type'] = 'display_data';\n",
              "          await google.colab.output.renderOutput(dataTable, element);\n",
              "          const docLink = document.createElement('div');\n",
              "          docLink.innerHTML = docLinkHtml;\n",
              "          element.appendChild(docLink);\n",
              "        }\n",
              "      </script>\n",
              "    </div>\n",
              "  </div>\n",
              "  "
            ],
            "text/plain": [
              "                                                 Smiles  Active\n",
              "0                               COc1ccc2[nH]cc(CCN)c2c1   False\n",
              "1                       CCCN1CCC[C@H](c2cccc(O)c2)C1.Cl   False\n",
              "2     O=C(NO)c1cnc(N2CCN(S(=O)(=O)c3ccc4ccccc4c3)CC2...   False\n",
              "3     Nc1cccc(CNC(=O)c2ccc(Oc3ccc(OCc4cccc(F)c4)cc3)...   False\n",
              "4               Fc1ccccc1CNCc1ccc(-c2ccnc3[nH]ccc23)cc1   False\n",
              "...                                                 ...     ...\n",
              "5552  O=C(Oc1ccc([N+](=O)[O-])cc1)N1CCC(C(O)(c2ccc3c...   False\n",
              "5553                   Nc1nonc1/C(=N/O)Nc1ccc(F)c(Br)c1   False\n",
              "5554                                    Oc1cccc2cccnc12   False\n",
              "5555  OC(c1ccc(-c2ccc(CN3CCN(Cc4ccncc4)CC3)cc2)c(F)c...   False\n",
              "5556                    CCCCNc1ccc(C(=O)OCCN(C)C)cc1.Cl   False\n",
              "\n",
              "[5557 rows x 2 columns]"
            ]
          },
          "metadata": {},
          "execution_count": 3
        }
      ]
    },
    {
      "cell_type": "code",
      "source": [
        "# df активные молекулы\n",
        "df_train_True = df_train_new[df_train_new.Active==True]\n",
        "# df неактивные молекулы\n",
        "df_train_False = df_train_new[df_train_new.Active==False]"
      ],
      "metadata": {
        "id": "60kNkf7ez1tH"
      },
      "execution_count": null,
      "outputs": []
    },
    {
      "cell_type": "code",
      "source": [
        "# собираю значения Smiles неактивных молекул в лист\n",
        "s_inactive = []\n",
        "for i in df_train_False['Smiles']:\n",
        "  s_inactive.append(i)\n",
        "\n",
        "print('Длинна s_inactive:', len(s_inactive))\n",
        "print(\"Пример значения из s_inactive:\", s_inactive[1])"
      ],
      "metadata": {
        "colab": {
          "base_uri": "https://localhost:8080/"
        },
        "id": "qNj1BIw60Jjm",
        "outputId": "e41ce0e0-4ed7-4e75-914f-e46f81d31424"
      },
      "execution_count": null,
      "outputs": [
        {
          "output_type": "stream",
          "name": "stdout",
          "text": [
            "Длинна s_inactive: 5351\n",
            "Пример значения из s_inactive: CCCN1CCC[C@H](c2cccc(O)c2)C1.Cl\n"
          ]
        }
      ]
    },
    {
      "cell_type": "code",
      "source": [
        "# активные молекулы\n",
        "s_active = []\n",
        "for i in df_train_True['Smiles']:\n",
        "  s_active.append(i)\n",
        "\n",
        "print('Длинна s_active:', len(s_active))\n",
        "print(\"Пример значения из s_active:\", s_active[1])"
      ],
      "metadata": {
        "colab": {
          "base_uri": "https://localhost:8080/"
        },
        "id": "9wkOa1Ly0Noa",
        "outputId": "48ca71e0-b5d9-4b5e-c9ed-f87a7dc8a8a6"
      },
      "execution_count": null,
      "outputs": [
        {
          "output_type": "stream",
          "name": "stdout",
          "text": [
            "Длинна s_active: 206\n",
            "Пример значения из s_active: C[C@H]1COc2c(N3CCN(C)CC3)c(F)cc3c(=O)c(C(=O)O)cn1c23\n"
          ]
        }
      ]
    },
    {
      "cell_type": "code",
      "source": [
        "# функция перефода smiles в вектор 0 и 1\n",
        "def get_morgan_fingerprint(smiles: str, radius=2, nBits=4096):\n",
        "    mol = Chem.MolFromSmiles(smiles)\n",
        "    morgan_fp = AllChem.GetMorganFingerprintAsBitVect(mol, radius=radius, nBits=nBits)\n",
        "    return (list(morgan_fp))"
      ],
      "metadata": {
        "id": "G10hLc560Us0"
      },
      "execution_count": null,
      "outputs": []
    },
    {
      "cell_type": "code",
      "source": [
        "# для активных\n",
        "smal_active = []\n",
        "for i in s_active:\n",
        "  sm = get_morgan_fingerprint(i)      # получаю вектор из smiles\n",
        "  smal_active.append(sm)\n",
        "smal_active = np.array(smal_active)   # преобразую в numpy\n",
        "\n",
        "print(f\"Количество молекул активных: {len(smal_active)}\\nДлинна вектора одной молекулы: {len(smal_active[77])}\")\n",
        "print(f'Пример вектора smal_active: {smal_active[77]}')\n",
        "print(f'Размер массива smal_active: {smal_active.shape}')"
      ],
      "metadata": {
        "colab": {
          "base_uri": "https://localhost:8080/"
        },
        "id": "gQGInBx20T0-",
        "outputId": "a4d3bc18-9ff6-4d33-d040-4f797d1ae232"
      },
      "execution_count": null,
      "outputs": [
        {
          "output_type": "stream",
          "name": "stdout",
          "text": [
            "Количество молекул активных: 206\n",
            "Длинна вектора одной молекулы: 4096\n",
            "Пример вектора smal_active: [0 0 0 ... 0 0 0]\n",
            "Размер массива smal_active: (206, 4096)\n"
          ]
        }
      ]
    },
    {
      "cell_type": "code",
      "source": [
        "# для неактивных\n",
        "smal_inactive = []\n",
        "for i in s_inactive:\n",
        "  sm = get_morgan_fingerprint(i)       # получаю вектор из smiles\n",
        "  smal_inactive.append(sm)\n",
        "smal_inactive = np.array(smal_inactive)# преобразую в numpy\n",
        "\n",
        "print(f\"Количество молекул не активных: {len(smal_inactive)}\\nДлинна вектора одной молекулы: {len(smal_inactive[77])}\")\n",
        "print(f'Пример вектора smal_active: {smal_inactive[77]}')\n",
        "print(f'Размер массива smal_inactive: {smal_inactive.shape}')"
      ],
      "metadata": {
        "colab": {
          "base_uri": "https://localhost:8080/"
        },
        "id": "BR3Q6swu0T6H",
        "outputId": "2f26a331-f22d-497d-d2af-4ceef0213c0d"
      },
      "execution_count": null,
      "outputs": [
        {
          "output_type": "stream",
          "name": "stdout",
          "text": [
            "Количество молекул не активных: 5351\n",
            "Длинна вектора одной молекулы: 4096\n",
            "Пример вектора smal_active: [0 0 0 ... 0 0 0]\n",
            "Размер массива smal_inactive: (5351, 4096)\n"
          ]
        }
      ]
    },
    {
      "cell_type": "code",
      "source": [
        "smal_i = np.random.choice(5351, 206, replace = False)"
      ],
      "metadata": {
        "id": "q0AqnQ74TUlk"
      },
      "execution_count": null,
      "outputs": []
    },
    {
      "cell_type": "code",
      "source": [
        "smal_inactive = smal_inactive[smal_i]"
      ],
      "metadata": {
        "id": "UHodc0oDU3ns"
      },
      "execution_count": null,
      "outputs": []
    },
    {
      "cell_type": "code",
      "source": [
        "smal_inactive.shape"
      ],
      "metadata": {
        "colab": {
          "base_uri": "https://localhost:8080/"
        },
        "id": "mUUfJ_xG1By_",
        "outputId": "2a18fd7c-1f38-4e05-a852-b812d025bc3d"
      },
      "execution_count": null,
      "outputs": [
        {
          "output_type": "execute_result",
          "data": {
            "text/plain": [
              "(206, 4096)"
            ]
          },
          "metadata": {},
          "execution_count": 22
        }
      ]
    },
    {
      "cell_type": "code",
      "source": [
        "Y_active = np.ones(206,)\n",
        "Y_active.shape"
      ],
      "metadata": {
        "colab": {
          "base_uri": "https://localhost:8080/"
        },
        "id": "4UEdBCeoWFF9",
        "outputId": "17260f50-692d-4617-c859-5db9fc22a342"
      },
      "execution_count": null,
      "outputs": [
        {
          "output_type": "execute_result",
          "data": {
            "text/plain": [
              "(206,)"
            ]
          },
          "metadata": {},
          "execution_count": 25
        }
      ]
    },
    {
      "cell_type": "code",
      "source": [
        "Y_inactive = np.zeros(206,)\n",
        "Y_inactive.shape"
      ],
      "metadata": {
        "colab": {
          "base_uri": "https://localhost:8080/"
        },
        "id": "H3KFWsgaWT2f",
        "outputId": "a0133ea3-ee36-4299-d49b-370625b85728"
      },
      "execution_count": null,
      "outputs": [
        {
          "output_type": "execute_result",
          "data": {
            "text/plain": [
              "(206,)"
            ]
          },
          "metadata": {},
          "execution_count": 27
        }
      ]
    },
    {
      "cell_type": "code",
      "source": [
        "X_tr = np.concatenate((smal_inactive, smal_active))\n",
        "Y_tr = np.concatenate((Y_inactive, Y_active))\n",
        "X_tr.shape, Y_tr.shape"
      ],
      "metadata": {
        "colab": {
          "base_uri": "https://localhost:8080/"
        },
        "id": "JmdlRzUAVJFC",
        "outputId": "e8c27ccc-7ed5-4ce2-f15e-fa2b6cc18485"
      },
      "execution_count": null,
      "outputs": [
        {
          "output_type": "execute_result",
          "data": {
            "text/plain": [
              "((412, 4096), (412,))"
            ]
          },
          "metadata": {},
          "execution_count": 34
        }
      ]
    },
    {
      "cell_type": "code",
      "source": [
        "# берём неактивные молекулы разбиваем на train_test(только 'X')\n",
        "X_train, X_test, Y_train, Y_test = train_test_split(X_tr, Y_tr, test_size=0.15, shuffle=True)"
      ],
      "metadata": {
        "id": "tbuFb1_b0T-x"
      },
      "execution_count": null,
      "outputs": []
    },
    {
      "cell_type": "code",
      "source": [
        "X_train.shape, Y_train.shape, X_test.shape, Y_test.shape"
      ],
      "metadata": {
        "colab": {
          "base_uri": "https://localhost:8080/"
        },
        "id": "sAewDaTDXPAm",
        "outputId": "8c6d2160-0eda-43f6-d0af-04c2530c4709"
      },
      "execution_count": null,
      "outputs": [
        {
          "output_type": "execute_result",
          "data": {
            "text/plain": [
              "((350, 4096), (350,), (62, 4096), (62,))"
            ]
          },
          "metadata": {},
          "execution_count": 83
        }
      ]
    },
    {
      "cell_type": "code",
      "source": [
        "def Model_cl(): \n",
        "  dataSize = 4096 # размер входного слоя\n",
        "  dataInput = Input(shape=(dataSize)) \n",
        "  \n",
        "  x = Dense(99, activation='relu')(dataInput) \n",
        "  x = BatchNormalization()(x)\n",
        "  x = Dropout(0.7) (x)\n",
        "  x = Dense(13, activation='relu') (x)\n",
        "  x = BatchNormalization()(x)\n",
        "  x = Dropout(0.1) (x)\n",
        "  x = Dense(7, activation='relu') (x)\n",
        "  x = BatchNormalization()(x)\n",
        "  x = Dense(1, activation='sigmoid')(x) \n",
        "  \n",
        "  model = Model(inputs=dataInput, outputs=x) # собрали модель \n",
        "  \n",
        "  model.compile(loss='binary_crossentropy', optimizer=Adam(learning_rate=0.0001), metrics=['accuracy'])\n",
        "  \n",
        "  return model"
      ],
      "metadata": {
        "id": "1G_JDggnYHdc"
      },
      "execution_count": null,
      "outputs": []
    },
    {
      "cell_type": "code",
      "source": [
        "model.summary()"
      ],
      "metadata": {
        "colab": {
          "base_uri": "https://localhost:8080/"
        },
        "id": "-O3x-8d1acIL",
        "outputId": "a33cbb76-6749-4cfb-e9a8-90308091955e"
      },
      "execution_count": null,
      "outputs": [
        {
          "output_type": "stream",
          "name": "stdout",
          "text": [
            "Model: \"model_38\"\n",
            "_________________________________________________________________\n",
            " Layer (type)                Output Shape              Param #   \n",
            "=================================================================\n",
            " input_39 (InputLayer)       [(None, 4096)]            0         \n",
            "                                                                 \n",
            " dense_117 (Dense)           (None, 200)               819400    \n",
            "                                                                 \n",
            " batch_normalization_52 (Bat  (None, 200)              800       \n",
            " chNormalization)                                                \n",
            "                                                                 \n",
            " dropout_58 (Dropout)        (None, 200)               0         \n",
            "                                                                 \n",
            " dense_118 (Dense)           (None, 13)                2613      \n",
            "                                                                 \n",
            " batch_normalization_53 (Bat  (None, 13)               52        \n",
            " chNormalization)                                                \n",
            "                                                                 \n",
            " dropout_59 (Dropout)        (None, 13)                0         \n",
            "                                                                 \n",
            " dense_119 (Dense)           (None, 7)                 98        \n",
            "                                                                 \n",
            " batch_normalization_54 (Bat  (None, 7)                28        \n",
            " chNormalization)                                                \n",
            "                                                                 \n",
            " dense_120 (Dense)           (None, 1)                 8         \n",
            "                                                                 \n",
            "=================================================================\n",
            "Total params: 822,999\n",
            "Trainable params: 822,559\n",
            "Non-trainable params: 440\n",
            "_________________________________________________________________\n"
          ]
        }
      ]
    },
    {
      "cell_type": "code",
      "source": [
        "# Создаём пустую сеть при помощи функции createModel()\n",
        "model = Model_cl()\n",
        "\n",
        "# Обучаем сеть\n",
        "history = model.fit(X_train,         \n",
        "          Y_train,         \n",
        "          batch_size=12,    # Размер батча\n",
        "          epochs=40,      # Количество эпох\n",
        "          validation_data= (X_test, Y_test),\n",
        "          verbose=1)       # Выводить процесс обучения на каждой эпохе\n",
        "\n",
        "plt.plot(history.history['accuracy'], label='Точность на обучающей выборке')\n",
        "plt.plot(history.history['val_accuracy'], label ='Точность на проверочной выборке')\n",
        "plt.xlabel('Эпохи обучения')\n",
        "plt.ylabel('Точность')\n",
        "plt.legend()\n",
        "plt.show()\n",
        "\n",
        "plt.plot(history.history['loss'], label ='Ошибка на обучающей')\n",
        "plt.plot(history.history['val_loss'], label ='Ошибка на проверочной')\n",
        "plt.xlabel('Эпохи обучения')\n",
        "plt.ylabel('Ошибка')\n",
        "plt.legend()\n",
        "plt.show()"
      ],
      "metadata": {
        "colab": {
          "base_uri": "https://localhost:8080/",
          "height": 1000
        },
        "id": "pPD6iseuYnME",
        "outputId": "f2d0453c-3a1d-4dfa-a391-f96cae55c04a"
      },
      "execution_count": null,
      "outputs": [
        {
          "output_type": "stream",
          "name": "stdout",
          "text": [
            "Epoch 1/40\n",
            "30/30 [==============================] - 3s 39ms/step - loss: 0.8859 - accuracy: 0.4543 - val_loss: 0.7040 - val_accuracy: 0.4194\n",
            "Epoch 2/40\n",
            "30/30 [==============================] - 1s 19ms/step - loss: 0.8517 - accuracy: 0.5114 - val_loss: 0.7033 - val_accuracy: 0.4032\n",
            "Epoch 3/40\n",
            "30/30 [==============================] - 1s 19ms/step - loss: 0.8228 - accuracy: 0.5400 - val_loss: 0.7058 - val_accuracy: 0.4032\n",
            "Epoch 4/40\n",
            "30/30 [==============================] - 1s 23ms/step - loss: 0.8069 - accuracy: 0.5371 - val_loss: 0.7031 - val_accuracy: 0.3871\n",
            "Epoch 5/40\n",
            "30/30 [==============================] - 1s 21ms/step - loss: 0.7600 - accuracy: 0.6000 - val_loss: 0.7007 - val_accuracy: 0.3710\n",
            "Epoch 6/40\n",
            "30/30 [==============================] - 1s 24ms/step - loss: 0.7189 - accuracy: 0.5629 - val_loss: 0.6976 - val_accuracy: 0.4355\n",
            "Epoch 7/40\n",
            "30/30 [==============================] - 1s 17ms/step - loss: 0.6792 - accuracy: 0.5800 - val_loss: 0.6947 - val_accuracy: 0.4839\n",
            "Epoch 8/40\n",
            "30/30 [==============================] - 0s 16ms/step - loss: 0.6887 - accuracy: 0.6171 - val_loss: 0.6940 - val_accuracy: 0.5000\n",
            "Epoch 9/40\n",
            "30/30 [==============================] - 0s 15ms/step - loss: 0.6959 - accuracy: 0.6171 - val_loss: 0.6896 - val_accuracy: 0.5323\n",
            "Epoch 10/40\n",
            "30/30 [==============================] - 0s 16ms/step - loss: 0.6200 - accuracy: 0.6714 - val_loss: 0.6774 - val_accuracy: 0.5645\n",
            "Epoch 11/40\n",
            "30/30 [==============================] - 1s 19ms/step - loss: 0.6371 - accuracy: 0.6429 - val_loss: 0.6700 - val_accuracy: 0.5806\n",
            "Epoch 12/40\n",
            "30/30 [==============================] - 0s 16ms/step - loss: 0.6175 - accuracy: 0.6686 - val_loss: 0.6619 - val_accuracy: 0.5968\n",
            "Epoch 13/40\n",
            "30/30 [==============================] - 0s 13ms/step - loss: 0.6161 - accuracy: 0.6629 - val_loss: 0.6535 - val_accuracy: 0.6129\n",
            "Epoch 14/40\n",
            "30/30 [==============================] - 0s 9ms/step - loss: 0.5898 - accuracy: 0.7000 - val_loss: 0.6467 - val_accuracy: 0.6129\n",
            "Epoch 15/40\n",
            "30/30 [==============================] - 0s 10ms/step - loss: 0.5965 - accuracy: 0.6543 - val_loss: 0.6357 - val_accuracy: 0.6774\n",
            "Epoch 16/40\n",
            "30/30 [==============================] - 0s 8ms/step - loss: 0.5785 - accuracy: 0.6829 - val_loss: 0.6364 - val_accuracy: 0.6452\n",
            "Epoch 17/40\n",
            "30/30 [==============================] - 0s 8ms/step - loss: 0.5721 - accuracy: 0.6943 - val_loss: 0.6313 - val_accuracy: 0.6774\n",
            "Epoch 18/40\n",
            "30/30 [==============================] - 0s 8ms/step - loss: 0.5417 - accuracy: 0.7286 - val_loss: 0.6264 - val_accuracy: 0.6774\n",
            "Epoch 19/40\n",
            "30/30 [==============================] - 0s 9ms/step - loss: 0.5470 - accuracy: 0.7086 - val_loss: 0.6238 - val_accuracy: 0.6774\n",
            "Epoch 20/40\n",
            "30/30 [==============================] - 0s 9ms/step - loss: 0.5180 - accuracy: 0.7457 - val_loss: 0.6182 - val_accuracy: 0.6774\n",
            "Epoch 21/40\n",
            "30/30 [==============================] - 0s 9ms/step - loss: 0.5407 - accuracy: 0.7429 - val_loss: 0.6108 - val_accuracy: 0.6774\n",
            "Epoch 22/40\n",
            "30/30 [==============================] - 0s 8ms/step - loss: 0.5243 - accuracy: 0.7314 - val_loss: 0.6094 - val_accuracy: 0.6774\n",
            "Epoch 23/40\n",
            "30/30 [==============================] - 0s 9ms/step - loss: 0.5299 - accuracy: 0.7400 - val_loss: 0.6094 - val_accuracy: 0.6774\n",
            "Epoch 24/40\n",
            "30/30 [==============================] - 0s 9ms/step - loss: 0.4801 - accuracy: 0.7857 - val_loss: 0.6103 - val_accuracy: 0.6774\n",
            "Epoch 25/40\n",
            "30/30 [==============================] - 0s 9ms/step - loss: 0.4790 - accuracy: 0.7657 - val_loss: 0.6094 - val_accuracy: 0.6613\n",
            "Epoch 26/40\n",
            "30/30 [==============================] - 0s 8ms/step - loss: 0.4837 - accuracy: 0.7800 - val_loss: 0.5998 - val_accuracy: 0.6774\n",
            "Epoch 27/40\n",
            "30/30 [==============================] - 0s 8ms/step - loss: 0.5073 - accuracy: 0.7600 - val_loss: 0.5942 - val_accuracy: 0.6774\n",
            "Epoch 28/40\n",
            "30/30 [==============================] - 0s 8ms/step - loss: 0.4798 - accuracy: 0.7714 - val_loss: 0.5935 - val_accuracy: 0.6774\n",
            "Epoch 29/40\n",
            "30/30 [==============================] - 0s 8ms/step - loss: 0.4726 - accuracy: 0.7914 - val_loss: 0.6020 - val_accuracy: 0.6774\n",
            "Epoch 30/40\n",
            "30/30 [==============================] - 0s 9ms/step - loss: 0.4338 - accuracy: 0.8200 - val_loss: 0.6038 - val_accuracy: 0.6613\n",
            "Epoch 31/40\n",
            "30/30 [==============================] - 0s 9ms/step - loss: 0.4585 - accuracy: 0.8029 - val_loss: 0.6060 - val_accuracy: 0.6613\n",
            "Epoch 32/40\n",
            "30/30 [==============================] - 0s 10ms/step - loss: 0.4610 - accuracy: 0.7943 - val_loss: 0.6067 - val_accuracy: 0.6452\n",
            "Epoch 33/40\n",
            "30/30 [==============================] - 0s 9ms/step - loss: 0.4423 - accuracy: 0.8171 - val_loss: 0.6035 - val_accuracy: 0.6613\n",
            "Epoch 34/40\n",
            "30/30 [==============================] - 0s 9ms/step - loss: 0.4261 - accuracy: 0.8200 - val_loss: 0.6030 - val_accuracy: 0.6452\n",
            "Epoch 35/40\n",
            "30/30 [==============================] - 0s 9ms/step - loss: 0.4609 - accuracy: 0.7914 - val_loss: 0.6047 - val_accuracy: 0.6613\n",
            "Epoch 36/40\n",
            "30/30 [==============================] - 0s 10ms/step - loss: 0.4230 - accuracy: 0.8314 - val_loss: 0.6015 - val_accuracy: 0.6774\n",
            "Epoch 37/40\n",
            "30/30 [==============================] - 0s 9ms/step - loss: 0.4324 - accuracy: 0.8286 - val_loss: 0.5990 - val_accuracy: 0.6774\n",
            "Epoch 38/40\n",
            "30/30 [==============================] - 0s 10ms/step - loss: 0.4378 - accuracy: 0.8057 - val_loss: 0.5945 - val_accuracy: 0.6774\n",
            "Epoch 39/40\n",
            "30/30 [==============================] - 0s 9ms/step - loss: 0.4156 - accuracy: 0.8171 - val_loss: 0.5932 - val_accuracy: 0.6613\n",
            "Epoch 40/40\n",
            "30/30 [==============================] - 0s 8ms/step - loss: 0.4017 - accuracy: 0.8400 - val_loss: 0.5921 - val_accuracy: 0.6613\n"
          ]
        },
        {
          "output_type": "display_data",
          "data": {
            "image/png": "[encoded data removed]",
            "text/plain": [
              "<Figure size 432x288 with 1 Axes>"
            ]
          },
          "metadata": {
            "needs_background": "light"
          }
        },
        {
          "output_type": "display_data",
          "data": {
            "image/png": "[encoded data removed]",
            "text/plain": [
              "<Figure size 432x288 with 1 Axes>"
            ]
          },
          "metadata": {
            "needs_background": "light"
          }
        }
      ]
    },
    {
      "cell_type": "code",
      "source": [
        "#model.compile(loss='binary_crossentropy', optimizer=Adam(learning_rate=0.0001), metrics=['accuracy'])\n",
        "\n",
        "# Обучаем сеть\n",
        "history = model.fit(X_train,         \n",
        "          Y_train,         \n",
        "          batch_size=12,    # Размер батча\n",
        "          epochs=20,      # Количество эпох\n",
        "          validation_data= (X_test, Y_test),\n",
        "          verbose=1)       # Выводить процесс обучения на каждой эпохе\n",
        "\n",
        "plt.plot(history.history['accuracy'], label='Точность на обучающей выборке')\n",
        "plt.plot(history.history['val_accuracy'], label ='Точность на проверочной выборке')\n",
        "plt.xlabel('Эпохи обучения')\n",
        "plt.ylabel('Точность')\n",
        "plt.legend()\n",
        "plt.show()\n",
        "\n",
        "plt.plot(history.history['loss'], label ='Ошибка на обучающей')\n",
        "plt.plot(history.history['val_loss'], label ='Ошибка на проверочной')\n",
        "plt.xlabel('Эпохи обучения')\n",
        "plt.ylabel('Ошибка')\n",
        "plt.legend()\n",
        "plt.show()"
      ],
      "metadata": {
        "id": "0DTSXp_JenHN"
      },
      "execution_count": null,
      "outputs": []
    },
    {
      "cell_type": "code",
      "source": [
        "model.compile(loss='binary_crossentropy', optimizer=Adam(learning_rate=0.00001), metrics=['accuracy'])\n",
        "\n",
        "# Обучаем сеть\n",
        "history = model.fit(X_train,         \n",
        "          Y_train,         \n",
        "          batch_size=12,    # Размер батча\n",
        "          epochs=20,      # Количество эпох\n",
        "          validation_data= (X_test, Y_test),\n",
        "          verbose=1)       # Выводить процесс обучения на каждой эпохе\n",
        "\n",
        "plt.plot(history.history['accuracy'], label='Точность на обучающей выборке')\n",
        "plt.plot(history.history['val_accuracy'], label ='Точность на проверочной выборке')\n",
        "plt.xlabel('Эпохи обучения')\n",
        "plt.ylabel('Точность')\n",
        "plt.legend()\n",
        "plt.show()\n",
        "\n",
        "plt.plot(history.history['loss'], label ='Ошибка на обучающей')\n",
        "plt.plot(history.history['val_loss'], label ='Ошибка на проверочной')\n",
        "plt.xlabel('Эпохи обучения')\n",
        "plt.ylabel('Ошибка')\n",
        "plt.legend()\n",
        "plt.show()"
      ],
      "metadata": {
        "id": "saFCoVYJf7Hj"
      },
      "execution_count": null,
      "outputs": []
    },
    {
      "cell_type": "code",
      "source": [
        "predictions_test = model.predict(test) # делаем предсказание по X_test на неактивных молекулах"
      ],
      "metadata": {
        "id": "ytxwNDU5ksMk"
      },
      "execution_count": null,
      "outputs": []
    },
    {
      "cell_type": "code",
      "source": [
        "predictions_test.shape"
      ],
      "metadata": {
        "colab": {
          "base_uri": "https://localhost:8080/"
        },
        "id": "lQEwOz6rkcoq",
        "outputId": "f501fc57-79f8-45ff-c8c2-700ec6441ba3"
      },
      "execution_count": null,
      "outputs": [
        {
          "output_type": "execute_result",
          "data": {
            "text/plain": [
              "(1614, 1)"
            ]
          },
          "metadata": {},
          "execution_count": 186
        }
      ]
    },
    {
      "cell_type": "code",
      "source": [
        "for i in range(len(predictions_test)):\n",
        "  if predictions_test[i] > 0.5:\n",
        "    submission['Active'].values[i] = 0\n",
        "  else:\n",
        "    submission['Active'].values[i] = 1"
      ],
      "metadata": {
        "id": "PcOcszoBkIJ7"
      },
      "execution_count": null,
      "outputs": []
    },
    {
      "cell_type": "code",
      "source": [
        "submission.to_csv('submission.csv', index=False)"
      ],
      "metadata": {
        "id": "fqsAjz4VlRcE"
      },
      "execution_count": null,
      "outputs": []
    },
    {
      "cell_type": "markdown",
      "source": [
        "#Всякий код со статей"
      ],
      "metadata": {
        "id": "Qlol00FhxUWa"
      }
    },
    {
      "cell_type": "code",
      "execution_count": null,
      "metadata": {
        "id": "F2ur3YZan5bF"
      },
      "outputs": [],
      "source": [
        "# Colab setup ------------------\n",
        "import os, sys, subprocess\n",
        "if \"google.colab\" in sys.modules:\n",
        "    cmd = \"pip install --upgrade watermark\"\n",
        "    process = subprocess.Popen(cmd.split(), stdout=subprocess.PIPE)"
      ]
    },
    {
      "cell_type": "code",
      "execution_count": null,
      "metadata": {
        "id": "NnT5PIEqn8Tk"
      },
      "outputs": [],
      "source": [
        "import glob\n",
        "\n",
        "data_path = \"/content\"\n",
        "\n",
        "with open(os.path.join(data_path, 'target.pdb'), 'r') as f:\n",
        "    f_list = f.readlines()"
      ]
    },
    {
      "cell_type": "code",
      "execution_count": null,
      "metadata": {
        "colab": {
          "base_uri": "https://localhost:8080/"
        },
        "id": "mxwY1rxoojCc",
        "outputId": "d17763da-3a64-4b24-df61-ce602ddb7e49"
      },
      "outputs": [
        {
          "data": {
            "text/plain": [
              "['HEADER    VIRAL PROTEIN                           18-NOV-20   7KR0              \\n',\n",
              " 'TITLE     CRYSTAL STRUCTURE OF SARS-COV-2 NSP3 MACRODOMAIN (C2 CRYSTAL FORM, 100\\n',\n",
              " 'TITLE    2 K)                                                                   \\n',\n",
              " 'CAVEAT     7KR0    RESIDUES LEU A 169 AND GLU A 170 THAT ARE NEXT TO EACH OTHER \\n',\n",
              " 'CAVEAT   2 7KR0    IN THE SAMPLE SEQUENCE ARE NOT PROPERLY LINKED IN THE B      \\n',\n",
              " 'CAVEAT   3 7KR0    CONFORMER.                                                   \\n',\n",
              " 'COMPND    MOL_ID: 1;                                                            \\n',\n",
              " 'COMPND   2 MOLECULE: NON-STRUCTURAL PROTEIN 3;                                  \\n',\n",
              " 'COMPND   3 CHAIN: A;                                                            \\n',\n",
              " 'COMPND   4 FRAGMENT: MACRODOMAIN (UNP RESIDUES 1024-1192);                      \\n',\n",
              " 'COMPND   5 SYNONYM: NSP3,PL2-PRO,PAPAIN-LIKE PROTEASE,PAPAIN-LIKE PROTEINASE,PL-\\n',\n",
              " 'COMPND   6 PRO;                                                                 \\n',\n",
              " 'COMPND   7 EC: 3.4.19.121, 3.4.22.-;                                            \\n',\n",
              " 'COMPND   8 ENGINEERED: YES                                                      \\n',\n",
              " 'SOURCE    MOL_ID: 1;                                                            \\n',\n",
              " 'SOURCE   2 ORGANISM_SCIENTIFIC: SEVERE ACUTE RESPIRATORY SYNDROME CORONAVIRUS   \\n',\n",
              " 'SOURCE   3 2;                                                                   \\n',\n",
              " 'SOURCE   4 ORGANISM_COMMON: 2019-NCOV;                                          \\n',\n",
              " 'SOURCE   5 ORGANISM_TAXID: 2697049;                                             \\n',\n",
              " 'SOURCE   6 EXPRESSION_SYSTEM: ESCHERICHIA COLI BL21(DE3);                       \\n',\n",
              " 'SOURCE   7 EXPRESSION_SYSTEM_TAXID: 469008                                      \\n',\n",
              " 'KEYWDS    MACRODOMAIN, ADP-RIBOSE, SARS-COV-2, VIRAL PROTEIN                    \\n',\n",
              " 'EXPDTA    X-RAY DIFFRACTION                                                     \\n',\n",
              " 'AUTHOR    G.J.CORREY,I.D.YOUNG,M.C.THOMPSON,J.S.FRASER                          \\n',\n",
              " 'REVDAT   3   30-JUN-21 7KR0    1       JRNL                                     \\n',\n",
              " 'REVDAT   2   27-JAN-21 7KR0    1       COMPND                                   \\n',\n",
              " 'REVDAT   1   09-DEC-20 7KR0    0                                                \\n',\n",
              " 'JRNL        AUTH   M.SCHULLER,G.J.CORREY,S.GAHBAUER,D.FEARON,T.WU,R.E.DIAZ,     \\n',\n",
              " 'JRNL        AUTH 2 I.D.YOUNG,L.CARVALHO MARTINS,D.H.SMITH,U.SCHULZE-GAHMEN,     \\n',\n",
              " 'JRNL        AUTH 3 T.W.OWENS,I.DESHPANDE,G.E.MERZ,A.C.THWIN,J.T.BIEL,           \\n']"
            ]
          },
          "execution_count": 8,
          "metadata": {},
          "output_type": "execute_result"
        }
      ],
      "source": [
        "f_list[:30]"
      ]
    },
    {
      "cell_type": "code",
      "execution_count": null,
      "metadata": {
        "colab": {
          "base_uri": "https://localhost:8080/"
        },
        "id": "YZsEhz__o1g0",
        "outputId": "f3d60324-5f61-4ff6-a6b8-2a73e5d283da"
      },
      "outputs": [
        {
          "data": {
            "text/plain": [
              "7025"
            ]
          },
          "execution_count": 9,
          "metadata": {},
          "output_type": "execute_result"
        }
      ],
      "source": [
        "len(f_list)"
      ]
    },
    {
      "cell_type": "code",
      "execution_count": null,
      "metadata": {
        "colab": {
          "base_uri": "https://localhost:8080/"
        },
        "id": "Pu_TXVqN4U7o",
        "outputId": "6ecf0637-fee3-4c5b-9986-2c92de1fd862"
      },
      "outputs": [
        {
          "name": "stdout",
          "output_type": "stream",
          "text": [
            "\u001b[K     |████████████████████████████████| 57 kB 2.6 MB/s \n",
            "\u001b[K     |████████████████████████████████| 56 kB 3.9 MB/s \n",
            "\u001b[?25h"
          ]
        }
      ],
      "source": [
        "!pip install kora -q\n",
        "import kora.install.rdkit"
      ]
    },
    {
      "cell_type": "code",
      "execution_count": null,
      "metadata": {
        "id": "g7VSYjdW3b1r"
      },
      "outputs": [],
      "source": [
        "from rdkit import Chem\n",
        "from rdkit.Chem import Draw\n",
        "\n",
        "# define the smiles string and covert it into a molecule sturcture ------------\n",
        "caffeine_smiles = 'CN1C=NC2=C1C(=O)N(C(=O)N2C)C'\n",
        "\n",
        "mol = Chem.MolFromSmiles(caffeine_smiles)\n",
        "\n",
        "# draw the modecule -----------------------------------------------------------\n",
        "Draw.MolToFile(mol, 'caffeine.png')\n",
        "\n",
        "# draw the molecule with property ---------------------------------------------\n",
        "for i, atom in enumerate(mol.GetAtoms()):\n",
        "    atom.SetProp(\"molAtomMapNumber\", str(atom.GetIdx()))\n",
        "    \n",
        "Draw.MolToFile(mol, 'caffeine_with_prop.png')"
      ]
    },
    {
      "cell_type": "code",
      "execution_count": null,
      "metadata": {
        "colab": {
          "base_uri": "https://localhost:8080/"
        },
        "id": "cTtgOgPo7QeA",
        "outputId": "97c00202-70a0-4bb0-8dca-791a481f6143"
      },
      "outputs": [
        {
          "name": "stdout",
          "output_type": "stream",
          "text": [
            "0 , 6 , False , C\n",
            "1 , 7 , True , N\n",
            "2 , 6 , True , C\n",
            "3 , 7 , True , N\n",
            "4 , 6 , True , C\n",
            "5 , 6 , True , C\n",
            "6 , 6 , True , C\n",
            "7 , 8 , False , O\n",
            "8 , 7 , True , N\n",
            "9 , 6 , True , C\n",
            "10 , 8 , False , O\n",
            "11 , 7 , True , N\n",
            "12 , 6 , False , C\n",
            "13 , 6 , False , C\n",
            "0 , 1 , SINGLE\n",
            "1 , 2 , AROMATIC\n",
            "2 , 3 , AROMATIC\n",
            "3 , 4 , AROMATIC\n",
            "4 , 5 , AROMATIC\n",
            "5 , 6 , AROMATIC\n",
            "6 , 7 , DOUBLE\n",
            "6 , 8 , AROMATIC\n",
            "8 , 9 , AROMATIC\n",
            "9 , 10 , DOUBLE\n",
            "9 , 11 , AROMATIC\n",
            "11 , 12 , SINGLE\n",
            "8 , 13 , SINGLE\n",
            "5 , 1 , AROMATIC\n",
            "11 , 4 , AROMATIC\n"
          ]
        }
      ],
      "source": [
        "\n",
        "# define the smiles string and covert it into a molecule sturcture ------------\n",
        "caffeine_smiles = 'CN1C=NC2=C1C(=O)N(C(=O)N2C)C'\n",
        "\n",
        "mol = Chem.MolFromSmiles(caffeine_smiles)\n",
        "\n",
        "# print the atoms of the molecule ---------------------------------------------\n",
        "for atom in mol.GetAtoms():\n",
        "    print(atom.GetIdx(),',',\n",
        "          atom.GetAtomicNum(),',',\n",
        "          atom.GetIsAromatic(),',',\n",
        "          atom.GetSymbol())\n",
        " \n",
        "# print the bonds of the molecule ---------------------------------------------\n",
        "for bond in mol.GetBonds():\n",
        "    print(bond.GetBeginAtomIdx(),',',\n",
        "          bond.GetEndAtomIdx(),',',\n",
        "          bond.GetBondType())"
      ]
    },
    {
      "cell_type": "code",
      "execution_count": null,
      "metadata": {
        "colab": {
          "base_uri": "https://localhost:8080/"
        },
        "id": "OyH5iJex7v_K",
        "outputId": "2fe8a2cf-cd70-4cf4-c77f-aa228d4adb43"
      },
      "outputs": [
        {
          "name": "stdout",
          "output_type": "stream",
          "text": [
            ">>> RDK Fingerprint =  <rdkit.DataStructs.cDataStructs.ExplicitBitVect object at 0x7fe86eda61c0>\n",
            ">>> RDK Fingerprint in numpy =  [1 1 0 ... 0 0 1]\n",
            ">>> RDK Fingerprint in numpy shape =  (2048,)\n",
            "\n",
            ">>> Morgan Fingerprint =  <rdkit.DataStructs.cDataStructs.ExplicitBitVect object at 0x7fe86eda6800>\n",
            ">>> Morgan Fingerprint in numpy :  [0 0 0 ... 0 0 0]\n",
            ">>> Morgan Fingerprint in numpy shape =  (2048,)\n",
            "\n"
          ]
        }
      ],
      "source": [
        "# import RDKit ----------------------------------------------------------------\n",
        "from rdkit import Chem\n",
        "from rdkit.Chem import RDKFingerprint\n",
        "from rdkit.Chem import rdMolDescriptors\n",
        "\n",
        "# import numpy for data type conversion ---------------------------------------\n",
        "import numpy as np\n",
        "\n",
        "# define the smiles string and covert it into a molecule sturcture ------------\n",
        "caffeine_smiles = 'CN1C=NC2=C1C(=O)N(C(=O)N2C)C'\n",
        "\n",
        "mol = Chem.MolFromSmiles(caffeine_smiles)\n",
        "\n",
        "# retrieving RDK Fingerprint --------------------------------------------------\n",
        "fingerprint_rdk = RDKFingerprint(mol)\n",
        "print(\">>> RDK Fingerprint = \", fingerprint_rdk)\n",
        "\n",
        "fingerprint_rdk_np = np.array(fingerprint_rdk)\n",
        "print(\">>> RDK Fingerprint in numpy = \", fingerprint_rdk_np)\n",
        "print(\">>> RDK Fingerprint in numpy shape = \", fingerprint_rdk_np.shape)\n",
        "\n",
        "print()\n",
        "\n",
        "# retrieving Morgan Fingerprint ----------------------------------------------- \n",
        "fingerprint_morgan = rdMolDescriptors.GetMorganFingerprintAsBitVect(mol, radius=2)\n",
        "print(\">>> Morgan Fingerprint = \", fingerprint_morgan)\n",
        "\n",
        "fingerprint_morgan_np = np.array(fingerprint_morgan)\n",
        "print(\">>> Morgan Fingerprint in numpy : \", fingerprint_morgan_np)\n",
        "print(\">>> Morgan Fingerprint in numpy shape = \", fingerprint_morgan_np.shape)\n",
        "\n",
        "print()"
      ]
    },
    {
      "cell_type": "code",
      "execution_count": null,
      "metadata": {
        "colab": {
          "base_uri": "https://localhost:8080/"
        },
        "id": "2WYdGUqR7-9E",
        "outputId": "1adc6d6d-bbb7-4c73-f413-af2dcac77735"
      },
      "outputs": [
        {
          "name": "stdout",
          "output_type": "stream",
          "text": [
            "(120, 56)\n"
          ]
        }
      ],
      "source": [
        "# import library --------------------------------------------------------------\n",
        "import numpy as np\n",
        "\n",
        "# define SMILES characters ----------------------------------------------------\n",
        "SMILES_CHARS = [' ',\n",
        "                '#', '%', '(', ')', '+', '-', '.', '/',\n",
        "                '0', '1', '2', '3', '4', '5', '6', '7', '8', '9',\n",
        "                '=', '@',\n",
        "                'A', 'B', 'C', 'F', 'H', 'I', 'K', 'L', 'M', 'N', 'O', 'P',\n",
        "                'R', 'S', 'T', 'V', 'X', 'Z',\n",
        "                '[', '\\\\', ']',\n",
        "                'a', 'b', 'c', 'e', 'g', 'i', 'l', 'n', 'o', 'p', 'r', 's',\n",
        "                't', 'u']\n",
        "                \n",
        "# define encoder and decoder --------------------------------------------------\n",
        "smi2index = dict( (c,i) for i,c in enumerate( SMILES_CHARS ) )\n",
        "index2smi = dict( (i,c) for i,c in enumerate( SMILES_CHARS ) )\n",
        "\n",
        "def smiles_encoder( smiles, maxlen=120 ):\n",
        "    X = np.zeros( ( maxlen, len( SMILES_CHARS ) ) )\n",
        "    for i, c in enumerate( smiles ):\n",
        "        X[i, smi2index[c] ] = 1\n",
        "    return X\n",
        "\n",
        "def smiles_decoder( X ):\n",
        "    smi = ''\n",
        "    X = X.argmax( axis=-1 )\n",
        "    for i in X:\n",
        "        smi += index2smi[ i ]\n",
        "    return smi\n",
        "\n",
        "# get a taste of caffeine -----------------------------------------------------\n",
        "caffeine_smiles = 'CN1C=NC2=C1C(=O)N(C(=O)N2C)C'\n",
        "\n",
        "caffeine_encoding = smiles_encoder(caffeine_smiles)\n",
        "\n",
        "print(caffeine_encoding.shape) # (120, 56)"
      ]
    },
    {
      "cell_type": "code",
      "execution_count": null,
      "metadata": {
        "id": "x6ts9tJQK-UF"
      },
      "outputs": [],
      "source": [
        "!pip install git+https://github.com/samoturk/mol2vec"
      ]
    },
    {
      "cell_type": "code",
      "execution_count": null,
      "metadata": {
        "id": "aj1Pyp1mJ1bC"
      },
      "outputs": [],
      "source": [
        "# import rdkit/mol2vec/word2vec -----------------------------------------------\n",
        "from rdkit import Chem\n",
        "from mol2vec.features import mol2alt_sentence, MolSentence, DfVec, sentences2vec\n",
        "from gensim.models import word2vec\n",
        "\n",
        "# import numpy/pandas ---------------------------------------------------------\n",
        "import numpy as np\n",
        "import pandas as pd\n",
        "\n",
        "print(\">>> read the data file ... \")\n",
        "hiv = pd.read_csv('HIV.csv')\n",
        "print(\">>> data shape = \", hiv.shape)\n",
        "print(\">>> data columns = \", hiv.columns, \"\\n\")\n",
        "print(hiv)\n",
        "print()\n",
        "\n",
        "print(\">>> create mol from smiles ... \")\n",
        "hiv['mol'] = hiv['smiles'].apply(lambda x: Chem.MolFromSmiles(x)) \n",
        "\n",
        "print(\">>> create sentence from mol ... \")\n",
        "hiv['sentence'] = hiv.apply(lambda x: MolSentence(mol2alt_sentence(x['mol'], radius=1)), axis=1)\n",
        "\n",
        "print(\">>> load the word2vec model ... \")\n",
        "w2v_model = word2vec.Word2Vec.load('model_300dim.pkl')\n",
        "\n",
        "print(\">>> create embedding from sentence ... \")\n",
        "hiv['embedding'] = [DfVec(x) for x in sentences2vec(hiv['sentence'], w2v_model)]\n",
        "\n",
        "print(\">>> data columns = \", hiv.columns, \"\\n\")\n",
        "\n",
        "hiv_mol2vec = np.array([x.vec for x in hiv['embedding']])\n",
        "hiv_mol2vec = pd.DataFrame(hiv_mol2vec)\n",
        "print(\">>> hiv_mol2vec shape = \", hiv_mol2vec.shape)\n",
        "print(hiv_mol2vec)\n",
        "print()"
      ]
    },
    {
      "cell_type": "code",
      "execution_count": null,
      "metadata": {
        "colab": {
          "base_uri": "https://localhost:8080/",
          "height": 562
        },
        "id": "Ge5lwh81L_BQ",
        "outputId": "8c54d518-f5a5-4250-c066-65059d1e0db8"
      },
      "outputs": [
        {
          "data": {
            "image/png": "[encoded data removed]",
            "text/plain": [
              "<Figure size 432x288 with 1 Axes>"
            ]
          },
          "metadata": {},
          "output_type": "display_data"
        },
        {
          "name": "stdout",
          "output_type": "stream",
          "text": [
            "[[0. 1. 0. 0. 0. 0. 0. 0. 0. 0. 0. 0. 0. 0.]\n",
            " [1. 0. 1. 0. 0. 1. 0. 0. 0. 0. 0. 0. 0. 0.]\n",
            " [0. 1. 0. 1. 0. 0. 0. 0. 0. 0. 0. 0. 0. 0.]\n",
            " [0. 0. 1. 0. 1. 0. 0. 0. 0. 0. 0. 0. 0. 0.]\n",
            " [0. 0. 0. 1. 0. 1. 0. 0. 0. 0. 0. 1. 0. 0.]\n",
            " [0. 1. 0. 0. 1. 0. 1. 0. 0. 0. 0. 0. 0. 0.]\n",
            " [0. 0. 0. 0. 0. 1. 0. 1. 1. 0. 0. 0. 0. 0.]\n",
            " [0. 0. 0. 0. 0. 0. 1. 0. 0. 0. 0. 0. 0. 0.]\n",
            " [0. 0. 0. 0. 0. 0. 1. 0. 0. 1. 0. 0. 0. 1.]\n",
            " [0. 0. 0. 0. 0. 0. 0. 0. 1. 0. 1. 1. 0. 0.]\n",
            " [0. 0. 0. 0. 0. 0. 0. 0. 0. 1. 0. 0. 0. 0.]\n",
            " [0. 0. 0. 0. 1. 0. 0. 0. 0. 1. 0. 0. 1. 0.]\n",
            " [0. 0. 0. 0. 0. 0. 0. 0. 0. 0. 0. 1. 0. 0.]\n",
            " [0. 0. 0. 0. 0. 0. 0. 0. 1. 0. 0. 0. 0. 0.]]\n"
          ]
        }
      ],
      "source": [
        "# import library --------------------------------------------------------------\n",
        "from rdkit import Chem\n",
        "import networkx as nx\n",
        "import matplotlib.pyplot as plt\n",
        "\n",
        "# define the smiles string and covert it into a molecule sturcture ------------\n",
        "caffeine_smiles = 'CN1C=NC2=C1C(=O)N(C(=O)N2C)C'\n",
        "caffeine_mol = Chem.MolFromSmiles(caffeine_smiles)\n",
        "\n",
        "# define the function for coverting rdkit object to networkx object -----------     \n",
        "def mol_to_nx(mol):\n",
        "    G = nx.Graph()\n",
        "\n",
        "    for atom in mol.GetAtoms():\n",
        "        G.add_node(atom.GetIdx(),\n",
        "                   atomic_num=atom.GetAtomicNum(),\n",
        "                   is_aromatic=atom.GetIsAromatic(),\n",
        "                   atom_symbol=atom.GetSymbol())\n",
        "        \n",
        "    for bond in mol.GetBonds():\n",
        "        G.add_edge(bond.GetBeginAtomIdx(),\n",
        "                   bond.GetEndAtomIdx(),\n",
        "                   bond_type=bond.GetBondType())\n",
        "        \n",
        "    return G\n",
        "\n",
        "# conver rdkit object to networkx object --------------------------------------\n",
        "caffeine_nx = mol_to_nx(caffeine_mol)\n",
        "\n",
        "caffeine_atom = nx.get_node_attributes(caffeine_nx, 'atom_symbol')\n",
        "\n",
        "color_map = {'C': 'cyan',\n",
        "             'O': 'orange',\n",
        "             'N': 'magenta'}  \n",
        "\n",
        "caffeine_colors = []\n",
        "for idx in caffeine_nx.nodes():\n",
        "    if (caffeine_nx.nodes[idx]['atom_symbol'] in color_map):\n",
        "        caffeine_colors.append(color_map[caffeine_nx.nodes[idx]['atom_symbol']])\n",
        "    else:\n",
        "        caffeine_colors.append('gray')\n",
        "    \n",
        "nx.draw(caffeine_nx,\n",
        "        labels=caffeine_atom,\n",
        "        with_labels = True,\n",
        "        node_color=caffeine_colors,\n",
        "        node_size=800)\n",
        "\n",
        "plt.show()\n",
        "\n",
        "# print out the adjacency matrix ---------------------------------------------- \n",
        "matrix = nx.to_numpy_matrix(caffeine_nx)\n",
        "print(matrix)"
      ]
    },
    {
      "cell_type": "code",
      "execution_count": null,
      "metadata": {
        "id": "2gcdqJmrMcjK"
      },
      "outputs": [],
      "source": [
        "# import rdkit/networkx/graph2vec ---------------------------------------------\n",
        "from rdkit import Chem\n",
        "import networkx as nx\n",
        "from karateclub import Graph2Vec\n",
        "\n",
        "# import numpy/pandas ---------------------------------------------------------\n",
        "import numpy as np\n",
        "import pandas as pd\n",
        "\n",
        "print(\">>> read the data file ... \")\n",
        "hiv = pd.read_csv('HIV.csv')\n",
        "print(\">>> data shape = \", hiv.shape)\n",
        "print(\">>> data columns = \", hiv.columns, \"\\n\")\n",
        "print(hiv)\n",
        "print()\n",
        "\n",
        "print(\">>> create mol from smiles ... \")\n",
        "hiv['mol'] = hiv['smiles'].apply(lambda x: Chem.MolFromSmiles(x)) \n",
        "\n",
        "# define the function for coverting rdkit object to networkx object -----------     \n",
        "def mol_to_nx(mol):\n",
        "    G = nx.Graph()\n",
        "\n",
        "    for atom in mol.GetAtoms():\n",
        "        G.add_node(atom.GetIdx(),\n",
        "                   atomic_num=atom.GetAtomicNum(),\n",
        "                   is_aromatic=atom.GetIsAromatic(),\n",
        "                   atom_symbol=atom.GetSymbol())\n",
        "        \n",
        "    for bond in mol.GetBonds():\n",
        "        G.add_edge(bond.GetBeginAtomIdx(),\n",
        "                   bond.GetEndAtomIdx(),\n",
        "                   bond_type=bond.GetBondType())\n",
        "        \n",
        "    return G\n",
        "\n",
        "print(\">>> create nx from mol ... \")\n",
        "hiv['graph'] = hiv['mol'].apply(lambda x: mol_to_nx(x))\n",
        "\n",
        "print(\">>> create graph embedding ... \")\n",
        "model = Graph2Vec()\n",
        "model.fit(hiv['graph'])\n",
        "hiv_graph2vec = model.get_embedding()\n",
        "\n",
        "hiv_graph2vec = pd.DataFrame(hiv_graph2vec)\n",
        "print(\">>> hiv_graph2vec shape = \", hiv_graph2vec.shape)\n",
        "print(hiv_graph2vec)\n",
        "print()"
      ]
    }
  ],
  "metadata": {
    "colab": {
      "name": "Global AI Challenge_1.ipynb",
      "provenance": [],
      "collapsed_sections": [],
      "authorship_tag": "ABX9TyOwQZFkfKcHgSGN/GUsyG9a",
      "include_colab_link": true
    },
    "kernelspec": {
      "display_name": "Python 3",
      "name": "python3"
    },
    "language_info": {
      "name": "python"
    },
    "accelerator": "GPU"
  },
  "nbformat": 4,
  "nbformat_minor": 0
}